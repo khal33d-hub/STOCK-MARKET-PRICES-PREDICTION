{
 "cells": [
  {
   "cell_type": "code",
   "execution_count": 68,
   "metadata": {},
   "outputs": [],
   "source": [
    "import requests\n",
    "import pandas as pd\n",
    "import json\n",
    "from datetime import datetime"
   ]
  },
  {
   "cell_type": "markdown",
   "metadata": {},
   "source": [
    "## TESLA"
   ]
  },
  {
   "cell_type": "code",
   "execution_count": 69,
   "metadata": {},
   "outputs": [],
   "source": [
    "url = \"https://apidojo-yahoo-finance-v1.p.rapidapi.com/stock/v2/get-chart\"\n",
    "\n",
    "querystring = {\"symbol\":\"TSLA\",\"interval\":\"1d\",\"range\":\"10y\",\"region\":\"US\"}\n",
    "\n",
    "headers = {\n",
    "    'x-rapidapi-key': \"243ef897b3msh844988ee7a01b7fp192ddajsnbd64c87292e2\",\n",
    "    'x-rapidapi-host': \"apidojo-yahoo-finance-v1.p.rapidapi.com\"\n",
    "    }\n",
    "\n",
    "response = requests.request(\"GET\", url, headers=headers, params=querystring)"
   ]
  },
  {
   "cell_type": "code",
   "execution_count": 71,
   "metadata": {},
   "outputs": [],
   "source": [
    "def print_json(response):\n",
    "    word = json.dumps(response, sort_keys=True, indent=4)\n",
    "    \n",
    "    print(word)\n",
    "\n",
    "    \n",
    "#print_json(response.json())"
   ]
  },
  {
   "cell_type": "code",
   "execution_count": 6,
   "metadata": {},
   "outputs": [],
   "source": [
    "data=response.json()"
   ]
  },
  {
   "cell_type": "code",
   "execution_count": 17,
   "metadata": {},
   "outputs": [],
   "source": [
    "timestam = data[\"chart\"][\"result\"][0][\"timestamp\"]\n",
    "Clos = data[\"chart\"][\"result\"][0][\"indicators\"][\"quote\"][0][\"close\"]\n",
    "Ope = data[\"chart\"][\"result\"][0][\"indicators\"][\"quote\"][0][\"open\"]\n",
    "lo = data[\"chart\"][\"result\"][0][\"indicators\"][\"quote\"][0][\"low\"]\n",
    "hig = data[\"chart\"][\"result\"][0][\"indicators\"][\"quote\"][0][\"high\"]\n",
    "Volum = data[\"chart\"][\"result\"][0][\"indicators\"][\"quote\"][0][\"volume\"]\n",
    "# AdjClos = data[\"chart\"][\"result\"][0][\"indicators\"][\"adjclose\"][0]['adjclose']"
   ]
  },
  {
   "cell_type": "code",
   "execution_count": 18,
   "metadata": {},
   "outputs": [],
   "source": [
    "dict_of_lists = {\"timestamp\":timestam,\n",
    "                \"Close\":Clos,\n",
    "                \"Open\":Ope,\n",
    "                \"Low\":lo,\n",
    "                \"High\":hig,\n",
    "                \"Volume\":Volum}"
   ]
  },
  {
   "cell_type": "code",
   "execution_count": 19,
   "metadata": {},
   "outputs": [],
   "source": [
    "Tsla_df = pd.DataFrame(dict_of_lists)"
   ]
  },
  {
   "cell_type": "code",
   "execution_count": 20,
   "metadata": {},
   "outputs": [],
   "source": [
    "Tsla_df['timestamp'] = Tsla_df['timestamp'].apply(lambda x: datetime.fromtimestamp(x))"
   ]
  },
  {
   "cell_type": "code",
   "execution_count": 21,
   "metadata": {},
   "outputs": [],
   "source": [
    "Tsla_df['timestamp'] = Tsla_df['timestamp'].dt.strftime('%Y-%m-%d')\n",
    "\n",
    "# Tsla_df['timestamp'] = Tsla_df['timestamp'].apply(lambda x: datetime.fromtimestamp(x))\n",
    "# Tsla_df['timestamp'] = Tsla_df['timestamp'].dt.strftime('%Y-%m-%d')"
   ]
  },
  {
   "cell_type": "code",
   "execution_count": 22,
   "metadata": {},
   "outputs": [
    {
     "data": {
      "text/html": [
       "<div>\n",
       "<style scoped>\n",
       "    .dataframe tbody tr th:only-of-type {\n",
       "        vertical-align: middle;\n",
       "    }\n",
       "\n",
       "    .dataframe tbody tr th {\n",
       "        vertical-align: top;\n",
       "    }\n",
       "\n",
       "    .dataframe thead th {\n",
       "        text-align: right;\n",
       "    }\n",
       "</style>\n",
       "<table border=\"1\" class=\"dataframe\">\n",
       "  <thead>\n",
       "    <tr style=\"text-align: right;\">\n",
       "      <th></th>\n",
       "      <th>timestamp</th>\n",
       "      <th>Close</th>\n",
       "      <th>Open</th>\n",
       "      <th>Low</th>\n",
       "      <th>High</th>\n",
       "      <th>Volume</th>\n",
       "    </tr>\n",
       "  </thead>\n",
       "  <tbody>\n",
       "    <tr>\n",
       "      <th>0</th>\n",
       "      <td>2011-04-04</td>\n",
       "      <td>5.166</td>\n",
       "      <td>5.366</td>\n",
       "      <td>5.046</td>\n",
       "      <td>5.400</td>\n",
       "      <td>13046500</td>\n",
       "    </tr>\n",
       "    <tr>\n",
       "      <th>1</th>\n",
       "      <td>2011-04-05</td>\n",
       "      <td>5.340</td>\n",
       "      <td>5.180</td>\n",
       "      <td>5.138</td>\n",
       "      <td>5.400</td>\n",
       "      <td>15904500</td>\n",
       "    </tr>\n",
       "    <tr>\n",
       "      <th>2</th>\n",
       "      <td>2011-04-06</td>\n",
       "      <td>5.298</td>\n",
       "      <td>5.398</td>\n",
       "      <td>5.160</td>\n",
       "      <td>5.402</td>\n",
       "      <td>6441500</td>\n",
       "    </tr>\n",
       "    <tr>\n",
       "      <th>3</th>\n",
       "      <td>2011-04-07</td>\n",
       "      <td>5.448</td>\n",
       "      <td>5.370</td>\n",
       "      <td>5.290</td>\n",
       "      <td>5.588</td>\n",
       "      <td>14051500</td>\n",
       "    </tr>\n",
       "    <tr>\n",
       "      <th>4</th>\n",
       "      <td>2011-04-08</td>\n",
       "      <td>5.298</td>\n",
       "      <td>5.516</td>\n",
       "      <td>5.272</td>\n",
       "      <td>5.520</td>\n",
       "      <td>9732000</td>\n",
       "    </tr>\n",
       "  </tbody>\n",
       "</table>\n",
       "</div>"
      ],
      "text/plain": [
       "    timestamp  Close   Open    Low   High    Volume\n",
       "0  2011-04-04  5.166  5.366  5.046  5.400  13046500\n",
       "1  2011-04-05  5.340  5.180  5.138  5.400  15904500\n",
       "2  2011-04-06  5.298  5.398  5.160  5.402   6441500\n",
       "3  2011-04-07  5.448  5.370  5.290  5.588  14051500\n",
       "4  2011-04-08  5.298  5.516  5.272  5.520   9732000"
      ]
     },
     "execution_count": 22,
     "metadata": {},
     "output_type": "execute_result"
    }
   ],
   "source": [
    "Tsla_df.head()"
   ]
  },
  {
   "cell_type": "code",
   "execution_count": 23,
   "metadata": {},
   "outputs": [
    {
     "data": {
      "text/html": [
       "<div>\n",
       "<style scoped>\n",
       "    .dataframe tbody tr th:only-of-type {\n",
       "        vertical-align: middle;\n",
       "    }\n",
       "\n",
       "    .dataframe tbody tr th {\n",
       "        vertical-align: top;\n",
       "    }\n",
       "\n",
       "    .dataframe thead th {\n",
       "        text-align: right;\n",
       "    }\n",
       "</style>\n",
       "<table border=\"1\" class=\"dataframe\">\n",
       "  <thead>\n",
       "    <tr style=\"text-align: right;\">\n",
       "      <th></th>\n",
       "      <th>timestamp</th>\n",
       "      <th>Close</th>\n",
       "      <th>Open</th>\n",
       "      <th>Low</th>\n",
       "      <th>High</th>\n",
       "      <th>Volume</th>\n",
       "    </tr>\n",
       "  </thead>\n",
       "  <tbody>\n",
       "    <tr>\n",
       "      <th>2511</th>\n",
       "      <td>2021-03-26</td>\n",
       "      <td>618.710022</td>\n",
       "      <td>641.869995</td>\n",
       "      <td>599.890015</td>\n",
       "      <td>643.820007</td>\n",
       "      <td>33778400</td>\n",
       "    </tr>\n",
       "    <tr>\n",
       "      <th>2512</th>\n",
       "      <td>2021-03-29</td>\n",
       "      <td>611.289978</td>\n",
       "      <td>615.640015</td>\n",
       "      <td>596.020020</td>\n",
       "      <td>616.479980</td>\n",
       "      <td>28637000</td>\n",
       "    </tr>\n",
       "    <tr>\n",
       "      <th>2513</th>\n",
       "      <td>2021-03-30</td>\n",
       "      <td>635.619995</td>\n",
       "      <td>601.750000</td>\n",
       "      <td>591.010010</td>\n",
       "      <td>637.659973</td>\n",
       "      <td>39432400</td>\n",
       "    </tr>\n",
       "    <tr>\n",
       "      <th>2514</th>\n",
       "      <td>2021-03-31</td>\n",
       "      <td>667.929993</td>\n",
       "      <td>646.619995</td>\n",
       "      <td>641.109985</td>\n",
       "      <td>672.000000</td>\n",
       "      <td>33337300</td>\n",
       "    </tr>\n",
       "    <tr>\n",
       "      <th>2515</th>\n",
       "      <td>2021-04-01</td>\n",
       "      <td>661.750000</td>\n",
       "      <td>688.369995</td>\n",
       "      <td>659.419983</td>\n",
       "      <td>692.419983</td>\n",
       "      <td>35298400</td>\n",
       "    </tr>\n",
       "  </tbody>\n",
       "</table>\n",
       "</div>"
      ],
      "text/plain": [
       "       timestamp       Close        Open         Low        High    Volume\n",
       "2511  2021-03-26  618.710022  641.869995  599.890015  643.820007  33778400\n",
       "2512  2021-03-29  611.289978  615.640015  596.020020  616.479980  28637000\n",
       "2513  2021-03-30  635.619995  601.750000  591.010010  637.659973  39432400\n",
       "2514  2021-03-31  667.929993  646.619995  641.109985  672.000000  33337300\n",
       "2515  2021-04-01  661.750000  688.369995  659.419983  692.419983  35298400"
      ]
     },
     "execution_count": 23,
     "metadata": {},
     "output_type": "execute_result"
    }
   ],
   "source": [
    "Tsla_df.tail()"
   ]
  },
  {
   "cell_type": "code",
   "execution_count": 24,
   "metadata": {},
   "outputs": [
    {
     "name": "stdout",
     "output_type": "stream",
     "text": [
      "<class 'pandas.core.frame.DataFrame'>\n",
      "RangeIndex: 2516 entries, 0 to 2515\n",
      "Data columns (total 6 columns):\n",
      " #   Column     Non-Null Count  Dtype  \n",
      "---  ------     --------------  -----  \n",
      " 0   timestamp  2516 non-null   object \n",
      " 1   Close      2516 non-null   float64\n",
      " 2   Open       2516 non-null   float64\n",
      " 3   Low        2516 non-null   float64\n",
      " 4   High       2516 non-null   float64\n",
      " 5   Volume     2516 non-null   int64  \n",
      "dtypes: float64(4), int64(1), object(1)\n",
      "memory usage: 118.1+ KB\n"
     ]
    }
   ],
   "source": [
    "Tsla_df.info()"
   ]
  },
  {
   "cell_type": "code",
   "execution_count": 25,
   "metadata": {},
   "outputs": [],
   "source": [
    "#save the list as a csv or excel\n",
    "Tsla_df.to_csv(\"TESLA STOCK DATA_10yrs.csv\")\n",
    "\n",
    "#Tsla_df.to_excel(\"TESLA STOCK DATA_18_01_21.xlsx\")"
   ]
  },
  {
   "cell_type": "markdown",
   "metadata": {},
   "source": [
    "## APPLE"
   ]
  },
  {
   "cell_type": "code",
   "execution_count": 26,
   "metadata": {},
   "outputs": [],
   "source": [
    "url_2 = \"https://apidojo-yahoo-finance-v1.p.rapidapi.com/stock/v2/get-chart\"\n",
    "\n",
    "querystring_2 = {\"interval\":\"1d\",\"symbol\":\"AAPL\",\"range\":\"10y\",\"region\":\"US\"}\n",
    "\n",
    "headers_2 = {\n",
    "    'x-rapidapi-key': \"243ef897b3msh844988ee7a01b7fp192ddajsnbd64c87292e2\",\n",
    "    'x-rapidapi-host': \"apidojo-yahoo-finance-v1.p.rapidapi.com\"\n",
    "    }\n",
    "\n",
    "response_2 = requests.request(\"GET\", url_2, headers=headers_2, params=querystring_2)"
   ]
  },
  {
   "cell_type": "code",
   "execution_count": 27,
   "metadata": {},
   "outputs": [],
   "source": [
    "def print_json(response_2):\n",
    "    word = json.dumps(response_2, sort_keys=True, indent=4)\n",
    "    \n",
    "    print(word)\n",
    "\n",
    "    \n",
    "#print_json(response_2.json())  "
   ]
  },
  {
   "cell_type": "code",
   "execution_count": 28,
   "metadata": {},
   "outputs": [],
   "source": [
    "data_2=response_2.json()"
   ]
  },
  {
   "cell_type": "code",
   "execution_count": 29,
   "metadata": {},
   "outputs": [],
   "source": [
    "timestam_2 = data_2[\"chart\"][\"result\"][0][\"timestamp\"]\n",
    "Clos_2 = data_2[\"chart\"][\"result\"][0][\"indicators\"][\"quote\"][0][\"close\"]\n",
    "Ope_2 = data_2[\"chart\"][\"result\"][0][\"indicators\"][\"quote\"][0][\"open\"]\n",
    "lo_2 = data_2[\"chart\"][\"result\"][0][\"indicators\"][\"quote\"][0][\"low\"]\n",
    "hig_2 = data_2[\"chart\"][\"result\"][0][\"indicators\"][\"quote\"][0][\"high\"]\n",
    "Volum_2 = data_2[\"chart\"][\"result\"][0][\"indicators\"][\"quote\"][0][\"volume\"]\n",
    "# AdjClos_2 = data_2[\"chart\"][\"result\"][0][\"indicators\"][\"adjclose\"][0]['adjclose']"
   ]
  },
  {
   "cell_type": "code",
   "execution_count": 30,
   "metadata": {},
   "outputs": [],
   "source": [
    "dict_of_lists_2 = {\"timestamp\":timestam_2,\n",
    "                \"Close\":Clos_2,\n",
    "                \"Open\":Ope_2,\n",
    "                \"Low\":lo_2,\n",
    "                \"High\":hig_2,\n",
    "                \"Volume\":Volum_2}"
   ]
  },
  {
   "cell_type": "code",
   "execution_count": 31,
   "metadata": {},
   "outputs": [],
   "source": [
    "Appl_df = pd.DataFrame(dict_of_lists)"
   ]
  },
  {
   "cell_type": "code",
   "execution_count": 32,
   "metadata": {},
   "outputs": [],
   "source": [
    "Appl_df['timestamp'] = Appl_df['timestamp'].apply(lambda x: datetime.fromtimestamp(x))"
   ]
  },
  {
   "cell_type": "code",
   "execution_count": 33,
   "metadata": {},
   "outputs": [],
   "source": [
    "Appl_df['timestamp'] = Appl_df['timestamp'].dt.strftime('%Y-%m-%d')"
   ]
  },
  {
   "cell_type": "code",
   "execution_count": 34,
   "metadata": {},
   "outputs": [
    {
     "data": {
      "text/html": [
       "<div>\n",
       "<style scoped>\n",
       "    .dataframe tbody tr th:only-of-type {\n",
       "        vertical-align: middle;\n",
       "    }\n",
       "\n",
       "    .dataframe tbody tr th {\n",
       "        vertical-align: top;\n",
       "    }\n",
       "\n",
       "    .dataframe thead th {\n",
       "        text-align: right;\n",
       "    }\n",
       "</style>\n",
       "<table border=\"1\" class=\"dataframe\">\n",
       "  <thead>\n",
       "    <tr style=\"text-align: right;\">\n",
       "      <th></th>\n",
       "      <th>timestamp</th>\n",
       "      <th>Close</th>\n",
       "      <th>Open</th>\n",
       "      <th>Low</th>\n",
       "      <th>High</th>\n",
       "      <th>Volume</th>\n",
       "    </tr>\n",
       "  </thead>\n",
       "  <tbody>\n",
       "    <tr>\n",
       "      <th>0</th>\n",
       "      <td>2011-04-04</td>\n",
       "      <td>5.166</td>\n",
       "      <td>5.366</td>\n",
       "      <td>5.046</td>\n",
       "      <td>5.400</td>\n",
       "      <td>13046500</td>\n",
       "    </tr>\n",
       "    <tr>\n",
       "      <th>1</th>\n",
       "      <td>2011-04-05</td>\n",
       "      <td>5.340</td>\n",
       "      <td>5.180</td>\n",
       "      <td>5.138</td>\n",
       "      <td>5.400</td>\n",
       "      <td>15904500</td>\n",
       "    </tr>\n",
       "    <tr>\n",
       "      <th>2</th>\n",
       "      <td>2011-04-06</td>\n",
       "      <td>5.298</td>\n",
       "      <td>5.398</td>\n",
       "      <td>5.160</td>\n",
       "      <td>5.402</td>\n",
       "      <td>6441500</td>\n",
       "    </tr>\n",
       "    <tr>\n",
       "      <th>3</th>\n",
       "      <td>2011-04-07</td>\n",
       "      <td>5.448</td>\n",
       "      <td>5.370</td>\n",
       "      <td>5.290</td>\n",
       "      <td>5.588</td>\n",
       "      <td>14051500</td>\n",
       "    </tr>\n",
       "    <tr>\n",
       "      <th>4</th>\n",
       "      <td>2011-04-08</td>\n",
       "      <td>5.298</td>\n",
       "      <td>5.516</td>\n",
       "      <td>5.272</td>\n",
       "      <td>5.520</td>\n",
       "      <td>9732000</td>\n",
       "    </tr>\n",
       "  </tbody>\n",
       "</table>\n",
       "</div>"
      ],
      "text/plain": [
       "    timestamp  Close   Open    Low   High    Volume\n",
       "0  2011-04-04  5.166  5.366  5.046  5.400  13046500\n",
       "1  2011-04-05  5.340  5.180  5.138  5.400  15904500\n",
       "2  2011-04-06  5.298  5.398  5.160  5.402   6441500\n",
       "3  2011-04-07  5.448  5.370  5.290  5.588  14051500\n",
       "4  2011-04-08  5.298  5.516  5.272  5.520   9732000"
      ]
     },
     "execution_count": 34,
     "metadata": {},
     "output_type": "execute_result"
    }
   ],
   "source": [
    "Appl_df.head()"
   ]
  },
  {
   "cell_type": "code",
   "execution_count": 35,
   "metadata": {},
   "outputs": [
    {
     "data": {
      "text/html": [
       "<div>\n",
       "<style scoped>\n",
       "    .dataframe tbody tr th:only-of-type {\n",
       "        vertical-align: middle;\n",
       "    }\n",
       "\n",
       "    .dataframe tbody tr th {\n",
       "        vertical-align: top;\n",
       "    }\n",
       "\n",
       "    .dataframe thead th {\n",
       "        text-align: right;\n",
       "    }\n",
       "</style>\n",
       "<table border=\"1\" class=\"dataframe\">\n",
       "  <thead>\n",
       "    <tr style=\"text-align: right;\">\n",
       "      <th></th>\n",
       "      <th>timestamp</th>\n",
       "      <th>Close</th>\n",
       "      <th>Open</th>\n",
       "      <th>Low</th>\n",
       "      <th>High</th>\n",
       "      <th>Volume</th>\n",
       "    </tr>\n",
       "  </thead>\n",
       "  <tbody>\n",
       "    <tr>\n",
       "      <th>2511</th>\n",
       "      <td>2021-03-26</td>\n",
       "      <td>618.710022</td>\n",
       "      <td>641.869995</td>\n",
       "      <td>599.890015</td>\n",
       "      <td>643.820007</td>\n",
       "      <td>33778400</td>\n",
       "    </tr>\n",
       "    <tr>\n",
       "      <th>2512</th>\n",
       "      <td>2021-03-29</td>\n",
       "      <td>611.289978</td>\n",
       "      <td>615.640015</td>\n",
       "      <td>596.020020</td>\n",
       "      <td>616.479980</td>\n",
       "      <td>28637000</td>\n",
       "    </tr>\n",
       "    <tr>\n",
       "      <th>2513</th>\n",
       "      <td>2021-03-30</td>\n",
       "      <td>635.619995</td>\n",
       "      <td>601.750000</td>\n",
       "      <td>591.010010</td>\n",
       "      <td>637.659973</td>\n",
       "      <td>39432400</td>\n",
       "    </tr>\n",
       "    <tr>\n",
       "      <th>2514</th>\n",
       "      <td>2021-03-31</td>\n",
       "      <td>667.929993</td>\n",
       "      <td>646.619995</td>\n",
       "      <td>641.109985</td>\n",
       "      <td>672.000000</td>\n",
       "      <td>33337300</td>\n",
       "    </tr>\n",
       "    <tr>\n",
       "      <th>2515</th>\n",
       "      <td>2021-04-01</td>\n",
       "      <td>661.750000</td>\n",
       "      <td>688.369995</td>\n",
       "      <td>659.419983</td>\n",
       "      <td>692.419983</td>\n",
       "      <td>35298400</td>\n",
       "    </tr>\n",
       "  </tbody>\n",
       "</table>\n",
       "</div>"
      ],
      "text/plain": [
       "       timestamp       Close        Open         Low        High    Volume\n",
       "2511  2021-03-26  618.710022  641.869995  599.890015  643.820007  33778400\n",
       "2512  2021-03-29  611.289978  615.640015  596.020020  616.479980  28637000\n",
       "2513  2021-03-30  635.619995  601.750000  591.010010  637.659973  39432400\n",
       "2514  2021-03-31  667.929993  646.619995  641.109985  672.000000  33337300\n",
       "2515  2021-04-01  661.750000  688.369995  659.419983  692.419983  35298400"
      ]
     },
     "execution_count": 35,
     "metadata": {},
     "output_type": "execute_result"
    }
   ],
   "source": [
    "Appl_df.tail()"
   ]
  },
  {
   "cell_type": "code",
   "execution_count": 36,
   "metadata": {},
   "outputs": [
    {
     "name": "stdout",
     "output_type": "stream",
     "text": [
      "<class 'pandas.core.frame.DataFrame'>\n",
      "RangeIndex: 2516 entries, 0 to 2515\n",
      "Data columns (total 6 columns):\n",
      " #   Column     Non-Null Count  Dtype  \n",
      "---  ------     --------------  -----  \n",
      " 0   timestamp  2516 non-null   object \n",
      " 1   Close      2516 non-null   float64\n",
      " 2   Open       2516 non-null   float64\n",
      " 3   Low        2516 non-null   float64\n",
      " 4   High       2516 non-null   float64\n",
      " 5   Volume     2516 non-null   int64  \n",
      "dtypes: float64(4), int64(1), object(1)\n",
      "memory usage: 118.1+ KB\n"
     ]
    }
   ],
   "source": [
    "Appl_df.info()"
   ]
  },
  {
   "cell_type": "code",
   "execution_count": 37,
   "metadata": {},
   "outputs": [],
   "source": [
    "#save the list as a csv or excel\n",
    "Appl_df.to_csv(\"APPLE STOCK DATA_10yrs.csv\")\n",
    "#Appl_df.to_excel(\"APPLE STOCK DATA_18_01_21.xlsx\")"
   ]
  },
  {
   "cell_type": "markdown",
   "metadata": {},
   "source": [
    "## JUMIA"
   ]
  },
  {
   "cell_type": "code",
   "execution_count": 38,
   "metadata": {},
   "outputs": [],
   "source": [
    "url_3 = \"https://apidojo-yahoo-finance-v1.p.rapidapi.com/stock/v2/get-chart\"\n",
    "\n",
    "querystring_3 = {\"interval\":\"1d\",\"symbol\":\"JMIA\",\"range\":\"10y\",\"region\":\"US\"}\n",
    "\n",
    "headers_3 = {\n",
    "    'x-rapidapi-key': \"243ef897b3msh844988ee7a01b7fp192ddajsnbd64c87292e2\",\n",
    "    'x-rapidapi-host': \"apidojo-yahoo-finance-v1.p.rapidapi.com\"\n",
    "    }\n",
    "\n",
    "response_3 = requests.request(\"GET\", url_3, headers=headers_3, params=querystring_3)"
   ]
  },
  {
   "cell_type": "code",
   "execution_count": 39,
   "metadata": {},
   "outputs": [],
   "source": [
    "def print_json(response_3):\n",
    "    word = json.dumps(response_3, sort_keys=True, indent=4)\n",
    "    \n",
    "    print(word)\n",
    "\n",
    "    \n",
    "#print_json(response_3.json())  "
   ]
  },
  {
   "cell_type": "code",
   "execution_count": 40,
   "metadata": {},
   "outputs": [],
   "source": [
    "data_3=response_3.json()"
   ]
  },
  {
   "cell_type": "code",
   "execution_count": 41,
   "metadata": {},
   "outputs": [],
   "source": [
    "timestam_3 = data_3[\"chart\"][\"result\"][0][\"timestamp\"]\n",
    "Clos_3 = data_3[\"chart\"][\"result\"][0][\"indicators\"][\"quote\"][0][\"close\"]\n",
    "Ope_3 = data_3[\"chart\"][\"result\"][0][\"indicators\"][\"quote\"][0][\"open\"]\n",
    "lo_3 = data_3[\"chart\"][\"result\"][0][\"indicators\"][\"quote\"][0][\"low\"]\n",
    "hig_3 = data_3[\"chart\"][\"result\"][0][\"indicators\"][\"quote\"][0][\"high\"]\n",
    "Volum_3 = data_3[\"chart\"][\"result\"][0][\"indicators\"][\"quote\"][0][\"volume\"]\n",
    "# AdjClos_3 = data_3[\"chart\"][\"result\"][0][\"indicators\"][\"adjclose\"][0]['adjclose']"
   ]
  },
  {
   "cell_type": "code",
   "execution_count": 42,
   "metadata": {},
   "outputs": [],
   "source": [
    "dict_of_lists_3 = {\"timestamp\":timestam_3,\n",
    "                \"Close\":Clos_3,\n",
    "                \"Open\":Ope_3,\n",
    "                \"Low\":lo_3,\n",
    "                \"High\":hig_3,\n",
    "                \"Volume\":Volum_3}"
   ]
  },
  {
   "cell_type": "code",
   "execution_count": 43,
   "metadata": {},
   "outputs": [],
   "source": [
    "Jmia_df = pd.DataFrame(dict_of_lists_3)"
   ]
  },
  {
   "cell_type": "code",
   "execution_count": 44,
   "metadata": {},
   "outputs": [],
   "source": [
    "Jmia_df['timestamp'] = Jmia_df['timestamp'].apply(lambda x: datetime.fromtimestamp(x))\n",
    "Jmia_df['timestamp'] = Jmia_df['timestamp'].dt.strftime('%Y-%m-%d')"
   ]
  },
  {
   "cell_type": "code",
   "execution_count": 45,
   "metadata": {},
   "outputs": [
    {
     "name": "stdout",
     "output_type": "stream",
     "text": [
      "<class 'pandas.core.frame.DataFrame'>\n",
      "RangeIndex: 497 entries, 0 to 496\n",
      "Data columns (total 6 columns):\n",
      " #   Column     Non-Null Count  Dtype  \n",
      "---  ------     --------------  -----  \n",
      " 0   timestamp  497 non-null    object \n",
      " 1   Close      497 non-null    float64\n",
      " 2   Open       497 non-null    float64\n",
      " 3   Low        497 non-null    float64\n",
      " 4   High       497 non-null    float64\n",
      " 5   Volume     497 non-null    int64  \n",
      "dtypes: float64(4), int64(1), object(1)\n",
      "memory usage: 23.4+ KB\n"
     ]
    }
   ],
   "source": [
    "Jmia_df.info()"
   ]
  },
  {
   "cell_type": "code",
   "execution_count": 46,
   "metadata": {},
   "outputs": [
    {
     "data": {
      "text/html": [
       "<div>\n",
       "<style scoped>\n",
       "    .dataframe tbody tr th:only-of-type {\n",
       "        vertical-align: middle;\n",
       "    }\n",
       "\n",
       "    .dataframe tbody tr th {\n",
       "        vertical-align: top;\n",
       "    }\n",
       "\n",
       "    .dataframe thead th {\n",
       "        text-align: right;\n",
       "    }\n",
       "</style>\n",
       "<table border=\"1\" class=\"dataframe\">\n",
       "  <thead>\n",
       "    <tr style=\"text-align: right;\">\n",
       "      <th></th>\n",
       "      <th>timestamp</th>\n",
       "      <th>Close</th>\n",
       "      <th>Open</th>\n",
       "      <th>Low</th>\n",
       "      <th>High</th>\n",
       "      <th>Volume</th>\n",
       "    </tr>\n",
       "  </thead>\n",
       "  <tbody>\n",
       "    <tr>\n",
       "      <th>0</th>\n",
       "      <td>2019-04-12</td>\n",
       "      <td>25.459999</td>\n",
       "      <td>18.950001</td>\n",
       "      <td>18.260000</td>\n",
       "      <td>25.459999</td>\n",
       "      <td>9472300</td>\n",
       "    </tr>\n",
       "    <tr>\n",
       "      <th>1</th>\n",
       "      <td>2019-04-15</td>\n",
       "      <td>31.910000</td>\n",
       "      <td>26.940001</td>\n",
       "      <td>25.629999</td>\n",
       "      <td>39.950001</td>\n",
       "      <td>12857300</td>\n",
       "    </tr>\n",
       "    <tr>\n",
       "      <th>2</th>\n",
       "      <td>2019-04-16</td>\n",
       "      <td>43.040001</td>\n",
       "      <td>35.330002</td>\n",
       "      <td>33.099998</td>\n",
       "      <td>43.500000</td>\n",
       "      <td>12939400</td>\n",
       "    </tr>\n",
       "    <tr>\n",
       "      <th>3</th>\n",
       "      <td>2019-04-17</td>\n",
       "      <td>40.070000</td>\n",
       "      <td>47.689999</td>\n",
       "      <td>36.209999</td>\n",
       "      <td>49.770000</td>\n",
       "      <td>14110300</td>\n",
       "    </tr>\n",
       "    <tr>\n",
       "      <th>4</th>\n",
       "      <td>2019-04-18</td>\n",
       "      <td>35.150002</td>\n",
       "      <td>38.150002</td>\n",
       "      <td>31.700001</td>\n",
       "      <td>38.400002</td>\n",
       "      <td>6954400</td>\n",
       "    </tr>\n",
       "  </tbody>\n",
       "</table>\n",
       "</div>"
      ],
      "text/plain": [
       "    timestamp      Close       Open        Low       High    Volume\n",
       "0  2019-04-12  25.459999  18.950001  18.260000  25.459999   9472300\n",
       "1  2019-04-15  31.910000  26.940001  25.629999  39.950001  12857300\n",
       "2  2019-04-16  43.040001  35.330002  33.099998  43.500000  12939400\n",
       "3  2019-04-17  40.070000  47.689999  36.209999  49.770000  14110300\n",
       "4  2019-04-18  35.150002  38.150002  31.700001  38.400002   6954400"
      ]
     },
     "execution_count": 46,
     "metadata": {},
     "output_type": "execute_result"
    }
   ],
   "source": [
    "Jmia_df.head()"
   ]
  },
  {
   "cell_type": "code",
   "execution_count": 47,
   "metadata": {},
   "outputs": [
    {
     "data": {
      "text/html": [
       "<div>\n",
       "<style scoped>\n",
       "    .dataframe tbody tr th:only-of-type {\n",
       "        vertical-align: middle;\n",
       "    }\n",
       "\n",
       "    .dataframe tbody tr th {\n",
       "        vertical-align: top;\n",
       "    }\n",
       "\n",
       "    .dataframe thead th {\n",
       "        text-align: right;\n",
       "    }\n",
       "</style>\n",
       "<table border=\"1\" class=\"dataframe\">\n",
       "  <thead>\n",
       "    <tr style=\"text-align: right;\">\n",
       "      <th></th>\n",
       "      <th>timestamp</th>\n",
       "      <th>Close</th>\n",
       "      <th>Open</th>\n",
       "      <th>Low</th>\n",
       "      <th>High</th>\n",
       "      <th>Volume</th>\n",
       "    </tr>\n",
       "  </thead>\n",
       "  <tbody>\n",
       "    <tr>\n",
       "      <th>492</th>\n",
       "      <td>2021-03-26</td>\n",
       "      <td>34.549999</td>\n",
       "      <td>35.000000</td>\n",
       "      <td>32.330002</td>\n",
       "      <td>35.549999</td>\n",
       "      <td>8441100</td>\n",
       "    </tr>\n",
       "    <tr>\n",
       "      <th>493</th>\n",
       "      <td>2021-03-29</td>\n",
       "      <td>31.980000</td>\n",
       "      <td>34.099998</td>\n",
       "      <td>31.600000</td>\n",
       "      <td>34.709999</td>\n",
       "      <td>8423000</td>\n",
       "    </tr>\n",
       "    <tr>\n",
       "      <th>494</th>\n",
       "      <td>2021-03-30</td>\n",
       "      <td>35.529999</td>\n",
       "      <td>33.200001</td>\n",
       "      <td>31.650000</td>\n",
       "      <td>35.919998</td>\n",
       "      <td>10986200</td>\n",
       "    </tr>\n",
       "    <tr>\n",
       "      <th>495</th>\n",
       "      <td>2021-03-31</td>\n",
       "      <td>35.459999</td>\n",
       "      <td>36.160000</td>\n",
       "      <td>34.790001</td>\n",
       "      <td>36.980000</td>\n",
       "      <td>7370800</td>\n",
       "    </tr>\n",
       "    <tr>\n",
       "      <th>496</th>\n",
       "      <td>2021-04-01</td>\n",
       "      <td>38.009998</td>\n",
       "      <td>36.720001</td>\n",
       "      <td>36.099998</td>\n",
       "      <td>38.557999</td>\n",
       "      <td>9858300</td>\n",
       "    </tr>\n",
       "  </tbody>\n",
       "</table>\n",
       "</div>"
      ],
      "text/plain": [
       "      timestamp      Close       Open        Low       High    Volume\n",
       "492  2021-03-26  34.549999  35.000000  32.330002  35.549999   8441100\n",
       "493  2021-03-29  31.980000  34.099998  31.600000  34.709999   8423000\n",
       "494  2021-03-30  35.529999  33.200001  31.650000  35.919998  10986200\n",
       "495  2021-03-31  35.459999  36.160000  34.790001  36.980000   7370800\n",
       "496  2021-04-01  38.009998  36.720001  36.099998  38.557999   9858300"
      ]
     },
     "execution_count": 47,
     "metadata": {},
     "output_type": "execute_result"
    }
   ],
   "source": [
    "Jmia_df.tail()"
   ]
  },
  {
   "cell_type": "code",
   "execution_count": 48,
   "metadata": {},
   "outputs": [],
   "source": [
    "#save the list as a csv or excel\n",
    "Jmia_df.to_csv(\"JUMIA STOCK DATA_10yrs.csv\")\n",
    "#Jmia_df.to_excel(\"JUMIA STOCK DATA_18_01_21.xlsx\")"
   ]
  },
  {
   "cell_type": "markdown",
   "metadata": {},
   "source": [
    "## NIO"
   ]
  },
  {
   "cell_type": "code",
   "execution_count": 49,
   "metadata": {},
   "outputs": [],
   "source": [
    "url_4 = \"https://apidojo-yahoo-finance-v1.p.rapidapi.com/stock/v2/get-chart\"\n",
    "\n",
    "querystring_4 = {\"interval\":\"60m\",\"symbol\":\"NIO\",\"range\":\"2y\",\"region\":\"US\"}\n",
    "\n",
    "headers_4 = {\n",
    "    'x-rapidapi-key': \"243ef897b3msh844988ee7a01b7fp192ddajsnbd64c87292e2\",\n",
    "    'x-rapidapi-host': \"apidojo-yahoo-finance-v1.p.rapidapi.com\"\n",
    "    }\n",
    "\n",
    "response_4 = requests.request(\"GET\", url_4, headers=headers_4, params=querystring_4)"
   ]
  },
  {
   "cell_type": "markdown",
   "metadata": {},
   "source": [
    "print(response_4.text)"
   ]
  },
  {
   "cell_type": "code",
   "execution_count": 50,
   "metadata": {},
   "outputs": [],
   "source": [
    "def print_json(response_4):\n",
    "    word = json.dumps(response_4, sort_keys=True, indent=4)\n",
    "    \n",
    "    print(word)\n",
    "\n",
    "    \n",
    "#print_json(response_4.json())  "
   ]
  },
  {
   "cell_type": "code",
   "execution_count": 37,
   "metadata": {},
   "outputs": [],
   "source": [
    "data_4=response_4.json()"
   ]
  },
  {
   "cell_type": "code",
   "execution_count": 38,
   "metadata": {},
   "outputs": [],
   "source": [
    "timestam_4 = data_4[\"chart\"][\"result\"][0][\"timestamp\"]\n",
    "Clos_4 = data_4[\"chart\"][\"result\"][0][\"indicators\"][\"quote\"][0][\"close\"]\n",
    "Ope_4 = data_4[\"chart\"][\"result\"][0][\"indicators\"][\"quote\"][0][\"open\"]\n",
    "lo_4 = data_4[\"chart\"][\"result\"][0][\"indicators\"][\"quote\"][0][\"low\"]\n",
    "hig_4 = data_4[\"chart\"][\"result\"][0][\"indicators\"][\"quote\"][0][\"high\"]\n",
    "Volum_4 = data_4[\"chart\"][\"result\"][0][\"indicators\"][\"quote\"][0][\"volume\"]\n",
    "# AdjClos_4 = data_4[\"chart\"][\"result\"][0][\"indicators\"][\"adjclose\"][0]['adjclose']"
   ]
  },
  {
   "cell_type": "code",
   "execution_count": 39,
   "metadata": {},
   "outputs": [],
   "source": [
    "dict_of_lists_4 = {\"timestamp\":timestam_4,\n",
    "                \"Close\":Clos_4,\n",
    "                \"Open\":Ope_4,\n",
    "                \"Low\":lo_4,\n",
    "                \"High\":hig_4,\n",
    "                \"Volume\":Volum_4}"
   ]
  },
  {
   "cell_type": "code",
   "execution_count": 40,
   "metadata": {},
   "outputs": [],
   "source": [
    "Nio_df = pd.DataFrame(dict_of_lists_4)"
   ]
  },
  {
   "cell_type": "code",
   "execution_count": 41,
   "metadata": {},
   "outputs": [],
   "source": [
    "Nio_df['timestamp'] = Nio_df['timestamp'].apply(lambda x: datetime.fromtimestamp(x))\n",
    "Nio_df['timestamp'] = Nio_df['timestamp'].dt.strftime('%Y-%m-%d')"
   ]
  },
  {
   "cell_type": "code",
   "execution_count": 44,
   "metadata": {},
   "outputs": [
    {
     "name": "stdout",
     "output_type": "stream",
     "text": [
      "<class 'pandas.core.frame.DataFrame'>\n",
      "RangeIndex: 8056 entries, 0 to 8055\n",
      "Data columns (total 6 columns):\n",
      " #   Column     Non-Null Count  Dtype  \n",
      "---  ------     --------------  -----  \n",
      " 0   timestamp  8056 non-null   object \n",
      " 1   Close      8051 non-null   float64\n",
      " 2   Open       8051 non-null   float64\n",
      " 3   Low        8051 non-null   float64\n",
      " 4   High       8051 non-null   float64\n",
      " 5   Volume     8051 non-null   float64\n",
      "dtypes: float64(5), object(1)\n",
      "memory usage: 377.8+ KB\n"
     ]
    }
   ],
   "source": [
    "Nio_df.info()"
   ]
  },
  {
   "cell_type": "code",
   "execution_count": 42,
   "metadata": {},
   "outputs": [
    {
     "data": {
      "text/html": [
       "<div>\n",
       "<style scoped>\n",
       "    .dataframe tbody tr th:only-of-type {\n",
       "        vertical-align: middle;\n",
       "    }\n",
       "\n",
       "    .dataframe tbody tr th {\n",
       "        vertical-align: top;\n",
       "    }\n",
       "\n",
       "    .dataframe thead th {\n",
       "        text-align: right;\n",
       "    }\n",
       "</style>\n",
       "<table border=\"1\" class=\"dataframe\">\n",
       "  <thead>\n",
       "    <tr style=\"text-align: right;\">\n",
       "      <th></th>\n",
       "      <th>timestamp</th>\n",
       "      <th>Close</th>\n",
       "      <th>Open</th>\n",
       "      <th>Low</th>\n",
       "      <th>High</th>\n",
       "      <th>Volume</th>\n",
       "    </tr>\n",
       "  </thead>\n",
       "  <tbody>\n",
       "    <tr>\n",
       "      <th>0</th>\n",
       "      <td>2019-01-22</td>\n",
       "      <td>6.72</td>\n",
       "      <td>6.72</td>\n",
       "      <td>6.72</td>\n",
       "      <td>6.72</td>\n",
       "      <td>0.0</td>\n",
       "    </tr>\n",
       "    <tr>\n",
       "      <th>1</th>\n",
       "      <td>2019-01-22</td>\n",
       "      <td>6.60</td>\n",
       "      <td>6.67</td>\n",
       "      <td>6.53</td>\n",
       "      <td>6.67</td>\n",
       "      <td>0.0</td>\n",
       "    </tr>\n",
       "    <tr>\n",
       "      <th>2</th>\n",
       "      <td>2019-01-22</td>\n",
       "      <td>6.69</td>\n",
       "      <td>6.64</td>\n",
       "      <td>6.63</td>\n",
       "      <td>6.69</td>\n",
       "      <td>0.0</td>\n",
       "    </tr>\n",
       "    <tr>\n",
       "      <th>3</th>\n",
       "      <td>2019-01-22</td>\n",
       "      <td>6.66</td>\n",
       "      <td>6.66</td>\n",
       "      <td>6.65</td>\n",
       "      <td>6.70</td>\n",
       "      <td>0.0</td>\n",
       "    </tr>\n",
       "    <tr>\n",
       "      <th>4</th>\n",
       "      <td>2019-01-22</td>\n",
       "      <td>6.66</td>\n",
       "      <td>6.66</td>\n",
       "      <td>6.65</td>\n",
       "      <td>6.69</td>\n",
       "      <td>0.0</td>\n",
       "    </tr>\n",
       "  </tbody>\n",
       "</table>\n",
       "</div>"
      ],
      "text/plain": [
       "    timestamp  Close  Open   Low  High  Volume\n",
       "0  2019-01-22   6.72  6.72  6.72  6.72     0.0\n",
       "1  2019-01-22   6.60  6.67  6.53  6.67     0.0\n",
       "2  2019-01-22   6.69  6.64  6.63  6.69     0.0\n",
       "3  2019-01-22   6.66  6.66  6.65  6.70     0.0\n",
       "4  2019-01-22   6.66  6.66  6.65  6.69     0.0"
      ]
     },
     "execution_count": 42,
     "metadata": {},
     "output_type": "execute_result"
    }
   ],
   "source": [
    "Nio_df.head()"
   ]
  },
  {
   "cell_type": "code",
   "execution_count": 43,
   "metadata": {},
   "outputs": [
    {
     "data": {
      "text/html": [
       "<div>\n",
       "<style scoped>\n",
       "    .dataframe tbody tr th:only-of-type {\n",
       "        vertical-align: middle;\n",
       "    }\n",
       "\n",
       "    .dataframe tbody tr th {\n",
       "        vertical-align: top;\n",
       "    }\n",
       "\n",
       "    .dataframe thead th {\n",
       "        text-align: right;\n",
       "    }\n",
       "</style>\n",
       "<table border=\"1\" class=\"dataframe\">\n",
       "  <thead>\n",
       "    <tr style=\"text-align: right;\">\n",
       "      <th></th>\n",
       "      <th>timestamp</th>\n",
       "      <th>Close</th>\n",
       "      <th>Open</th>\n",
       "      <th>Low</th>\n",
       "      <th>High</th>\n",
       "      <th>Volume</th>\n",
       "    </tr>\n",
       "  </thead>\n",
       "  <tbody>\n",
       "    <tr>\n",
       "      <th>8051</th>\n",
       "      <td>2021-01-21</td>\n",
       "      <td>58.334801</td>\n",
       "      <td>58.509998</td>\n",
       "      <td>58.220001</td>\n",
       "      <td>58.539001</td>\n",
       "      <td>3679505.0</td>\n",
       "    </tr>\n",
       "    <tr>\n",
       "      <th>8052</th>\n",
       "      <td>2021-01-21</td>\n",
       "      <td>58.060000</td>\n",
       "      <td>58.320000</td>\n",
       "      <td>58.000000</td>\n",
       "      <td>58.380000</td>\n",
       "      <td>0.0</td>\n",
       "    </tr>\n",
       "    <tr>\n",
       "      <th>8053</th>\n",
       "      <td>2021-01-21</td>\n",
       "      <td>58.100000</td>\n",
       "      <td>58.050000</td>\n",
       "      <td>58.020000</td>\n",
       "      <td>58.140000</td>\n",
       "      <td>0.0</td>\n",
       "    </tr>\n",
       "    <tr>\n",
       "      <th>8054</th>\n",
       "      <td>2021-01-22</td>\n",
       "      <td>57.890000</td>\n",
       "      <td>58.060000</td>\n",
       "      <td>57.700000</td>\n",
       "      <td>58.340000</td>\n",
       "      <td>0.0</td>\n",
       "    </tr>\n",
       "    <tr>\n",
       "      <th>8055</th>\n",
       "      <td>2021-01-22</td>\n",
       "      <td>57.650000</td>\n",
       "      <td>57.830000</td>\n",
       "      <td>57.520000</td>\n",
       "      <td>57.950000</td>\n",
       "      <td>0.0</td>\n",
       "    </tr>\n",
       "  </tbody>\n",
       "</table>\n",
       "</div>"
      ],
      "text/plain": [
       "       timestamp      Close       Open        Low       High     Volume\n",
       "8051  2021-01-21  58.334801  58.509998  58.220001  58.539001  3679505.0\n",
       "8052  2021-01-21  58.060000  58.320000  58.000000  58.380000        0.0\n",
       "8053  2021-01-21  58.100000  58.050000  58.020000  58.140000        0.0\n",
       "8054  2021-01-22  57.890000  58.060000  57.700000  58.340000        0.0\n",
       "8055  2021-01-22  57.650000  57.830000  57.520000  57.950000        0.0"
      ]
     },
     "execution_count": 43,
     "metadata": {},
     "output_type": "execute_result"
    }
   ],
   "source": [
    "Nio_df.tail()"
   ]
  },
  {
   "cell_type": "code",
   "execution_count": 44,
   "metadata": {},
   "outputs": [],
   "source": [
    "#save the list as a csv or excel\n",
    "Nio_df.to_csv(\"NIO STOCK DATA_18_01_21.csv\")\n",
    "Nio_df.to_excel(\"NIO STOCK DATA_18_01_21.xlsx\")"
   ]
  },
  {
   "cell_type": "markdown",
   "metadata": {},
   "source": [
    "## GOOGL"
   ]
  },
  {
   "cell_type": "code",
   "execution_count": 51,
   "metadata": {},
   "outputs": [],
   "source": [
    "url_5 = \"https://apidojo-yahoo-finance-v1.p.rapidapi.com/stock/v2/get-chart\"\n",
    "\n",
    "querystring_5 = {\"interval\":\"1d\",\"symbol\":\"GOOGL\",\"range\":\"10y\",\"region\":\"US\"}\n",
    "\n",
    "headers_5 = {\n",
    "    'x-rapidapi-key': \"243ef897b3msh844988ee7a01b7fp192ddajsnbd64c87292e2\",\n",
    "    'x-rapidapi-host': \"apidojo-yahoo-finance-v1.p.rapidapi.com\"\n",
    "    }\n",
    "\n",
    "response_5 = requests.request(\"GET\", url_5, headers=headers_5, params=querystring_5)"
   ]
  },
  {
   "cell_type": "code",
   "execution_count": 52,
   "metadata": {},
   "outputs": [],
   "source": [
    "def print_json(response_5):\n",
    "    word = json.dumps(response_5, sort_keys=True, indent=4)\n",
    "    \n",
    "    print(word)\n",
    "\n",
    "    \n",
    "#print_json(response_5.json())  "
   ]
  },
  {
   "cell_type": "code",
   "execution_count": 53,
   "metadata": {},
   "outputs": [],
   "source": [
    "data_5=response_5.json()"
   ]
  },
  {
   "cell_type": "code",
   "execution_count": 54,
   "metadata": {},
   "outputs": [],
   "source": [
    "timestam_5 = data_5[\"chart\"][\"result\"][0][\"timestamp\"]\n",
    "Clos_5 = data_5[\"chart\"][\"result\"][0][\"indicators\"][\"quote\"][0][\"close\"]\n",
    "Ope_5 = data_5[\"chart\"][\"result\"][0][\"indicators\"][\"quote\"][0][\"open\"]\n",
    "lo_5 = data_5[\"chart\"][\"result\"][0][\"indicators\"][\"quote\"][0][\"low\"]\n",
    "hig_5 = data_5[\"chart\"][\"result\"][0][\"indicators\"][\"quote\"][0][\"high\"]\n",
    "Volum_5 = data_5[\"chart\"][\"result\"][0][\"indicators\"][\"quote\"][0][\"volume\"]\n",
    "# AdjClos_5 = data_5[\"chart\"][\"result\"][0][\"indicators\"][\"adjclose\"][0]['adjclose']"
   ]
  },
  {
   "cell_type": "code",
   "execution_count": 55,
   "metadata": {},
   "outputs": [],
   "source": [
    "dict_of_lists_5 = {\"timestamp\":timestam_5,\n",
    "                \"Close\":Clos_5,\n",
    "                \"Open\":Ope_5,\n",
    "                \"Low\":lo_5,\n",
    "                \"High\":hig_5,\n",
    "                \"Volume\":Volum_5}"
   ]
  },
  {
   "cell_type": "code",
   "execution_count": 56,
   "metadata": {},
   "outputs": [],
   "source": [
    "GOOGL_df = pd.DataFrame(dict_of_lists_5)"
   ]
  },
  {
   "cell_type": "code",
   "execution_count": 57,
   "metadata": {},
   "outputs": [],
   "source": [
    "GOOGL_df['timestamp'] = GOOGL_df['timestamp'].apply(lambda x: datetime.fromtimestamp(x))\n",
    "GOOGL_df['timestamp'] = GOOGL_df['timestamp'].dt.strftime('%Y-%m-%d')"
   ]
  },
  {
   "cell_type": "code",
   "execution_count": 58,
   "metadata": {},
   "outputs": [
    {
     "name": "stdout",
     "output_type": "stream",
     "text": [
      "<class 'pandas.core.frame.DataFrame'>\n",
      "RangeIndex: 2516 entries, 0 to 2515\n",
      "Data columns (total 6 columns):\n",
      " #   Column     Non-Null Count  Dtype  \n",
      "---  ------     --------------  -----  \n",
      " 0   timestamp  2516 non-null   object \n",
      " 1   Close      2516 non-null   float64\n",
      " 2   Open       2516 non-null   float64\n",
      " 3   Low        2516 non-null   float64\n",
      " 4   High       2516 non-null   float64\n",
      " 5   Volume     2516 non-null   int64  \n",
      "dtypes: float64(4), int64(1), object(1)\n",
      "memory usage: 118.1+ KB\n"
     ]
    }
   ],
   "source": [
    "GOOGL_df.info()"
   ]
  },
  {
   "cell_type": "code",
   "execution_count": 59,
   "metadata": {},
   "outputs": [
    {
     "data": {
      "text/html": [
       "<div>\n",
       "<style scoped>\n",
       "    .dataframe tbody tr th:only-of-type {\n",
       "        vertical-align: middle;\n",
       "    }\n",
       "\n",
       "    .dataframe tbody tr th {\n",
       "        vertical-align: top;\n",
       "    }\n",
       "\n",
       "    .dataframe thead th {\n",
       "        text-align: right;\n",
       "    }\n",
       "</style>\n",
       "<table border=\"1\" class=\"dataframe\">\n",
       "  <thead>\n",
       "    <tr style=\"text-align: right;\">\n",
       "      <th></th>\n",
       "      <th>timestamp</th>\n",
       "      <th>Close</th>\n",
       "      <th>Open</th>\n",
       "      <th>Low</th>\n",
       "      <th>High</th>\n",
       "      <th>Volume</th>\n",
       "    </tr>\n",
       "  </thead>\n",
       "  <tbody>\n",
       "    <tr>\n",
       "      <th>0</th>\n",
       "      <td>2011-04-04</td>\n",
       "      <td>294.134125</td>\n",
       "      <td>296.796783</td>\n",
       "      <td>291.841827</td>\n",
       "      <td>297.667664</td>\n",
       "      <td>4104891</td>\n",
       "    </tr>\n",
       "    <tr>\n",
       "      <th>1</th>\n",
       "      <td>2011-04-05</td>\n",
       "      <td>284.829834</td>\n",
       "      <td>290.830841</td>\n",
       "      <td>283.123108</td>\n",
       "      <td>291.036041</td>\n",
       "      <td>12082905</td>\n",
       "    </tr>\n",
       "    <tr>\n",
       "      <th>2</th>\n",
       "      <td>2011-04-06</td>\n",
       "      <td>287.377380</td>\n",
       "      <td>286.376373</td>\n",
       "      <td>284.284271</td>\n",
       "      <td>287.867859</td>\n",
       "      <td>5331263</td>\n",
       "    </tr>\n",
       "    <tr>\n",
       "      <th>3</th>\n",
       "      <td>2011-04-07</td>\n",
       "      <td>290.290283</td>\n",
       "      <td>288.153168</td>\n",
       "      <td>287.382385</td>\n",
       "      <td>290.610626</td>\n",
       "      <td>5057937</td>\n",
       "    </tr>\n",
       "    <tr>\n",
       "      <th>4</th>\n",
       "      <td>2011-04-08</td>\n",
       "      <td>289.369354</td>\n",
       "      <td>292.737732</td>\n",
       "      <td>289.319305</td>\n",
       "      <td>292.737732</td>\n",
       "      <td>3799796</td>\n",
       "    </tr>\n",
       "  </tbody>\n",
       "</table>\n",
       "</div>"
      ],
      "text/plain": [
       "    timestamp       Close        Open         Low        High    Volume\n",
       "0  2011-04-04  294.134125  296.796783  291.841827  297.667664   4104891\n",
       "1  2011-04-05  284.829834  290.830841  283.123108  291.036041  12082905\n",
       "2  2011-04-06  287.377380  286.376373  284.284271  287.867859   5331263\n",
       "3  2011-04-07  290.290283  288.153168  287.382385  290.610626   5057937\n",
       "4  2011-04-08  289.369354  292.737732  289.319305  292.737732   3799796"
      ]
     },
     "execution_count": 59,
     "metadata": {},
     "output_type": "execute_result"
    }
   ],
   "source": [
    "GOOGL_df.head()"
   ]
  },
  {
   "cell_type": "code",
   "execution_count": 60,
   "metadata": {},
   "outputs": [
    {
     "data": {
      "text/html": [
       "<div>\n",
       "<style scoped>\n",
       "    .dataframe tbody tr th:only-of-type {\n",
       "        vertical-align: middle;\n",
       "    }\n",
       "\n",
       "    .dataframe tbody tr th {\n",
       "        vertical-align: top;\n",
       "    }\n",
       "\n",
       "    .dataframe thead th {\n",
       "        text-align: right;\n",
       "    }\n",
       "</style>\n",
       "<table border=\"1\" class=\"dataframe\">\n",
       "  <thead>\n",
       "    <tr style=\"text-align: right;\">\n",
       "      <th></th>\n",
       "      <th>timestamp</th>\n",
       "      <th>Close</th>\n",
       "      <th>Open</th>\n",
       "      <th>Low</th>\n",
       "      <th>High</th>\n",
       "      <th>Volume</th>\n",
       "    </tr>\n",
       "  </thead>\n",
       "  <tbody>\n",
       "    <tr>\n",
       "      <th>2511</th>\n",
       "      <td>2021-03-26</td>\n",
       "      <td>2024.729980</td>\n",
       "      <td>2031.790039</td>\n",
       "      <td>2003.849976</td>\n",
       "      <td>2039.390015</td>\n",
       "      <td>1398300</td>\n",
       "    </tr>\n",
       "    <tr>\n",
       "      <th>2512</th>\n",
       "      <td>2021-03-29</td>\n",
       "      <td>2045.790039</td>\n",
       "      <td>2022.160034</td>\n",
       "      <td>2005.449951</td>\n",
       "      <td>2049.209961</td>\n",
       "      <td>1324600</td>\n",
       "    </tr>\n",
       "    <tr>\n",
       "      <th>2513</th>\n",
       "      <td>2021-03-30</td>\n",
       "      <td>2046.469971</td>\n",
       "      <td>2052.979980</td>\n",
       "      <td>2036.150024</td>\n",
       "      <td>2062.669922</td>\n",
       "      <td>1365600</td>\n",
       "    </tr>\n",
       "    <tr>\n",
       "      <th>2514</th>\n",
       "      <td>2021-03-31</td>\n",
       "      <td>2062.520020</td>\n",
       "      <td>2054.399902</td>\n",
       "      <td>2047.000000</td>\n",
       "      <td>2086.260010</td>\n",
       "      <td>2128500</td>\n",
       "    </tr>\n",
       "    <tr>\n",
       "      <th>2515</th>\n",
       "      <td>2021-04-01</td>\n",
       "      <td>2129.780029</td>\n",
       "      <td>2092.250000</td>\n",
       "      <td>2091.429932</td>\n",
       "      <td>2135.750000</td>\n",
       "      <td>1994000</td>\n",
       "    </tr>\n",
       "  </tbody>\n",
       "</table>\n",
       "</div>"
      ],
      "text/plain": [
       "       timestamp        Close         Open          Low         High   Volume\n",
       "2511  2021-03-26  2024.729980  2031.790039  2003.849976  2039.390015  1398300\n",
       "2512  2021-03-29  2045.790039  2022.160034  2005.449951  2049.209961  1324600\n",
       "2513  2021-03-30  2046.469971  2052.979980  2036.150024  2062.669922  1365600\n",
       "2514  2021-03-31  2062.520020  2054.399902  2047.000000  2086.260010  2128500\n",
       "2515  2021-04-01  2129.780029  2092.250000  2091.429932  2135.750000  1994000"
      ]
     },
     "execution_count": 60,
     "metadata": {},
     "output_type": "execute_result"
    }
   ],
   "source": [
    "GOOGL_df.tail()"
   ]
  },
  {
   "cell_type": "code",
   "execution_count": 61,
   "metadata": {},
   "outputs": [],
   "source": [
    "#save the list as a csv or excel\n",
    "GOOGL_df.to_csv(\"GOOGLE STOCK DATA_10yrs.csv\")\n",
    "#GOOGL_df.to_excel(\"GOOGLE STOCK DATA_18_01_21.xlsx\")"
   ]
  },
  {
   "cell_type": "code",
   "execution_count": null,
   "metadata": {},
   "outputs": [],
   "source": []
  }
 ],
 "metadata": {
  "kernelspec": {
   "display_name": "Python 3",
   "language": "python",
   "name": "python3"
  },
  "language_info": {
   "codemirror_mode": {
    "name": "ipython",
    "version": 3
   },
   "file_extension": ".py",
   "mimetype": "text/x-python",
   "name": "python",
   "nbconvert_exporter": "python",
   "pygments_lexer": "ipython3",
   "version": "3.7.6"
  }
 },
 "nbformat": 4,
 "nbformat_minor": 4
}
