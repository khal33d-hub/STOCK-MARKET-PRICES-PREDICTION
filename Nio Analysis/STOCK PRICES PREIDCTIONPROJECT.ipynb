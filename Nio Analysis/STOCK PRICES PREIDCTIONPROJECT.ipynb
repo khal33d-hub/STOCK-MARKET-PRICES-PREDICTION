{
 "cells": [
  {
   "cell_type": "markdown",
   "metadata": {},
   "source": [
    "# PROJECT NAME: STOCK MARKET PRICES PREDICTION\n",
    "\n",
    "## TEAM NAME: GROUP 3\n",
    "\n",
    "## TA: PERCY\n",
    "\n",
    "## GROUP MEMBERS: \n",
    "### 1. AYobami Adeniyi\n",
    "### 2. Ayodeji Anibaba\n",
    "### 3. Chisom Eluwa\n",
    "### 4. Khaleed Oyeleke\n",
    "### 5. Ronke Akinmosin\n",
    "### 6. Umar Idris"
   ]
  },
  {
   "cell_type": "markdown",
   "metadata": {},
   "source": [
    "# Table of Contents\n",
    "### [1. Introduction](#intro)\n",
    "1.1. Project overview\n",
    "\n",
    "1.2. Project statement\n",
    "### [2. Import packages and modules](#import)\n",
    "### [3. Data collection](#Webscraping)\n",
    "### [4. Load data](#load)\n",
    "### [5. Data description](#dd)\n",
    "5.1. A peek into our training data\n",
    "\n",
    "5.2. Training data basic statistics\n",
    "\n",
    "5.3. Additional data available\n",
    "### [6. Data cleaning](#cleaning)\n",
    "6.1. Missing values imputation\n",
    "\n",
    "6.2. Remove duplicates\n",
    "### [7. Exploratory Data Analysis](#eda)\n",
    "\n",
    "### [8. Modelling](#pp)\n",
    "\n",
    "\n",
    "### [9. Conclusion](#conc)"
   ]
  },
  {
   "cell_type": "markdown",
   "metadata": {},
   "source": [
    "### [1. Introduction](#intro)\n",
    "# Project overview\n",
    "\n",
    "The rewards and wins for the stock market brings to investors who can interpret the market are quite enormous while its penalties can be grievous to those who are ignorant, careless or unlucky. Nevertheless, investors are faced with the problem of knowing the right stock to buy and when to buy it. As a result, two different methods have been provided to address these problems. They are Fundamental analysis and Technical analysis.\n",
    "\n",
    "The fundamental analysis method involves examining auditor’s reports, balance sheets, profit and loss statements, dividend records, companies’ policies, and so on to determine what stock is worth buying or selling.\n",
    "\n",
    "The technical analysis method involves visualisation (mostly graphical representation) of the stocks trading history like price changes, volume of transaction, etc to determine the trend of the stocks and then making predictions on the future of the stocks based on insights drawn from the Exploratory Data Analysis and visualisation.\n",
    "\n",
    "We employed a Technical Analysis Method for this project.\n",
    "\n",
    "\n",
    "# Problem statement\n",
    "\n",
    "Being able to tell what stock to buy and when to buy it is quite a challenge for investors as buying the right stock at the wrong time can lead to great loss and buying at the right time can yield great reward.\n",
    "\n",
    "In order for prospective investors make the right decisions there is a need to have an informed decision around the subject.\n",
    "\n",
    "we started  by considering a technical analysis of the stock market, historical performances and patterns of the stock where also considered and then make accurate deductions on how the stock will perform in the future. This will then help investors make informed decisions.\n",
    "\n",
    "This can be achieved by devising an efficient algorithm using Recurrent Neural Network with Long Short-Term Memory(LSTM)\n"
   ]
  },
  {
   "cell_type": "markdown",
   "metadata": {},
   "source": [
    "### [2. Import packages and modules](#import)"
   ]
  },
  {
   "cell_type": "code",
   "execution_count": null,
   "metadata": {},
   "outputs": [],
   "source": [
    "import matplotlib.pyplot as plt\n",
    "import pandas as pd\n",
    "import seaborn as sns\n",
    "import numpy as np\n",
    "import mplfinance as mpf\n",
    "import requests\n",
    "import json\n",
    "from datetime import datetime\n",
    "%matplotlib inline"
   ]
  },
  {
   "cell_type": "markdown",
   "metadata": {},
   "source": [
    "### [3. Data collection](#Webscraping)"
   ]
  },
  {
   "cell_type": "code",
   "execution_count": null,
   "metadata": {},
   "outputs": [],
   "source": [
    "url_4 = \"https://apidojo-yahoo-finance-v1.p.rapidapi.com/stock/v2/get-chart\"\n",
    "\n",
    "querystring_4 = {\"interval\":\"1d\",\"symbol\":\"NIO\",\"range\":\"10y\",\"region\":\"US\"}\n",
    "\n",
    "headers_4 = {\n",
    "    'x-rapidapi-key': \"243ef897b3msh844988ee7a01b7fp192ddajsnbd64c87292e2\",\n",
    "    'x-rapidapi-host': \"apidojo-yahoo-finance-v1.p.rapidapi.com\"\n",
    "    }\n",
    "\n",
    "response_4 = requests.request(\"GET\", url_4, headers=headers_4, params=querystring_4)"
   ]
  },
  {
   "cell_type": "code",
   "execution_count": null,
   "metadata": {},
   "outputs": [],
   "source": [
    "def print_json(response_4):\n",
    "    word = json.dumps(response_4, sort_keys=True, indent=4)\n",
    "    \n",
    "    print(word)\n",
    "\n",
    "    \n",
    "print_json(response_4.json())  "
   ]
  },
  {
   "cell_type": "code",
   "execution_count": null,
   "metadata": {},
   "outputs": [],
   "source": [
    "data_4=response_4.json()"
   ]
  },
  {
   "cell_type": "code",
   "execution_count": null,
   "metadata": {},
   "outputs": [],
   "source": [
    "timestam_4 = data_4[\"chart\"][\"result\"][0][\"timestamp\"]\n",
    "Clos_4 = data_4[\"chart\"][\"result\"][0][\"indicators\"][\"quote\"][0][\"close\"]\n",
    "Ope_4 = data_4[\"chart\"][\"result\"][0][\"indicators\"][\"quote\"][0][\"open\"]\n",
    "lo_4 = data_4[\"chart\"][\"result\"][0][\"indicators\"][\"quote\"][0][\"low\"]\n",
    "hig_4 = data_4[\"chart\"][\"result\"][0][\"indicators\"][\"quote\"][0][\"high\"]\n",
    "Volum_4 = data_4[\"chart\"][\"result\"][0][\"indicators\"][\"quote\"][0][\"volume\"]\n",
    "AdjClos_4 = data_4[\"chart\"][\"result\"][0][\"indicators\"][\"adjclose\"][0]['adjclose']"
   ]
  },
  {
   "cell_type": "code",
   "execution_count": null,
   "metadata": {},
   "outputs": [],
   "source": [
    "dict_of_lists_4 = {\"timestamp\":timestam_4,\n",
    "                \"Close\":Clos_4,\n",
    "                \"Open\":Ope_4,\n",
    "                \"Low\":lo_4,\n",
    "                \"High\":hig_4,\n",
    "                \"Volume\":Volum_4,\n",
    "                  \"AdjClose\":AdjClos_4 }"
   ]
  },
  {
   "cell_type": "code",
   "execution_count": null,
   "metadata": {},
   "outputs": [],
   "source": [
    "Nio_df = pd.DataFrame(dict_of_lists_4)"
   ]
  },
  {
   "cell_type": "code",
   "execution_count": null,
   "metadata": {},
   "outputs": [],
   "source": [
    "Nio_df['timestamp'] = Nio_df['timestamp'].apply(lambda x: datetime.fromtimestamp(x))\n",
    "Nio_df['timestamp'] = Nio_df['timestamp'].dt.strftime('%Y-%m-%d')"
   ]
  },
  {
   "cell_type": "code",
   "execution_count": null,
   "metadata": {},
   "outputs": [],
   "source": [
    "Nio_df"
   ]
  },
  {
   "cell_type": "code",
   "execution_count": null,
   "metadata": {},
   "outputs": [],
   "source": [
    "Nio_df.to_csv(\"NIO_STOCK_DATA_10yrs.csv\")"
   ]
  },
  {
   "cell_type": "code",
   "execution_count": null,
   "metadata": {},
   "outputs": [],
   "source": [
    "NIO_2yrs = pd.read_csv(\"NIO_STOCK_DATA_10yrs.csv\", index_col=0)\n",
    "NIO_2yrs[\"Date\"] = NIO_2yrs[\"timestamp\"]"
   ]
  },
  {
   "cell_type": "markdown",
   "metadata": {},
   "source": [
    "# 5. Data description\n",
    "This dataset consists of 2 years data of NIO stock Timestamp, Close prices, Open prices, Low prices, High prices, Volume and AdjClose prices respectively.Stock market opens on weekdays only this does not include public holidays like martin luther king day . This data is available for public usage and research for free"
   ]
  },
  {
   "cell_type": "markdown",
   "metadata": {},
   "source": [
    "**Timestamp - This is the respective dates for each market day**\n",
    "\n",
    "**Open prices - This is the opeing price for each market day**\n",
    "\n",
    "**Close prices - This is the closing price for each market day**\n",
    "\n",
    "**Low prices- This is the lowest the price reached for each market day**\n",
    "\n",
    "**High prices - This is the highest the price reached for each market day**\n",
    "\n",
    "**Volume - This is the quantity of stocks sold and bought that day**\n",
    "\n",
    "**Adjusted Closing Price - The adjusted closing price amends a stock's closing price to reflect that stock's value after accounting for any corporate actions. Corporate actions occurs during the period between the market closing and opening the next day**\n",
    "\n",
    "\n",
    "### Source of data:\n",
    "The data for this stock is maintained on yahoo finance API."
   ]
  },
  {
   "cell_type": "code",
   "execution_count": null,
   "metadata": {},
   "outputs": [],
   "source": []
  }
 ],
 "metadata": {
  "kernelspec": {
   "display_name": "Python 3",
   "language": "python",
   "name": "python3"
  },
  "language_info": {
   "codemirror_mode": {
    "name": "ipython",
    "version": 3
   },
   "file_extension": ".py",
   "mimetype": "text/x-python",
   "name": "python",
   "nbconvert_exporter": "python",
   "pygments_lexer": "ipython3",
   "version": "3.8.3"
  }
 },
 "nbformat": 4,
 "nbformat_minor": 4
}
