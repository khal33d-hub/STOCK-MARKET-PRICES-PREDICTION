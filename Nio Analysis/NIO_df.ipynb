{
 "cells": [
  {
   "cell_type": "code",
   "execution_count": 1,
   "metadata": {},
   "outputs": [],
   "source": [
    "import requests\n",
    "import pandas as pd\n",
    "import json\n",
    "from datetime import datetime"
   ]
  },
  {
   "cell_type": "code",
   "execution_count": 2,
   "metadata": {},
   "outputs": [],
   "source": [
    "url_4 = \"https://apidojo-yahoo-finance-v1.p.rapidapi.com/stock/v2/get-chart\"\n",
    "\n",
    "querystring_4 = {\"interval\":\"1d\",\"symbol\":\"NIO\",\"range\":\"10y\",\"region\":\"US\"}\n",
    "\n",
    "headers_4 = {\n",
    "    'x-rapidapi-key': \"243ef897b3msh844988ee7a01b7fp192ddajsnbd64c87292e2\",\n",
    "    'x-rapidapi-host': \"apidojo-yahoo-finance-v1.p.rapidapi.com\"\n",
    "    }\n",
    "\n",
    "response_4 = requests.request(\"GET\", url_4, headers=headers_4, params=querystring_4)"
   ]
  },
  {
   "cell_type": "raw",
   "metadata": {},
   "source": [
    "def print_json(response_4):\n",
    "    word = json.dumps(response_4, sort_keys=True, indent=4)\n",
    "    \n",
    "    print(word)\n",
    "\n",
    "    \n",
    "print_json(response_4.json())  "
   ]
  },
  {
   "cell_type": "code",
   "execution_count": 3,
   "metadata": {},
   "outputs": [],
   "source": [
    "data_4=response_4.json()"
   ]
  },
  {
   "cell_type": "code",
   "execution_count": 4,
   "metadata": {},
   "outputs": [],
   "source": [
    "timestam_4 = data_4[\"chart\"][\"result\"][0][\"timestamp\"]\n",
    "Clos_4 = data_4[\"chart\"][\"result\"][0][\"indicators\"][\"quote\"][0][\"close\"]\n",
    "Ope_4 = data_4[\"chart\"][\"result\"][0][\"indicators\"][\"quote\"][0][\"open\"]\n",
    "lo_4 = data_4[\"chart\"][\"result\"][0][\"indicators\"][\"quote\"][0][\"low\"]\n",
    "hig_4 = data_4[\"chart\"][\"result\"][0][\"indicators\"][\"quote\"][0][\"high\"]\n",
    "Volum_4 = data_4[\"chart\"][\"result\"][0][\"indicators\"][\"quote\"][0][\"volume\"]\n",
    "# AdjClos_4 = data_4[\"chart\"][\"result\"][0][\"indicators\"][\"adjclose\"][0]['adjclose']"
   ]
  },
  {
   "cell_type": "code",
   "execution_count": 5,
   "metadata": {},
   "outputs": [],
   "source": [
    "dict_of_lists_4 = {\"timestamp\":timestam_4,\n",
    "                \"Close\":Clos_4,\n",
    "                \"Open\":Ope_4,\n",
    "                \"Low\":lo_4,\n",
    "                \"High\":hig_4,\n",
    "                \"Volume\":Volum_4}"
   ]
  },
  {
   "cell_type": "code",
   "execution_count": 6,
   "metadata": {},
   "outputs": [],
   "source": [
    "Nio_df = pd.DataFrame(dict_of_lists_4)"
   ]
  },
  {
   "cell_type": "code",
   "execution_count": 7,
   "metadata": {},
   "outputs": [],
   "source": [
    "Nio_df['timestamp'] = Nio_df['timestamp'].apply(lambda x: datetime.fromtimestamp(x))\n",
    "Nio_df['timestamp'] = Nio_df['timestamp'].dt.strftime('%Y-%m-%d')"
   ]
  },
  {
   "cell_type": "code",
   "execution_count": 8,
   "metadata": {},
   "outputs": [
    {
     "data": {
      "text/html": [
       "<div>\n",
       "<style scoped>\n",
       "    .dataframe tbody tr th:only-of-type {\n",
       "        vertical-align: middle;\n",
       "    }\n",
       "\n",
       "    .dataframe tbody tr th {\n",
       "        vertical-align: top;\n",
       "    }\n",
       "\n",
       "    .dataframe thead th {\n",
       "        text-align: right;\n",
       "    }\n",
       "</style>\n",
       "<table border=\"1\" class=\"dataframe\">\n",
       "  <thead>\n",
       "    <tr style=\"text-align: right;\">\n",
       "      <th></th>\n",
       "      <th>timestamp</th>\n",
       "      <th>Close</th>\n",
       "      <th>Open</th>\n",
       "      <th>Low</th>\n",
       "      <th>High</th>\n",
       "      <th>Volume</th>\n",
       "    </tr>\n",
       "  </thead>\n",
       "  <tbody>\n",
       "    <tr>\n",
       "      <th>0</th>\n",
       "      <td>2018-09-12</td>\n",
       "      <td>6.600000</td>\n",
       "      <td>6.000000</td>\n",
       "      <td>5.350000</td>\n",
       "      <td>6.930000</td>\n",
       "      <td>66849000</td>\n",
       "    </tr>\n",
       "    <tr>\n",
       "      <th>1</th>\n",
       "      <td>2018-09-13</td>\n",
       "      <td>11.600000</td>\n",
       "      <td>6.620000</td>\n",
       "      <td>6.520000</td>\n",
       "      <td>12.690000</td>\n",
       "      <td>158346500</td>\n",
       "    </tr>\n",
       "    <tr>\n",
       "      <th>2</th>\n",
       "      <td>2018-09-14</td>\n",
       "      <td>9.900000</td>\n",
       "      <td>12.660000</td>\n",
       "      <td>9.220000</td>\n",
       "      <td>13.800000</td>\n",
       "      <td>172473600</td>\n",
       "    </tr>\n",
       "    <tr>\n",
       "      <th>3</th>\n",
       "      <td>2018-09-17</td>\n",
       "      <td>8.500000</td>\n",
       "      <td>9.610000</td>\n",
       "      <td>8.500000</td>\n",
       "      <td>9.750000</td>\n",
       "      <td>56323900</td>\n",
       "    </tr>\n",
       "    <tr>\n",
       "      <th>4</th>\n",
       "      <td>2018-09-18</td>\n",
       "      <td>7.680000</td>\n",
       "      <td>8.730000</td>\n",
       "      <td>7.670000</td>\n",
       "      <td>9.100000</td>\n",
       "      <td>41827600</td>\n",
       "    </tr>\n",
       "    <tr>\n",
       "      <th>...</th>\n",
       "      <td>...</td>\n",
       "      <td>...</td>\n",
       "      <td>...</td>\n",
       "      <td>...</td>\n",
       "      <td>...</td>\n",
       "      <td>...</td>\n",
       "    </tr>\n",
       "    <tr>\n",
       "      <th>593</th>\n",
       "      <td>2021-01-21</td>\n",
       "      <td>58.340000</td>\n",
       "      <td>57.020000</td>\n",
       "      <td>55.880001</td>\n",
       "      <td>58.580002</td>\n",
       "      <td>73119500</td>\n",
       "    </tr>\n",
       "    <tr>\n",
       "      <th>594</th>\n",
       "      <td>2021-01-22</td>\n",
       "      <td>61.950001</td>\n",
       "      <td>58.950001</td>\n",
       "      <td>58.320000</td>\n",
       "      <td>62.169998</td>\n",
       "      <td>133918100</td>\n",
       "    </tr>\n",
       "    <tr>\n",
       "      <th>595</th>\n",
       "      <td>2021-01-25</td>\n",
       "      <td>59.990002</td>\n",
       "      <td>64.050003</td>\n",
       "      <td>58.349998</td>\n",
       "      <td>64.519997</td>\n",
       "      <td>111986400</td>\n",
       "    </tr>\n",
       "    <tr>\n",
       "      <th>596</th>\n",
       "      <td>2021-01-26</td>\n",
       "      <td>60.310001</td>\n",
       "      <td>60.040001</td>\n",
       "      <td>58.639999</td>\n",
       "      <td>60.669998</td>\n",
       "      <td>70170900</td>\n",
       "    </tr>\n",
       "    <tr>\n",
       "      <th>597</th>\n",
       "      <td>2021-01-27</td>\n",
       "      <td>58.235001</td>\n",
       "      <td>57.950001</td>\n",
       "      <td>57.220001</td>\n",
       "      <td>59.790001</td>\n",
       "      <td>39492589</td>\n",
       "    </tr>\n",
       "  </tbody>\n",
       "</table>\n",
       "<p>598 rows × 6 columns</p>\n",
       "</div>"
      ],
      "text/plain": [
       "      timestamp      Close       Open        Low       High     Volume\n",
       "0    2018-09-12   6.600000   6.000000   5.350000   6.930000   66849000\n",
       "1    2018-09-13  11.600000   6.620000   6.520000  12.690000  158346500\n",
       "2    2018-09-14   9.900000  12.660000   9.220000  13.800000  172473600\n",
       "3    2018-09-17   8.500000   9.610000   8.500000   9.750000   56323900\n",
       "4    2018-09-18   7.680000   8.730000   7.670000   9.100000   41827600\n",
       "..          ...        ...        ...        ...        ...        ...\n",
       "593  2021-01-21  58.340000  57.020000  55.880001  58.580002   73119500\n",
       "594  2021-01-22  61.950001  58.950001  58.320000  62.169998  133918100\n",
       "595  2021-01-25  59.990002  64.050003  58.349998  64.519997  111986400\n",
       "596  2021-01-26  60.310001  60.040001  58.639999  60.669998   70170900\n",
       "597  2021-01-27  58.235001  57.950001  57.220001  59.790001   39492589\n",
       "\n",
       "[598 rows x 6 columns]"
      ]
     },
     "execution_count": 8,
     "metadata": {},
     "output_type": "execute_result"
    }
   ],
   "source": [
    "Nio_df"
   ]
  },
  {
   "cell_type": "code",
   "execution_count": 9,
   "metadata": {},
   "outputs": [],
   "source": [
    "#save the list as a csv or excel\n",
    "Nio_df.to_csv(\"NIO_STOCK_DATA_10yrs.csv\")\n",
    "# Nio_df.to_excel(\"NIO STOCK DATA_18_01_21.xlsx\")"
   ]
  },
  {
   "cell_type": "code",
   "execution_count": 28,
   "metadata": {},
   "outputs": [
    {
     "data": {
      "text/plain": [
       "timestamp    0\n",
       "Close        0\n",
       "Open         0\n",
       "Low          0\n",
       "High         0\n",
       "Volume       0\n",
       "dtype: int64"
      ]
     },
     "execution_count": 28,
     "metadata": {},
     "output_type": "execute_result"
    }
   ],
   "source": [
    "Nio_df.isnull().sum()"
   ]
  },
  {
   "cell_type": "code",
   "execution_count": 30,
   "metadata": {
    "scrolled": true
   },
   "outputs": [
    {
     "data": {
      "text/html": [
       "<div>\n",
       "<style scoped>\n",
       "    .dataframe tbody tr th:only-of-type {\n",
       "        vertical-align: middle;\n",
       "    }\n",
       "\n",
       "    .dataframe tbody tr th {\n",
       "        vertical-align: top;\n",
       "    }\n",
       "\n",
       "    .dataframe thead th {\n",
       "        text-align: right;\n",
       "    }\n",
       "</style>\n",
       "<table border=\"1\" class=\"dataframe\">\n",
       "  <thead>\n",
       "    <tr style=\"text-align: right;\">\n",
       "      <th></th>\n",
       "      <th>Close</th>\n",
       "      <th>Open</th>\n",
       "      <th>Low</th>\n",
       "      <th>High</th>\n",
       "      <th>Volume</th>\n",
       "    </tr>\n",
       "  </thead>\n",
       "  <tbody>\n",
       "    <tr>\n",
       "      <th>count</th>\n",
       "      <td>504.000000</td>\n",
       "      <td>504.000000</td>\n",
       "      <td>504.000000</td>\n",
       "      <td>504.000000</td>\n",
       "      <td>5.040000e+02</td>\n",
       "    </tr>\n",
       "    <tr>\n",
       "      <th>mean</th>\n",
       "      <td>11.504643</td>\n",
       "      <td>11.470040</td>\n",
       "      <td>10.997242</td>\n",
       "      <td>11.911329</td>\n",
       "      <td>7.581798e+07</td>\n",
       "    </tr>\n",
       "    <tr>\n",
       "      <th>std</th>\n",
       "      <td>14.985613</td>\n",
       "      <td>14.954426</td>\n",
       "      <td>14.309459</td>\n",
       "      <td>15.503830</td>\n",
       "      <td>8.130958e+07</td>\n",
       "    </tr>\n",
       "    <tr>\n",
       "      <th>min</th>\n",
       "      <td>1.320000</td>\n",
       "      <td>1.190000</td>\n",
       "      <td>1.190000</td>\n",
       "      <td>1.450000</td>\n",
       "      <td>5.111000e+06</td>\n",
       "    </tr>\n",
       "    <tr>\n",
       "      <th>25%</th>\n",
       "      <td>3.017500</td>\n",
       "      <td>3.000000</td>\n",
       "      <td>2.907500</td>\n",
       "      <td>3.110000</td>\n",
       "      <td>2.524420e+07</td>\n",
       "    </tr>\n",
       "    <tr>\n",
       "      <th>50%</th>\n",
       "      <td>4.335000</td>\n",
       "      <td>4.355000</td>\n",
       "      <td>4.145000</td>\n",
       "      <td>4.490000</td>\n",
       "      <td>4.767270e+07</td>\n",
       "    </tr>\n",
       "    <tr>\n",
       "      <th>75%</th>\n",
       "      <td>13.130000</td>\n",
       "      <td>13.197500</td>\n",
       "      <td>12.480000</td>\n",
       "      <td>13.647500</td>\n",
       "      <td>9.085595e+07</td>\n",
       "    </tr>\n",
       "    <tr>\n",
       "      <th>max</th>\n",
       "      <td>62.700001</td>\n",
       "      <td>64.949997</td>\n",
       "      <td>62.189999</td>\n",
       "      <td>66.989998</td>\n",
       "      <td>5.771851e+08</td>\n",
       "    </tr>\n",
       "  </tbody>\n",
       "</table>\n",
       "</div>"
      ],
      "text/plain": [
       "            Close        Open         Low        High        Volume\n",
       "count  504.000000  504.000000  504.000000  504.000000  5.040000e+02\n",
       "mean    11.504643   11.470040   10.997242   11.911329  7.581798e+07\n",
       "std     14.985613   14.954426   14.309459   15.503830  8.130958e+07\n",
       "min      1.320000    1.190000    1.190000    1.450000  5.111000e+06\n",
       "25%      3.017500    3.000000    2.907500    3.110000  2.524420e+07\n",
       "50%      4.335000    4.355000    4.145000    4.490000  4.767270e+07\n",
       "75%     13.130000   13.197500   12.480000   13.647500  9.085595e+07\n",
       "max     62.700001   64.949997   62.189999   66.989998  5.771851e+08"
      ]
     },
     "execution_count": 30,
     "metadata": {},
     "output_type": "execute_result"
    }
   ],
   "source": [
    "Nio_df.describe()"
   ]
  },
  {
   "cell_type": "code",
   "execution_count": null,
   "metadata": {},
   "outputs": [],
   "source": []
  }
 ],
 "metadata": {
  "kernelspec": {
   "display_name": "Python 3",
   "language": "python",
   "name": "python3"
  },
  "language_info": {
   "codemirror_mode": {
    "name": "ipython",
    "version": 3
   },
   "file_extension": ".py",
   "mimetype": "text/x-python",
   "name": "python",
   "nbconvert_exporter": "python",
   "pygments_lexer": "ipython3",
   "version": "3.7.6"
  }
 },
 "nbformat": 4,
 "nbformat_minor": 4
}
