{
 "cells": [
  {
   "cell_type": "markdown",
   "metadata": {},
   "source": [
    "## Exploratory Data Analysis (EDA) For NIO Stock Of Two Years (End of 2018 - Start of 2021)"
   ]
  },
  {
   "cell_type": "markdown",
   "metadata": {},
   "source": [
    " - importing needed libraries"
   ]
  },
  {
   "cell_type": "code",
   "execution_count": 1,
   "metadata": {},
   "outputs": [],
   "source": [
    "import pandas as pd\n",
    "import matplotlib.pyplot as plt\n",
    "%matplotlib inline\n",
    "import seaborn as sns\n",
    "import numpy as np"
   ]
  },
  {
   "cell_type": "code",
   "execution_count": 2,
   "metadata": {},
   "outputs": [],
   "source": [
    "NIO_2yrs = pd.read_csv(\"NIO_STOCK_DATA_10yrs.csv\", index_col=0)"
   ]
  },
  {
   "cell_type": "code",
   "execution_count": 3,
   "metadata": {},
   "outputs": [],
   "source": [
    "NIO_2yrs['timestamp']=pd.to_datetime(NIO_2yrs['timestamp'])"
   ]
  },
  {
   "cell_type": "code",
   "execution_count": 4,
   "metadata": {},
   "outputs": [],
   "source": [
    "NIO_2yrs[\"Date\"] = NIO_2yrs[\"timestamp\"]"
   ]
  },
  {
   "cell_type": "markdown",
   "metadata": {},
   "source": [
    "**we make the timestamp the index so as to use timestamp slicing below**\n",
    " \n",
    "run this code box just once, other times would return a KeyError"
   ]
  },
  {
   "cell_type": "code",
   "execution_count": 5,
   "metadata": {},
   "outputs": [],
   "source": [
    "\n",
    "NIO_2yrs = NIO_2yrs.set_index(\"timestamp\")\n"
   ]
  },
  {
   "cell_type": "code",
   "execution_count": 6,
   "metadata": {},
   "outputs": [
    {
     "name": "stdout",
     "output_type": "stream",
     "text": [
      "<class 'pandas.core.frame.DataFrame'>\n",
      "DatetimeIndex: 605 entries, 2018-09-12 to 2021-02-05\n",
      "Data columns (total 6 columns):\n",
      " #   Column  Non-Null Count  Dtype         \n",
      "---  ------  --------------  -----         \n",
      " 0   Close   605 non-null    float64       \n",
      " 1   Open    605 non-null    float64       \n",
      " 2   Low     605 non-null    float64       \n",
      " 3   High    605 non-null    float64       \n",
      " 4   Volume  605 non-null    int64         \n",
      " 5   Date    605 non-null    datetime64[ns]\n",
      "dtypes: datetime64[ns](1), float64(4), int64(1)\n",
      "memory usage: 33.1 KB\n"
     ]
    }
   ],
   "source": [
    "NIO_2yrs.info()"
   ]
  },
  {
   "cell_type": "code",
   "execution_count": 7,
   "metadata": {},
   "outputs": [
    {
     "data": {
      "text/html": [
       "<div>\n",
       "<style scoped>\n",
       "    .dataframe tbody tr th:only-of-type {\n",
       "        vertical-align: middle;\n",
       "    }\n",
       "\n",
       "    .dataframe tbody tr th {\n",
       "        vertical-align: top;\n",
       "    }\n",
       "\n",
       "    .dataframe thead th {\n",
       "        text-align: right;\n",
       "    }\n",
       "</style>\n",
       "<table border=\"1\" class=\"dataframe\">\n",
       "  <thead>\n",
       "    <tr style=\"text-align: right;\">\n",
       "      <th></th>\n",
       "      <th>Close</th>\n",
       "      <th>Open</th>\n",
       "      <th>Low</th>\n",
       "      <th>High</th>\n",
       "      <th>Volume</th>\n",
       "      <th>Date</th>\n",
       "    </tr>\n",
       "  </thead>\n",
       "  <tbody>\n",
       "    <tr>\n",
       "      <th>count</th>\n",
       "      <td>605.000000</td>\n",
       "      <td>605.000000</td>\n",
       "      <td>605.000000</td>\n",
       "      <td>605.000000</td>\n",
       "      <td>6.050000e+02</td>\n",
       "      <td>605</td>\n",
       "    </tr>\n",
       "    <tr>\n",
       "      <th>unique</th>\n",
       "      <td>NaN</td>\n",
       "      <td>NaN</td>\n",
       "      <td>NaN</td>\n",
       "      <td>NaN</td>\n",
       "      <td>NaN</td>\n",
       "      <td>605</td>\n",
       "    </tr>\n",
       "    <tr>\n",
       "      <th>top</th>\n",
       "      <td>NaN</td>\n",
       "      <td>NaN</td>\n",
       "      <td>NaN</td>\n",
       "      <td>NaN</td>\n",
       "      <td>NaN</td>\n",
       "      <td>2020-08-26 00:00:00</td>\n",
       "    </tr>\n",
       "    <tr>\n",
       "      <th>freq</th>\n",
       "      <td>NaN</td>\n",
       "      <td>NaN</td>\n",
       "      <td>NaN</td>\n",
       "      <td>NaN</td>\n",
       "      <td>NaN</td>\n",
       "      <td>1</td>\n",
       "    </tr>\n",
       "    <tr>\n",
       "      <th>first</th>\n",
       "      <td>NaN</td>\n",
       "      <td>NaN</td>\n",
       "      <td>NaN</td>\n",
       "      <td>NaN</td>\n",
       "      <td>NaN</td>\n",
       "      <td>2018-09-12 00:00:00</td>\n",
       "    </tr>\n",
       "    <tr>\n",
       "      <th>last</th>\n",
       "      <td>NaN</td>\n",
       "      <td>NaN</td>\n",
       "      <td>NaN</td>\n",
       "      <td>NaN</td>\n",
       "      <td>NaN</td>\n",
       "      <td>2021-02-05 00:00:00</td>\n",
       "    </tr>\n",
       "    <tr>\n",
       "      <th>mean</th>\n",
       "      <td>11.426116</td>\n",
       "      <td>11.411818</td>\n",
       "      <td>10.939884</td>\n",
       "      <td>11.842926</td>\n",
       "      <td>6.721535e+07</td>\n",
       "      <td>NaN</td>\n",
       "    </tr>\n",
       "    <tr>\n",
       "      <th>std</th>\n",
       "      <td>14.758532</td>\n",
       "      <td>14.756245</td>\n",
       "      <td>14.132323</td>\n",
       "      <td>15.262986</td>\n",
       "      <td>7.742558e+07</td>\n",
       "      <td>NaN</td>\n",
       "    </tr>\n",
       "    <tr>\n",
       "      <th>min</th>\n",
       "      <td>1.320000</td>\n",
       "      <td>1.190000</td>\n",
       "      <td>1.190000</td>\n",
       "      <td>1.450000</td>\n",
       "      <td>5.111000e+06</td>\n",
       "      <td>NaN</td>\n",
       "    </tr>\n",
       "    <tr>\n",
       "      <th>25%</th>\n",
       "      <td>3.190000</td>\n",
       "      <td>3.150000</td>\n",
       "      <td>3.080000</td>\n",
       "      <td>3.290000</td>\n",
       "      <td>2.034290e+07</td>\n",
       "      <td>NaN</td>\n",
       "    </tr>\n",
       "    <tr>\n",
       "      <th>50%</th>\n",
       "      <td>5.600000</td>\n",
       "      <td>5.690000</td>\n",
       "      <td>5.350000</td>\n",
       "      <td>5.870000</td>\n",
       "      <td>4.015520e+07</td>\n",
       "      <td>NaN</td>\n",
       "    </tr>\n",
       "    <tr>\n",
       "      <th>75%</th>\n",
       "      <td>10.160000</td>\n",
       "      <td>10.320000</td>\n",
       "      <td>9.700000</td>\n",
       "      <td>11.900000</td>\n",
       "      <td>7.884640e+07</td>\n",
       "      <td>NaN</td>\n",
       "    </tr>\n",
       "    <tr>\n",
       "      <th>max</th>\n",
       "      <td>62.700001</td>\n",
       "      <td>64.949997</td>\n",
       "      <td>62.189999</td>\n",
       "      <td>66.989998</td>\n",
       "      <td>5.771851e+08</td>\n",
       "      <td>NaN</td>\n",
       "    </tr>\n",
       "  </tbody>\n",
       "</table>\n",
       "</div>"
      ],
      "text/plain": [
       "             Close        Open         Low        High        Volume  \\\n",
       "count   605.000000  605.000000  605.000000  605.000000  6.050000e+02   \n",
       "unique         NaN         NaN         NaN         NaN           NaN   \n",
       "top            NaN         NaN         NaN         NaN           NaN   \n",
       "freq           NaN         NaN         NaN         NaN           NaN   \n",
       "first          NaN         NaN         NaN         NaN           NaN   \n",
       "last           NaN         NaN         NaN         NaN           NaN   \n",
       "mean     11.426116   11.411818   10.939884   11.842926  6.721535e+07   \n",
       "std      14.758532   14.756245   14.132323   15.262986  7.742558e+07   \n",
       "min       1.320000    1.190000    1.190000    1.450000  5.111000e+06   \n",
       "25%       3.190000    3.150000    3.080000    3.290000  2.034290e+07   \n",
       "50%       5.600000    5.690000    5.350000    5.870000  4.015520e+07   \n",
       "75%      10.160000   10.320000    9.700000   11.900000  7.884640e+07   \n",
       "max      62.700001   64.949997   62.189999   66.989998  5.771851e+08   \n",
       "\n",
       "                       Date  \n",
       "count                   605  \n",
       "unique                  605  \n",
       "top     2020-08-26 00:00:00  \n",
       "freq                      1  \n",
       "first   2018-09-12 00:00:00  \n",
       "last    2021-02-05 00:00:00  \n",
       "mean                    NaN  \n",
       "std                     NaN  \n",
       "min                     NaN  \n",
       "25%                     NaN  \n",
       "50%                     NaN  \n",
       "75%                     NaN  \n",
       "max                     NaN  "
      ]
     },
     "execution_count": 7,
     "metadata": {},
     "output_type": "execute_result"
    }
   ],
   "source": [
    "NIO_2yrs.describe(include= 'all')"
   ]
  },
  {
   "cell_type": "code",
   "execution_count": 8,
   "metadata": {},
   "outputs": [
    {
     "data": {
      "text/plain": [
       "Close     0\n",
       "Open      0\n",
       "Low       0\n",
       "High      0\n",
       "Volume    0\n",
       "Date      0\n",
       "dtype: int64"
      ]
     },
     "execution_count": 8,
     "metadata": {},
     "output_type": "execute_result"
    }
   ],
   "source": [
    "#checking for null values\n",
    "NIO_2yrs.isnull().sum()"
   ]
  },
  {
   "cell_type": "code",
   "execution_count": 9,
   "metadata": {},
   "outputs": [
    {
     "data": {
      "text/html": [
       "<div>\n",
       "<style scoped>\n",
       "    .dataframe tbody tr th:only-of-type {\n",
       "        vertical-align: middle;\n",
       "    }\n",
       "\n",
       "    .dataframe tbody tr th {\n",
       "        vertical-align: top;\n",
       "    }\n",
       "\n",
       "    .dataframe thead th {\n",
       "        text-align: right;\n",
       "    }\n",
       "</style>\n",
       "<table border=\"1\" class=\"dataframe\">\n",
       "  <thead>\n",
       "    <tr style=\"text-align: right;\">\n",
       "      <th></th>\n",
       "      <th>Close</th>\n",
       "      <th>Open</th>\n",
       "      <th>Low</th>\n",
       "      <th>High</th>\n",
       "      <th>Volume</th>\n",
       "      <th>Date</th>\n",
       "    </tr>\n",
       "    <tr>\n",
       "      <th>timestamp</th>\n",
       "      <th></th>\n",
       "      <th></th>\n",
       "      <th></th>\n",
       "      <th></th>\n",
       "      <th></th>\n",
       "      <th></th>\n",
       "    </tr>\n",
       "  </thead>\n",
       "  <tbody>\n",
       "    <tr>\n",
       "      <th>2018-09-12</th>\n",
       "      <td>6.600000</td>\n",
       "      <td>6.000000</td>\n",
       "      <td>5.350000</td>\n",
       "      <td>6.930000</td>\n",
       "      <td>66849000</td>\n",
       "      <td>2018-09-12</td>\n",
       "    </tr>\n",
       "    <tr>\n",
       "      <th>2018-09-13</th>\n",
       "      <td>11.600000</td>\n",
       "      <td>6.620000</td>\n",
       "      <td>6.520000</td>\n",
       "      <td>12.690000</td>\n",
       "      <td>158346500</td>\n",
       "      <td>2018-09-13</td>\n",
       "    </tr>\n",
       "    <tr>\n",
       "      <th>2018-09-14</th>\n",
       "      <td>9.900000</td>\n",
       "      <td>12.660000</td>\n",
       "      <td>9.220000</td>\n",
       "      <td>13.800000</td>\n",
       "      <td>172473600</td>\n",
       "      <td>2018-09-14</td>\n",
       "    </tr>\n",
       "    <tr>\n",
       "      <th>2018-09-17</th>\n",
       "      <td>8.500000</td>\n",
       "      <td>9.610000</td>\n",
       "      <td>8.500000</td>\n",
       "      <td>9.750000</td>\n",
       "      <td>56323900</td>\n",
       "      <td>2018-09-17</td>\n",
       "    </tr>\n",
       "    <tr>\n",
       "      <th>2018-09-18</th>\n",
       "      <td>7.680000</td>\n",
       "      <td>8.730000</td>\n",
       "      <td>7.670000</td>\n",
       "      <td>9.100000</td>\n",
       "      <td>41827600</td>\n",
       "      <td>2018-09-18</td>\n",
       "    </tr>\n",
       "    <tr>\n",
       "      <th>...</th>\n",
       "      <td>...</td>\n",
       "      <td>...</td>\n",
       "      <td>...</td>\n",
       "      <td>...</td>\n",
       "      <td>...</td>\n",
       "      <td>...</td>\n",
       "    </tr>\n",
       "    <tr>\n",
       "      <th>2021-02-01</th>\n",
       "      <td>56.990002</td>\n",
       "      <td>59.070000</td>\n",
       "      <td>54.369999</td>\n",
       "      <td>59.119999</td>\n",
       "      <td>79878700</td>\n",
       "      <td>2021-02-01</td>\n",
       "    </tr>\n",
       "    <tr>\n",
       "      <th>2021-02-02</th>\n",
       "      <td>55.770000</td>\n",
       "      <td>57.060001</td>\n",
       "      <td>54.509998</td>\n",
       "      <td>57.540001</td>\n",
       "      <td>66234100</td>\n",
       "      <td>2021-02-02</td>\n",
       "    </tr>\n",
       "    <tr>\n",
       "      <th>2021-02-03</th>\n",
       "      <td>57.980000</td>\n",
       "      <td>55.959999</td>\n",
       "      <td>54.840000</td>\n",
       "      <td>58.720001</td>\n",
       "      <td>80122300</td>\n",
       "      <td>2021-02-03</td>\n",
       "    </tr>\n",
       "    <tr>\n",
       "      <th>2021-02-04</th>\n",
       "      <td>57.599998</td>\n",
       "      <td>58.790001</td>\n",
       "      <td>57.110001</td>\n",
       "      <td>59.200001</td>\n",
       "      <td>48667900</td>\n",
       "      <td>2021-02-04</td>\n",
       "    </tr>\n",
       "    <tr>\n",
       "      <th>2021-02-05</th>\n",
       "      <td>56.669998</td>\n",
       "      <td>57.740002</td>\n",
       "      <td>56.009998</td>\n",
       "      <td>57.980000</td>\n",
       "      <td>42892500</td>\n",
       "      <td>2021-02-05</td>\n",
       "    </tr>\n",
       "  </tbody>\n",
       "</table>\n",
       "<p>605 rows × 6 columns</p>\n",
       "</div>"
      ],
      "text/plain": [
       "                Close       Open        Low       High     Volume       Date\n",
       "timestamp                                                                   \n",
       "2018-09-12   6.600000   6.000000   5.350000   6.930000   66849000 2018-09-12\n",
       "2018-09-13  11.600000   6.620000   6.520000  12.690000  158346500 2018-09-13\n",
       "2018-09-14   9.900000  12.660000   9.220000  13.800000  172473600 2018-09-14\n",
       "2018-09-17   8.500000   9.610000   8.500000   9.750000   56323900 2018-09-17\n",
       "2018-09-18   7.680000   8.730000   7.670000   9.100000   41827600 2018-09-18\n",
       "...               ...        ...        ...        ...        ...        ...\n",
       "2021-02-01  56.990002  59.070000  54.369999  59.119999   79878700 2021-02-01\n",
       "2021-02-02  55.770000  57.060001  54.509998  57.540001   66234100 2021-02-02\n",
       "2021-02-03  57.980000  55.959999  54.840000  58.720001   80122300 2021-02-03\n",
       "2021-02-04  57.599998  58.790001  57.110001  59.200001   48667900 2021-02-04\n",
       "2021-02-05  56.669998  57.740002  56.009998  57.980000   42892500 2021-02-05\n",
       "\n",
       "[605 rows x 6 columns]"
      ]
     },
     "execution_count": 9,
     "metadata": {},
     "output_type": "execute_result"
    }
   ],
   "source": [
    "NIO_2yrs"
   ]
  },
  {
   "cell_type": "markdown",
   "metadata": {},
   "source": [
    "lets see a visualization of the whole data in a candle chart pattern, shall we;"
   ]
  },
  {
   "cell_type": "code",
   "execution_count": 10,
   "metadata": {},
   "outputs": [],
   "source": [
    "import mplfinance as fplt"
   ]
  },
  {
   "cell_type": "code",
   "execution_count": 11,
   "metadata": {},
   "outputs": [
    {
     "data": {
      "image/png": "[encoded data removed]",
      "text/plain": [
       "<Figure size 800x575 with 2 Axes>"
      ]
     },
     "metadata": {},
     "output_type": "display_data"
    }
   ],
   "source": [
    "fplt.plot(NIO_2yrs,\n",
    "            type='candle',\n",
    "            style='charles',\n",
    "            title='NIO_2yrs ',\n",
    "            ylabel='Price ($)'\n",
    "        )"
   ]
  },
  {
   "cell_type": "markdown",
   "metadata": {},
   "source": [
    "**There was an increase in the buying rate of NIO stocks from june/july of 2020 which brought about an increase in growth of the stock**"
   ]
  },
  {
   "cell_type": "markdown",
   "metadata": {},
   "source": [
    " - This code Below is called timestamp slicing, it is very similar to pyhton index slicing but this time We are dataframe index slicing"
   ]
  },
  {
   "cell_type": "markdown",
   "metadata": {},
   "source": [
    "#### examples ####"
   ]
  },
  {
   "cell_type": "code",
   "execution_count": 12,
   "metadata": {},
   "outputs": [
    {
     "data": {
      "text/html": [
       "<div>\n",
       "<style scoped>\n",
       "    .dataframe tbody tr th:only-of-type {\n",
       "        vertical-align: middle;\n",
       "    }\n",
       "\n",
       "    .dataframe tbody tr th {\n",
       "        vertical-align: top;\n",
       "    }\n",
       "\n",
       "    .dataframe thead th {\n",
       "        text-align: right;\n",
       "    }\n",
       "</style>\n",
       "<table border=\"1\" class=\"dataframe\">\n",
       "  <thead>\n",
       "    <tr style=\"text-align: right;\">\n",
       "      <th></th>\n",
       "      <th>Close</th>\n",
       "      <th>Open</th>\n",
       "      <th>Low</th>\n",
       "      <th>High</th>\n",
       "      <th>Volume</th>\n",
       "      <th>Date</th>\n",
       "    </tr>\n",
       "    <tr>\n",
       "      <th>timestamp</th>\n",
       "      <th></th>\n",
       "      <th></th>\n",
       "      <th></th>\n",
       "      <th></th>\n",
       "      <th></th>\n",
       "      <th></th>\n",
       "    </tr>\n",
       "  </thead>\n",
       "  <tbody>\n",
       "    <tr>\n",
       "      <th>2019-01-02</th>\n",
       "      <td>6.20</td>\n",
       "      <td>6.13</td>\n",
       "      <td>6.00</td>\n",
       "      <td>6.24</td>\n",
       "      <td>8823600</td>\n",
       "      <td>2019-01-02</td>\n",
       "    </tr>\n",
       "    <tr>\n",
       "      <th>2019-01-03</th>\n",
       "      <td>6.05</td>\n",
       "      <td>6.10</td>\n",
       "      <td>6.02</td>\n",
       "      <td>6.15</td>\n",
       "      <td>7562900</td>\n",
       "      <td>2019-01-03</td>\n",
       "    </tr>\n",
       "    <tr>\n",
       "      <th>2019-01-04</th>\n",
       "      <td>6.36</td>\n",
       "      <td>6.19</td>\n",
       "      <td>6.13</td>\n",
       "      <td>6.40</td>\n",
       "      <td>9405600</td>\n",
       "      <td>2019-01-04</td>\n",
       "    </tr>\n",
       "    <tr>\n",
       "      <th>2019-01-07</th>\n",
       "      <td>6.50</td>\n",
       "      <td>6.41</td>\n",
       "      <td>6.31</td>\n",
       "      <td>6.59</td>\n",
       "      <td>9709000</td>\n",
       "      <td>2019-01-07</td>\n",
       "    </tr>\n",
       "    <tr>\n",
       "      <th>2019-01-08</th>\n",
       "      <td>6.40</td>\n",
       "      <td>6.57</td>\n",
       "      <td>6.17</td>\n",
       "      <td>6.58</td>\n",
       "      <td>9603800</td>\n",
       "      <td>2019-01-08</td>\n",
       "    </tr>\n",
       "  </tbody>\n",
       "</table>\n",
       "</div>"
      ],
      "text/plain": [
       "            Close  Open   Low  High   Volume       Date\n",
       "timestamp                                              \n",
       "2019-01-02   6.20  6.13  6.00  6.24  8823600 2019-01-02\n",
       "2019-01-03   6.05  6.10  6.02  6.15  7562900 2019-01-03\n",
       "2019-01-04   6.36  6.19  6.13  6.40  9405600 2019-01-04\n",
       "2019-01-07   6.50  6.41  6.31  6.59  9709000 2019-01-07\n",
       "2019-01-08   6.40  6.57  6.17  6.58  9603800 2019-01-08"
      ]
     },
     "execution_count": 12,
     "metadata": {},
     "output_type": "execute_result"
    }
   ],
   "source": [
    "# This slices from the beginnning of 2019 to the end\n",
    "# as you can see  with the head and tail functions\n",
    "NIO_2019 = NIO_2yrs[\"2019\":\"2019\"]\n",
    "NIO_2019.head()"
   ]
  },
  {
   "cell_type": "code",
   "execution_count": 13,
   "metadata": {},
   "outputs": [
    {
     "data": {
      "text/html": [
       "<div>\n",
       "<style scoped>\n",
       "    .dataframe tbody tr th:only-of-type {\n",
       "        vertical-align: middle;\n",
       "    }\n",
       "\n",
       "    .dataframe tbody tr th {\n",
       "        vertical-align: top;\n",
       "    }\n",
       "\n",
       "    .dataframe thead th {\n",
       "        text-align: right;\n",
       "    }\n",
       "</style>\n",
       "<table border=\"1\" class=\"dataframe\">\n",
       "  <thead>\n",
       "    <tr style=\"text-align: right;\">\n",
       "      <th></th>\n",
       "      <th>Close</th>\n",
       "      <th>Open</th>\n",
       "      <th>Low</th>\n",
       "      <th>High</th>\n",
       "      <th>Volume</th>\n",
       "      <th>Date</th>\n",
       "    </tr>\n",
       "    <tr>\n",
       "      <th>timestamp</th>\n",
       "      <th></th>\n",
       "      <th></th>\n",
       "      <th></th>\n",
       "      <th></th>\n",
       "      <th></th>\n",
       "      <th></th>\n",
       "    </tr>\n",
       "  </thead>\n",
       "  <tbody>\n",
       "    <tr>\n",
       "      <th>2019-12-24</th>\n",
       "      <td>2.53</td>\n",
       "      <td>2.63</td>\n",
       "      <td>2.45</td>\n",
       "      <td>2.63</td>\n",
       "      <td>32029800</td>\n",
       "      <td>2019-12-24</td>\n",
       "    </tr>\n",
       "    <tr>\n",
       "      <th>2019-12-26</th>\n",
       "      <td>2.51</td>\n",
       "      <td>2.45</td>\n",
       "      <td>2.35</td>\n",
       "      <td>2.52</td>\n",
       "      <td>44173700</td>\n",
       "      <td>2019-12-26</td>\n",
       "    </tr>\n",
       "    <tr>\n",
       "      <th>2019-12-27</th>\n",
       "      <td>2.42</td>\n",
       "      <td>2.54</td>\n",
       "      <td>2.41</td>\n",
       "      <td>2.55</td>\n",
       "      <td>37553300</td>\n",
       "      <td>2019-12-27</td>\n",
       "    </tr>\n",
       "    <tr>\n",
       "      <th>2019-12-30</th>\n",
       "      <td>3.72</td>\n",
       "      <td>2.92</td>\n",
       "      <td>2.88</td>\n",
       "      <td>4.87</td>\n",
       "      <td>432720700</td>\n",
       "      <td>2019-12-30</td>\n",
       "    </tr>\n",
       "    <tr>\n",
       "      <th>2019-12-31</th>\n",
       "      <td>4.02</td>\n",
       "      <td>4.15</td>\n",
       "      <td>3.82</td>\n",
       "      <td>4.42</td>\n",
       "      <td>215008600</td>\n",
       "      <td>2019-12-31</td>\n",
       "    </tr>\n",
       "  </tbody>\n",
       "</table>\n",
       "</div>"
      ],
      "text/plain": [
       "            Close  Open   Low  High     Volume       Date\n",
       "timestamp                                                \n",
       "2019-12-24   2.53  2.63  2.45  2.63   32029800 2019-12-24\n",
       "2019-12-26   2.51  2.45  2.35  2.52   44173700 2019-12-26\n",
       "2019-12-27   2.42  2.54  2.41  2.55   37553300 2019-12-27\n",
       "2019-12-30   3.72  2.92  2.88  4.87  432720700 2019-12-30\n",
       "2019-12-31   4.02  4.15  3.82  4.42  215008600 2019-12-31"
      ]
     },
     "execution_count": 13,
     "metadata": {},
     "output_type": "execute_result"
    }
   ],
   "source": [
    "NIO_2019.tail()"
   ]
  },
  {
   "cell_type": "markdown",
   "metadata": {},
   "source": [
    "**example 2**"
   ]
  },
  {
   "cell_type": "code",
   "execution_count": 14,
   "metadata": {
    "scrolled": false
   },
   "outputs": [
    {
     "ename": "NameError",
     "evalue": "name 'NIO_2019_jan_1' is not defined",
     "output_type": "error",
     "traceback": [
      "\u001b[1;31m---------------------------------------------------------------------------\u001b[0m",
      "\u001b[1;31mNameError\u001b[0m                                 Traceback (most recent call last)",
      "\u001b[1;32m<ipython-input-14-1cb0adb9af8b>\u001b[0m in \u001b[0;36m<module>\u001b[1;34m\u001b[0m\n\u001b[0;32m      5\u001b[0m \u001b[0mfig\u001b[0m\u001b[1;33m,\u001b[0m \u001b[0max\u001b[0m \u001b[1;33m=\u001b[0m \u001b[0mplt\u001b[0m\u001b[1;33m.\u001b[0m\u001b[0msubplots\u001b[0m\u001b[1;33m(\u001b[0m\u001b[1;33m)\u001b[0m\u001b[1;33m\u001b[0m\u001b[1;33m\u001b[0m\u001b[0m\n\u001b[0;32m      6\u001b[0m \u001b[0mfig\u001b[0m\u001b[1;33m.\u001b[0m\u001b[0mset_size_inches\u001b[0m\u001b[1;33m(\u001b[0m\u001b[1;33m[\u001b[0m\u001b[1;36m30\u001b[0m\u001b[1;33m,\u001b[0m \u001b[1;36m15\u001b[0m\u001b[1;33m]\u001b[0m\u001b[1;33m)\u001b[0m\u001b[1;33m\u001b[0m\u001b[1;33m\u001b[0m\u001b[0m\n\u001b[1;32m----> 7\u001b[1;33m \u001b[0max\u001b[0m\u001b[1;33m.\u001b[0m\u001b[0mplot\u001b[0m\u001b[1;33m(\u001b[0m\u001b[0mNIO_2019_jan_1\u001b[0m\u001b[1;33m.\u001b[0m\u001b[0mindex\u001b[0m\u001b[1;33m,\u001b[0m \u001b[0mNIO_2019_jan_1\u001b[0m\u001b[1;33m[\u001b[0m\u001b[1;34m\"Close\"\u001b[0m\u001b[1;33m]\u001b[0m\u001b[1;33m,\u001b[0m \u001b[0mcolor\u001b[0m\u001b[1;33m=\u001b[0m\u001b[1;34m'blue'\u001b[0m\u001b[1;33m,\u001b[0m \u001b[0mmarker\u001b[0m\u001b[1;33m=\u001b[0m\u001b[1;34m\"v\"\u001b[0m\u001b[1;33m,\u001b[0m \u001b[0mlinestyle\u001b[0m\u001b[1;33m=\u001b[0m\u001b[1;34m\"--\"\u001b[0m\u001b[1;33m)\u001b[0m\u001b[1;33m\u001b[0m\u001b[1;33m\u001b[0m\u001b[0m\n\u001b[0m\u001b[0;32m      8\u001b[0m \u001b[0max\u001b[0m\u001b[1;33m.\u001b[0m\u001b[0mset_xlabel\u001b[0m\u001b[1;33m(\u001b[0m\u001b[1;34m\"Date\"\u001b[0m\u001b[1;33m,\u001b[0m \u001b[0mfontsize\u001b[0m\u001b[1;33m=\u001b[0m\u001b[1;36m30\u001b[0m\u001b[1;33m)\u001b[0m\u001b[1;33m\u001b[0m\u001b[1;33m\u001b[0m\u001b[0m\n\u001b[0;32m      9\u001b[0m \u001b[0max\u001b[0m\u001b[1;33m.\u001b[0m\u001b[0mset_ylabel\u001b[0m\u001b[1;33m(\u001b[0m\u001b[1;34m\"Close Price\"\u001b[0m\u001b[1;33m,\u001b[0m \u001b[0mcolor\u001b[0m\u001b[1;33m=\u001b[0m\u001b[1;34m'blue'\u001b[0m\u001b[1;33m,\u001b[0m \u001b[0mfontsize\u001b[0m\u001b[1;33m=\u001b[0m\u001b[1;36m30\u001b[0m\u001b[1;33m)\u001b[0m\u001b[1;33m\u001b[0m\u001b[1;33m\u001b[0m\u001b[0m\n",
      "\u001b[1;31mNameError\u001b[0m: name 'NIO_2019_jan_1' is not defined"
     ]
    },
    {
     "data": {
      "image/png": "[encoded data removed]",
      "text/plain": [
       "<Figure size 3000x1500 with 1 Axes>"
      ]
     },
     "metadata": {},
     "output_type": "display_data"
    }
   ],
   "source": [
    "# plotting a graph of whole of January 2019's Open and Close price in the same graph\n",
    "# this matplotlib code syntax isnt common, pls use another code syntax if youre not comfortable with this one\n",
    "# you can contact khaleed if you have any questions regarding this\n",
    "plt.style.use(\"ggplot\")\n",
    "fig, ax = plt.subplots()\n",
    "fig.set_size_inches([30, 15])\n",
    "ax.plot(NIO_2019_jan_1.index, NIO_2019_jan_1[\"Close\"], color='blue', marker=\"v\", linestyle=\"--\")\n",
    "ax.set_xlabel(\"Date\", fontsize=30)\n",
    "ax.set_ylabel(\"Close Price\", color='blue', fontsize=30)\n",
    "ax.set_xticklabels(NIO_2019_jan_1.index, rotation=90, fontsize=30)\n",
    "\n",
    "ax2 = ax.twinx()\n",
    "ax2.plot(NIO_2019_jan_1.index, NIO_2019_jan_1[\"Open\"], color='red', marker=\"o\")\n",
    "ax2.set_ylabel(\"Open Price\", color='red', fontsize=30\n",
    ")\n",
    "# save the picture on your local machine to visualize properly\n",
    "fig.savefig(\"NIO_jan_2019.png\", dpi=300)"
   ]
  },
  {
   "cell_type": "markdown",
   "metadata": {},
   "source": [
    "**let us take a look at the correlation of this data**"
   ]
  },
  {
   "cell_type": "code",
   "execution_count": null,
   "metadata": {},
   "outputs": [],
   "source": [
    "#Correlation Matrix\n",
    "corr = NIO_2yrs.corr()\n",
    "sns.heatmap(corr,annot=True,cmap='seismic',\n",
    "            xticklabels=corr.columns.values,\n",
    "            yticklabels=corr.columns.values)\n",
    "plt.title('Heatmap of Correlation Matrix')\n",
    "plt.show()\n",
    "print(corr)"
   ]
  },
  {
   "cell_type": "markdown",
   "metadata": {},
   "source": [
    "**There is high correlation between the prices , only volume has moderate or low correlation with the remaining price columns**"
   ]
  },
  {
   "cell_type": "code",
   "execution_count": null,
   "metadata": {},
   "outputs": [],
   "source": [
    "#!pip install mplfinance"
   ]
  },
  {
   "cell_type": "code",
   "execution_count": null,
   "metadata": {},
   "outputs": [],
   "source": [
    "fplt.plot(NIO_2019_jan_1,\n",
    "            type='candle',\n",
    "            style='charles',\n",
    "            title='NIO,January - 2020',\n",
    "            ylabel='Price ($)'\n",
    "        )"
   ]
  },
  {
   "cell_type": "code",
   "execution_count": null,
   "metadata": {},
   "outputs": [],
   "source": [
    "NIO_jan_intro = NIO_2yrs[\"2018-12-31\":\"2019-1-4\"]\n",
    "\n",
    "fplt.plot(NIO_jan_intro,\n",
    "            type='candle',\n",
    "            style='charles',\n",
    "            title='NIO,January_intro - 2019',\n",
    "            ylabel='Price ($)'\n",
    "        )\n"
   ]
  },
  {
   "cell_type": "code",
   "execution_count": null,
   "metadata": {},
   "outputs": [],
   "source": [
    "NIO_2019_jan = NIO_2yrs[\"2019-1-7\":\"2019-1-11\"]\n",
    "NIO_2019_jan"
   ]
  },
  {
   "cell_type": "code",
   "execution_count": null,
   "metadata": {},
   "outputs": [],
   "source": [
    "fplt.plot(NIO_2019_jan,\n",
    "            type='candle',\n",
    "            style='charles',\n",
    "            title='NIO,January_1stweek - 2019',\n",
    "            ylabel='Price ($)'\n",
    "        )"
   ]
  },
  {
   "cell_type": "code",
   "execution_count": null,
   "metadata": {},
   "outputs": [],
   "source": [
    "NIO_jan_2nd_week = NIO_2yrs[\"2019-1-14\":\"2019-1-18\"]\n",
    "\n",
    "print(NIO_jan_2nd_week)\n",
    "\n",
    "fplt.plot(NIO_jan_2nd_week,\n",
    "            type='candle',\n",
    "            style='charles',\n",
    "            title='NIO,January_2ndweek - 2019',\n",
    "            ylabel='Price ($)'\n",
    "        )\n"
   ]
  },
  {
   "cell_type": "code",
   "execution_count": null,
   "metadata": {},
   "outputs": [],
   "source": [
    "NIO_jan_3rd_week = NIO_2yrs[\"2019-1-21\":\"2019-1-25\"]\n",
    "print(NIO_jan_3rd_week)\n",
    "fplt.plot(NIO_jan_3rd_week,\n",
    "            type='candle',\n",
    "            style='charles',\n",
    "            title='NIO,January_3rdweek - 2019',\n",
    "            ylabel='Price ($)'\n",
    "        )"
   ]
  },
  {
   "cell_type": "code",
   "execution_count": null,
   "metadata": {},
   "outputs": [],
   "source": [
    "NIO_jan_4th_week = NIO_2yrs[\"2019-1-28\":\"2019-1-31\"]\n",
    "print(NIO_jan_4th_week )\n",
    "fplt.plot(NIO_jan_4th_week,\n",
    "            type='candle',\n",
    "            style='charles',\n",
    "            title='NIO,January_4thweek - 2019',\n",
    "            ylabel='Price ($)'\n",
    "        )"
   ]
  },
  {
   "cell_type": "markdown",
   "metadata": {},
   "source": [
    "**we notice here that the higher the volume leads to increase in price while the reduction in volume brings about a reduction in price.** \n",
    "*Trading volume is a measure of how much of a given financial asset has traded in a period of time. For stocks, volume is measured in the number of shares traded and, for futures and options, it is based on how many contracts have changed hands, While the same shares may be traded back and forth multiple times, the volume is counted on each transaction.*\n",
    "**High Volume: Generally good stocks have high volume, which reduces liquidity risk. More people are trading these stocks indicate more people want them in their portfolio**"
   ]
  },
  {
   "cell_type": "markdown",
   "metadata": {},
   "source": [
    " - Now lets find out what happened from july 2020 that brought about that spike in price of NIO stocks"
   ]
  },
  {
   "cell_type": "code",
   "execution_count": null,
   "metadata": {},
   "outputs": [],
   "source": [
    "NIO_2020_july = NIO_2yrs[\"2020-7-1\":\"2020-7-31\"]\n",
    "\n",
    "\n",
    "fplt.plot(NIO_2020_july,\n",
    "            type='candle',\n",
    "            style='charles',\n",
    "            title='NIO_2020_july',\n",
    "            ylabel='Price ($)'\n",
    "        )"
   ]
  },
  {
   "cell_type": "code",
   "execution_count": null,
   "metadata": {},
   "outputs": [],
   "source": [
    "NIO_2020_aug_sept = NIO_2yrs[\"2020-8-1\":\"2020-9-30\"]\n",
    "\n",
    "\n",
    "fplt.plot(NIO_2020_aug_sept,\n",
    "            type='candle',\n",
    "            style='charles',\n",
    "            title='NIO_2020_aug_sept',\n",
    "            ylabel='Price ($)'\n",
    "        )"
   ]
  },
  {
   "cell_type": "code",
   "execution_count": null,
   "metadata": {},
   "outputs": [],
   "source": [
    "NIO_2020_oct_dec = NIO_2yrs[\"2020-10-1\":\"2020-12-31\"]\n",
    "\n",
    "\n",
    "fplt.plot(NIO_2020_oct_dec,\n",
    "            type='candle',\n",
    "            style='charles',\n",
    "            title='NIO_2020_oct_dec',\n",
    "            ylabel='Price ($)'\n",
    "        )"
   ]
  },
  {
   "cell_type": "code",
   "execution_count": null,
   "metadata": {},
   "outputs": [],
   "source": [
    "NIO_2021_jan = NIO_2yrs[\"2021-1-1\":\"2021-1-28\"]\n",
    "\n",
    "\n",
    "fplt.plot(NIO_2021_jan,\n",
    "            type='candle',\n",
    "            style='charles',\n",
    "            title='NIO_2021_jan',\n",
    "            ylabel='Price ($)'\n",
    "        )"
   ]
  },
  {
   "cell_type": "markdown",
   "metadata": {},
   "source": [
    "**Momentum built for NIO stock amid signs that the Chinese government would make a powerful push to transition the country to electric vehicles. The company also posted strong vehicle delivery numbers, and its monthly delivery updates across july to december showed impressive growth for the business which can be seen vividly in the graphs.**"
   ]
  },
  {
   "cell_type": "markdown",
   "metadata": {},
   "source": [
    "**NIO delivered 7,007 vehicles in December (up 121% year over year), bringing the company's total delivery count for the year to 43,728. Its vehicle delivery count for 2020 represented an annual increase of roughly 112.6%.**\n",
    "\n",
    "Government subsidies for EV buyers have helped accelerate the growth of the industry in China, and contributed to substantial momentum for NIO. Purchase subsidies were also tied to performance metrics that should correspond with reduced pollution, and NIO vehicles generally performed well in the relevant categories. However, China's Ministry of Finance recently cut subsidies by 20% for 2021 in response to signs of improving organic adoption for EVs, and it remains to be seen how this might impact momentum in the short term\n",
    "\n"
   ]
  },
  {
   "cell_type": "markdown",
   "metadata": {},
   "source": [
    "**NIO stock has continued to make gains early in 2021**"
   ]
  },
  {
   "cell_type": "code",
   "execution_count": null,
   "metadata": {},
   "outputs": [],
   "source": [
    "#NIO_2019_jan_1.set_index('timestamp', inplace=True)\n",
    "logic = {'Open'  : 'first',\n",
    "         'High'  : 'max',\n",
    "         'Low'   : 'min',\n",
    "         'Close' : 'last'}\n",
    "offset = pd.offsets.timedelta(days=-6)\n",
    "NIO_2019_jan_1.resample('W', loffset=offset).apply(logic)\n",
    "\n",
    "#MoM = MoM.reset_index()\n",
    "#WoW = WoW.reset_index()\n"
   ]
  },
  {
   "cell_type": "code",
   "execution_count": null,
   "metadata": {},
   "outputs": [],
   "source": [
    "average_price_january = (6.36+6.59+6.71+6.65+7.88)/5\n",
    "average_price_january"
   ]
  },
  {
   "cell_type": "code",
   "execution_count": null,
   "metadata": {},
   "outputs": [],
   "source": [
    "#NIO_2yrs.resample('M', loffset=offset).apply(logic)"
   ]
  },
  {
   "cell_type": "code",
   "execution_count": null,
   "metadata": {},
   "outputs": [],
   "source": []
  }
 ],
 "metadata": {
  "kernelspec": {
   "display_name": "Python 3",
   "language": "python",
   "name": "python3"
  },
  "language_info": {
   "codemirror_mode": {
    "name": "ipython",
    "version": 3
   },
   "file_extension": ".py",
   "mimetype": "text/x-python",
   "name": "python",
   "nbconvert_exporter": "python",
   "pygments_lexer": "ipython3",
   "version": "3.7.6"
  }
 },
 "nbformat": 4,
 "nbformat_minor": 4
}
