{
 "cells": [
  {
   "cell_type": "markdown",
   "metadata": {},
   "source": [
    "# PROJECT NAME: STOCK MARKET PRICES PREDICTION\n",
    "\n",
    "## TEAM NAME: GROUP 3\n",
    "\n",
    "## TA: PERCY\n",
    "\n",
    "## GROUP MEMBERS: \n",
    "### 1. Ayobami Adeniyi\n",
    "### 2. Ayodeji Anibaba\n",
    "### 3. Chisom Eluwa\n",
    "### 4. Khaleed Oyeleke\n",
    "### 5. Ronke Akinmosin\n",
    "### 6. Umar Idris"
   ]
  },
  {
   "cell_type": "markdown",
   "metadata": {},
   "source": [
    "# Table of Contents\n",
    "### [1. Introduction](#intro)\n",
    "1.1. Project overview\n",
    "\n",
    "1.2. Project statement\n",
    "### [2. Import packages and modules](#import)\n",
    "### [3. Data collection](#Webscraping)\n",
    "### [4. Load data](#load)\n",
    "### [5. Data description](#dd)\n",
    "5.1. A peek into our training data\n",
    "\n",
    "5.2. Training data basic statistics\n",
    "\n",
    "5.3. Additional data available\n",
    "### [6. Data cleaning](#cleaning)\n",
    "6.1. Missing values imputation\n",
    "\n",
    "6.2. Remove duplicates\n",
    "### [7. Exploratory Data Analysis](#eda)\n",
    "\n",
    "### [8. Modelling](#pp)\n",
    "\n",
    "\n",
    "### [9. Conclusion](#conc)"
   ]
  },
  {
   "cell_type": "markdown",
   "metadata": {},
   "source": [
    "### [1. Introduction](#intro)\n",
    "Project overview\n",
    "\n",
    "Project statement"
   ]
  },
  {
   "cell_type": "markdown",
   "metadata": {},
   "source": [
    "### [2. Import packages and modules](#import)"
   ]
  },
  {
   "cell_type": "code",
   "execution_count": null,
   "metadata": {},
   "outputs": [],
   "source": [
    "#!pip install plotly==4.14.3"
   ]
  },
  {
   "cell_type": "code",
   "execution_count": null,
   "metadata": {},
   "outputs": [],
   "source": [
    "import matplotlib.pyplot as plt\n",
    "import pandas as pd\n",
    "import seaborn as sns\n",
    "import numpy as np\n",
    "import mplfinance as mpf\n",
    "import requests\n",
    "import json\n",
    "from datetime import datetime\n",
    "%matplotlib inline\n",
    "import plotly.graph_objects as go\n"
   ]
  },
  {
   "cell_type": "markdown",
   "metadata": {},
   "source": [
    "### [3. Data collection](#Webscraping)"
   ]
  },
  {
   "cell_type": "code",
   "execution_count": null,
   "metadata": {},
   "outputs": [],
   "source": [
    "#data url gotten via API from yahoo finance\n",
    "url_4 = \"https://apidojo-yahoo-finance-v1.p.rapidapi.com/stock/v2/get-chart\"\n",
    "\n",
    "querystring_4 = {\"interval\":\"1d\",\"symbol\":\"NIO\",\"range\":\"10y\",\"region\":\"US\"}\n",
    "\n",
    "headers_4 = {\n",
    "    'x-rapidapi-key': \"243ef897b3msh844988ee7a01b7fp192ddajsnbd64c87292e2\",\n",
    "    'x-rapidapi-host': \"apidojo-yahoo-finance-v1.p.rapidapi.com\"\n",
    "    }\n",
    "\n",
    "response_4 = requests.request(\"GET\", url_4, headers=headers_4, params=querystring_4)"
   ]
  },
  {
   "cell_type": "code",
   "execution_count": null,
   "metadata": {},
   "outputs": [],
   "source": [
    "#printing data in json format\n",
    "def print_json(response_4):\n",
    "    word = json.dumps(response_4, sort_keys=True, indent=4)\n",
    "    \n",
    "    print(word)\n",
    "\n",
    "    \n",
    "print_json(response_4.json())  "
   ]
  },
  {
   "cell_type": "code",
   "execution_count": null,
   "metadata": {},
   "outputs": [],
   "source": [
    "#renaming data\n",
    "data_4=response_4.json()"
   ]
  },
  {
   "cell_type": "code",
   "execution_count": null,
   "metadata": {},
   "outputs": [],
   "source": [
    "timestam_4 = data_4[\"chart\"][\"result\"][0][\"timestamp\"]\n",
    "Clos_4 = data_4[\"chart\"][\"result\"][0][\"indicators\"][\"quote\"][0][\"close\"]\n",
    "Ope_4 = data_4[\"chart\"][\"result\"][0][\"indicators\"][\"quote\"][0][\"open\"]\n",
    "lo_4 = data_4[\"chart\"][\"result\"][0][\"indicators\"][\"quote\"][0][\"low\"]\n",
    "hig_4 = data_4[\"chart\"][\"result\"][0][\"indicators\"][\"quote\"][0][\"high\"]\n",
    "Volum_4 = data_4[\"chart\"][\"result\"][0][\"indicators\"][\"quote\"][0][\"volume\"]\n",
    "AdjClos_4 = data_4[\"chart\"][\"result\"][0][\"indicators\"][\"adjclose\"][0]['adjclose']"
   ]
  },
  {
   "cell_type": "code",
   "execution_count": null,
   "metadata": {},
   "outputs": [],
   "source": [
    "dict_of_lists_4 = {\"timestamp\":timestam_4,\n",
    "                \"Close\":Clos_4,\n",
    "                \"Open\":Ope_4,\n",
    "                \"Low\":lo_4,\n",
    "                \"High\":hig_4,\n",
    "                \"Volume\":Volum_4,\n",
    "                  \"AdjClose\":AdjClos_4 }"
   ]
  },
  {
   "cell_type": "code",
   "execution_count": null,
   "metadata": {},
   "outputs": [],
   "source": [
    "#converting data to a dataframe\n",
    "Nio_df = pd.DataFrame(dict_of_lists_4)"
   ]
  },
  {
   "cell_type": "code",
   "execution_count": null,
   "metadata": {},
   "outputs": [],
   "source": [
    "#converting timestamp column to the desired datetime format\n",
    "Nio_df['timestamp'] = Nio_df['timestamp'].apply(lambda x: datetime.fromtimestamp(x))\n",
    "Nio_df['timestamp'] = Nio_df['timestamp'].dt.strftime('%Y-%m-%d')"
   ]
  },
  {
   "cell_type": "code",
   "execution_count": null,
   "metadata": {},
   "outputs": [],
   "source": [
    "#calling data\n",
    "Nio_df"
   ]
  },
  {
   "cell_type": "code",
   "execution_count": null,
   "metadata": {},
   "outputs": [],
   "source": [
    "#saving data as csv file\n",
    "Nio_df.to_csv(\"NIO_STOCK_DATA.csv\")"
   ]
  },
  {
   "cell_type": "code",
   "execution_count": null,
   "metadata": {},
   "outputs": [],
   "source": [
    "#reading our dataframe and removing 'unnamed 0' column\n",
    "NIO_2yrs = pd.read_csv(\"NIO_STOCK_DATA.csv\", index_col=0)\n",
    "#renaming date column as timestamp\n",
    "NIO_2yrs[\"Date\"] = NIO_2yrs[\"timestamp\"]"
   ]
  },
  {
   "cell_type": "markdown",
   "metadata": {},
   "source": [
    "# 4. Load Data"
   ]
  },
  {
   "cell_type": "code",
   "execution_count": null,
   "metadata": {},
   "outputs": [],
   "source": [
    "#loading data\n",
    "data= pd.read_csv(\"NIO_STOCK_DATA.csv\", index_col=0)\n",
    "data"
   ]
  },
  {
   "cell_type": "code",
   "execution_count": null,
   "metadata": {},
   "outputs": [],
   "source": [
    "data.head()#check first five rows of dataset"
   ]
  },
  {
   "cell_type": "code",
   "execution_count": null,
   "metadata": {},
   "outputs": [],
   "source": [
    "data.tail()#check last five rows of dataset"
   ]
  },
  {
   "cell_type": "markdown",
   "metadata": {},
   "source": [
    "# 5. Data description\n",
    "This dataset consists of 2 years data of NIO stock Timestamp, Close prices, Open prices, Low prices, High prices, Volume and AdjClose prices respectively.Stock market opens on weekdays only this does not include public holidays like martin luther king day . This data is available for public usage and research for free"
   ]
  },
  {
   "cell_type": "markdown",
   "metadata": {},
   "source": [
    "**Timestamp - This is the respective dates for each market day**\n",
    "\n",
    "**Open prices - This is the opeing price for each market day**\n",
    "\n",
    "**Close prices - This is the closing price for each market day**\n",
    "\n",
    "**Low prices- This is the lowest the price reached for each market day**\n",
    "\n",
    "**High prices - This is the highest the price reached for each market day**\n",
    "\n",
    "**Volume - This is the quantity of stocks sold and bought that day**\n",
    "\n",
    "**Adjusted Closing Price - The adjusted closing price amends a stock's closing price to reflect that stock's value after accounting for any corporate actions. Corporate actions occurs during the period between the market closing and opening the next day**\n",
    "\n",
    "\n",
    "### Source of data:\n",
    "The data for this stock is maintained on yahoo finance API."
   ]
  },
  {
   "cell_type": "markdown",
   "metadata": {},
   "source": [
    "# 6. Data Cleaning"
   ]
  },
  {
   "cell_type": "code",
   "execution_count": null,
   "metadata": {},
   "outputs": [],
   "source": [
    "#inspecting data\n",
    "data.info()"
   ]
  },
  {
   "cell_type": "code",
   "execution_count": null,
   "metadata": {},
   "outputs": [],
   "source": [
    "#checking column statistics of dataset\n",
    "data.describe(include='all')"
   ]
  },
  {
   "cell_type": "code",
   "execution_count": null,
   "metadata": {},
   "outputs": [],
   "source": [
    "#checking for missing values\n",
    "data.isnull().sum()"
   ]
  },
  {
   "cell_type": "markdown",
   "metadata": {},
   "source": [
    "### there are no missing values"
   ]
  },
  {
   "cell_type": "markdown",
   "metadata": {},
   "source": [
    "# 7. Exploratory Data Analysis"
   ]
  },
  {
   "cell_type": "code",
   "execution_count": null,
   "metadata": {},
   "outputs": [],
   "source": [
    "#converting datatype of timestamp to datetime\n",
    "data['timestamp']=pd.to_datetime(data['timestamp'])\n",
    "data"
   ]
  },
  {
   "cell_type": "code",
   "execution_count": null,
   "metadata": {},
   "outputs": [],
   "source": [
    "#creating a column for weekdays before setting timestamp as index and also creating a column indicating the week number e.g week 1\n",
    "data['Weekday']=data['timestamp'].dt.day_name()\n",
    "data"
   ]
  },
  {
   "cell_type": "code",
   "execution_count": null,
   "metadata": {},
   "outputs": [],
   "source": [
    "# we make the Date column the index so as to use Date slicing below\n",
    "# run this code box just once, other times would return a KeyError\n",
    "data = data.set_index(\"timestamp\")"
   ]
  },
  {
   "cell_type": "markdown",
   "metadata": {},
   "source": [
    "### Interactive Analysis: a view of the stock pattern over the last three years"
   ]
  },
  {
   "cell_type": "code",
   "execution_count": null,
   "metadata": {},
   "outputs": [],
   "source": [
    "figure = go.Figure(\n",
    "        data=[\n",
    "            go.Candlestick(\n",
    "            x = data.index,\n",
    "            low = data['Low'],\n",
    "            high = data['High'],\n",
    "            open = data['Open'],\n",
    "            close = data['Close'],\n",
    "            increasing_line_color='green',\n",
    "            decreasing_line_color='red'\n",
    "            )\n",
    "        ]\n",
    ")\n",
    "# figure.update_layout(\n",
    "#     title=\"NIO Historic data 2018-2021\",\n",
    "#     yaxis_title = \"NIO Stock Price USD ($)\",\n",
    "#     yaxis_title = \"Date\"\n",
    "# )\n",
    "\n",
    "figure.show()"
   ]
  },
  {
   "cell_type": "code",
   "execution_count": null,
   "metadata": {},
   "outputs": [],
   "source": [
    "mpf.plot(data,type='line',figratio=(20,12),volume=True)"
   ]
  },
  {
   "cell_type": "markdown",
   "metadata": {},
   "source": [
    "### YEAR 2019 stock analysis"
   ]
  },
  {
   "cell_type": "code",
   "execution_count": null,
   "metadata": {},
   "outputs": [],
   "source": [
    "#loading stock data for 2019\n",
    "NIO_2019 = data[\"2019\":\"2019\"]# This slices from the beginnning of 2019 to the end\n",
    "                              #as you can see from the head and tail functions\n",
    "NIO_2019.head()"
   ]
  },
  {
   "cell_type": "code",
   "execution_count": null,
   "metadata": {},
   "outputs": [],
   "source": [
    "NIO_2019.tail()"
   ]
  },
  {
   "cell_type": "code",
   "execution_count": null,
   "metadata": {},
   "outputs": [],
   "source": [
    "# line plot showing relationship between the open and close price for the year\n",
    "plt.style.use(\"ggplot\")\n",
    "fig, ax = plt.subplots()\n",
    "fig.set_size_inches([30, 15])\n",
    "ax.plot(data.index, data[\"Close\"], color='blue', marker=\"v\", linestyle=\"--\")\n",
    "ax.set_xlabel(\"Date\")\n",
    "ax.set_ylabel(\"Close Price\", color='blue')\n",
    "ax.set_xticklabels(data.index, rotation=90)\n",
    "\n",
    "ax2 = ax.twinx()\n",
    "ax2.plot(data.index, data[\"Open\"], color='red', marker=\"o\")\n",
    "ax2.set_ylabel(\"Open Price\", color='red')\n",
    " #save the picture on your local machine to visualize properly\n",
    "fig.savefig(\"NIO_2019.png\", dpi=300)"
   ]
  },
  {
   "cell_type": "code",
   "execution_count": null,
   "metadata": {},
   "outputs": [],
   "source": [
    "#plotting candle charts for the year\n",
    "mpf.plot(data['2019-01':'2019-12'],type='candle',mav=(20),\n",
    "         title='Nio Price 2019',volume=True,style='yahoo',figratio=(20,12),tight_layout=True)"
   ]
  },
  {
   "cell_type": "code",
   "execution_count": null,
   "metadata": {},
   "outputs": [],
   "source": [
    "#visualising stock volume for each day of the week in year 2019\n",
    "order=['Monday','Tuesday','Wednesday','Thursday','Friday']\n",
    "sns.set(rc={'figure.figsize':(15,7)})\n",
    "sns.boxplot(data=NIO_2019,x='Weekday',y='Volume',order=order);\n"
   ]
  },
  {
   "cell_type": "markdown",
   "metadata": {},
   "source": [
    "### visualisation on quarterly basis\n",
    "#### 1st quarter"
   ]
  },
  {
   "cell_type": "code",
   "execution_count": null,
   "metadata": {},
   "outputs": [],
   "source": [
    "#loading data for first quarter\n",
    "df_1=data[\"2019-1\":\"2019-3\"]\n",
    "df_1"
   ]
  },
  {
   "cell_type": "code",
   "execution_count": null,
   "metadata": {},
   "outputs": [],
   "source": [
    "#Plotting Candle chart for first quarter of 2019\n",
    "mpf.plot(df_1,type='candle',mav=(50),\n",
    "         title='NIO Price 2019_first quarter',volume=True,style='yahoo',\n",
    "         figratio=(20,12),tight_layout=True)\n"
   ]
  },
  {
   "cell_type": "code",
   "execution_count": null,
   "metadata": {},
   "outputs": [],
   "source": [
    "#finding the correlation between the prices for the month of january\n",
    "first_quarter_corr=df_1.corr()\n",
    "sns.heatmap(first_quarter_corr,annot=True,cmap=\"seismic\",\n",
    "           xticklabels=first_quarter_corr.columns.values,\n",
    "           yticklabels=first_quarter_corr.columns.values)\n",
    "plt.title('Prices correlation for the first quarter of 2019')\n",
    "plt.show()\n",
    "print(first_quarter_corr)"
   ]
  },
  {
   "cell_type": "code",
   "execution_count": null,
   "metadata": {},
   "outputs": [],
   "source": [
    "#checking out volume traded on each day of the week for the first quarter\n",
    "order=['Monday','Tuesday','Wednesday','Thursday','Friday']\n",
    "sns.set(rc={'figure.figsize':(15,7)})\n",
    "sns.boxplot(data=df_1,x='Weekday',y='Volume',order=order);\n"
   ]
  },
  {
   "cell_type": "markdown",
   "metadata": {},
   "source": [
    "#### checking for outliers in each column\n"
   ]
  },
  {
   "cell_type": "code",
   "execution_count": null,
   "metadata": {},
   "outputs": [],
   "source": [
    "#checking for outliers in the close price column\n",
    "sns.set(rc={'figure.figsize':(10,7)})\n",
    "sns.boxplot(y=df_1['Close']);\n",
    "plt.show()"
   ]
  },
  {
   "cell_type": "code",
   "execution_count": null,
   "metadata": {},
   "outputs": [],
   "source": [
    "#checking for outliers in the open price column\n",
    "sns.set(rc={'figure.figsize':(10,7)})\n",
    "sns.boxplot(y=df_1['Open']);\n",
    "plt.show()"
   ]
  },
  {
   "cell_type": "code",
   "execution_count": null,
   "metadata": {},
   "outputs": [],
   "source": [
    "#checking for outliers in the low price column\n",
    "sns.set(rc={'figure.figsize':(15,7)})\n",
    "sns.boxplot(y=df_1['Low']);\n",
    "plt.show()"
   ]
  },
  {
   "cell_type": "code",
   "execution_count": null,
   "metadata": {},
   "outputs": [],
   "source": [
    "#checking the outliers in the high price column\n",
    "sns.set(rc={'figure.figsize':(15,7)})\n",
    "sns.boxplot(y=df_1['High']);\n",
    "plt.show()"
   ]
  },
  {
   "cell_type": "code",
   "execution_count": null,
   "metadata": {},
   "outputs": [],
   "source": [
    "#checking for outliers in the volume column\n",
    "sns.set(rc={'figure.figsize':(15,7)})\n",
    "sns.boxplot(y=df_1['Volume']);\n",
    "plt.show()"
   ]
  },
  {
   "cell_type": "code",
   "execution_count": null,
   "metadata": {},
   "outputs": [],
   "source": [
    "#scatter plot showing relationship between open and close prices for the year\n",
    "df_1.plot.scatter(x='Open',y='Close',c=('red'))\n",
    "#obtaining the slop and intercept of regression line\n",
    "x=df_1.Open\n",
    "y=df_1.Close\n",
    "m,b=np.polyfit(x,y,1)\n",
    "#creating a regression line on the plot\n",
    "plt.plot(x,m*x+b);"
   ]
  },
  {
   "cell_type": "code",
   "execution_count": null,
   "metadata": {},
   "outputs": [],
   "source": [
    "#scatter plot showing relationship between open and low prices\n",
    "df_1.plot.scatter(x='Open',y='Low',c=('red'))\n",
    "#obtaining the slop and intercept of regression line\n",
    "x=df_1.Open\n",
    "y=df_1.Low\n",
    "m,b=np.polyfit(x,y,1)\n",
    "#creating a regression line on the plot\n",
    "plt.plot(x,m*x+b);"
   ]
  },
  {
   "cell_type": "code",
   "execution_count": null,
   "metadata": {},
   "outputs": [],
   "source": [
    "#scatter plot showing relationship between open and low prices\n",
    "df_1.plot.scatter(x='Close',y='High',c=('red'))\n",
    "#obtaining the slop and intercept of regression line\n",
    "x=df_1.Close\n",
    "y=df_1.High\n",
    "m,b=np.polyfit(x,y,1)\n",
    "#creating a regression line on the plot\n",
    "plt.plot(x,m*x+b);"
   ]
  },
  {
   "cell_type": "code",
   "execution_count": null,
   "metadata": {},
   "outputs": [],
   "source": [
    "#scatter plot showing relationship between High and low prices\n",
    "df_1.plot.scatter(x='High',y='Low',c=('red'))\n",
    "#obtaining the slop and intercept of regression line\n",
    "x=df_1.High\n",
    "y=df_1.Low\n",
    "m,b=np.polyfit(x,y,1)\n",
    "#creating a regression line on the plot\n",
    "plt.plot(x,m*x+b);"
   ]
  },
  {
   "cell_type": "code",
   "execution_count": null,
   "metadata": {},
   "outputs": [],
   "source": [
    "#scatter plot showing relationship between close and low prices\n",
    "df_1.plot.scatter(x='Close',y='Low',c=('red'))\n",
    "#obtaining the slop and intercept of regression line\n",
    "x=df_1.Close\n",
    "y=df_1.Low\n",
    "m,b=np.polyfit(x,y,1)\n",
    "#creating a regression line on the plot\n",
    "plt.plot(x,m*x+b);"
   ]
  },
  {
   "cell_type": "markdown",
   "metadata": {},
   "source": [
    "### 2nd Quarter"
   ]
  },
  {
   "cell_type": "code",
   "execution_count": null,
   "metadata": {},
   "outputs": [],
   "source": [
    "#loading data for second quarter\n",
    "df_2=data[\"2019-4\":\"2019-6\"]\n",
    "df_2"
   ]
  },
  {
   "cell_type": "code",
   "execution_count": null,
   "metadata": {},
   "outputs": [],
   "source": [
    "#Plotting Candle chart for second quarter of 2019\n",
    "mpf.plot(df_2,type='candle',mav=(50),\n",
    "         title='NIO Price 2019_second quarter',volume=True,style='yahoo',\n",
    "         figratio=(20,12),tight_layout=True)\n"
   ]
  },
  {
   "cell_type": "code",
   "execution_count": null,
   "metadata": {},
   "outputs": [],
   "source": [
    "#finding the correlation between the prices for the 2nd quarter of 2019\n",
    "second_quarter_corr=df_2.corr()\n",
    "sns.heatmap(second_quarter_corr,annot=True,cmap=\"seismic\",\n",
    "           xticklabels=second_quarter_corr.columns.values,\n",
    "           yticklabels=second_quarter_corr.columns.values)\n",
    "plt.title('Prices correlation for the second quarter of 2019')\n",
    "plt.show()\n",
    "print(second_quarter_corr)"
   ]
  },
  {
   "cell_type": "code",
   "execution_count": null,
   "metadata": {},
   "outputs": [],
   "source": [
    "#checking out volume traded on each day of the week for the second quarter\n",
    "order=['Monday','Tuesday','Wednesday','Thursday','Friday']\n",
    "sns.set(rc={'figure.figsize':(15,7)})\n",
    "sns.boxplot(data=df_2,x='Weekday',y='Volume',order=order);\n"
   ]
  },
  {
   "cell_type": "markdown",
   "metadata": {},
   "source": [
    "#### checking for outliers in each column"
   ]
  },
  {
   "cell_type": "code",
   "execution_count": null,
   "metadata": {},
   "outputs": [],
   "source": [
    "#checking for outliers in the close column\n",
    "sns.set(rc={'figure.figsize':(15,7)})\n",
    "sns.boxplot(y=df_2['Close']);\n",
    "plt.show()"
   ]
  },
  {
   "cell_type": "code",
   "execution_count": null,
   "metadata": {},
   "outputs": [],
   "source": [
    "#checking for outliers in the open column\n",
    "sns.set(rc={'figure.figsize':(15,7)})\n",
    "sns.boxplot(y=df_2['Open']);\n",
    "plt.show()"
   ]
  },
  {
   "cell_type": "code",
   "execution_count": null,
   "metadata": {},
   "outputs": [],
   "source": [
    "#checking for outliers in the low price column\n",
    "sns.set(rc={'figure.figsize':(15,7)})\n",
    "sns.boxplot(y=df_2['Low']);\n",
    "plt.show()"
   ]
  },
  {
   "cell_type": "code",
   "execution_count": null,
   "metadata": {},
   "outputs": [],
   "source": [
    "#checking for outliers in the high price column\n",
    "sns.set(rc={'figure.figsize':(15,7)})\n",
    "sns.boxplot(y=df_2['High']);\n",
    "plt.show()"
   ]
  },
  {
   "cell_type": "code",
   "execution_count": null,
   "metadata": {},
   "outputs": [],
   "source": [
    "#checking for outliers in the volume column\n",
    "sns.set(rc={'figure.figsize':(15,7)})\n",
    "sns.boxplot(y=df_2['Volume']);\n",
    "plt.show()"
   ]
  },
  {
   "cell_type": "markdown",
   "metadata": {},
   "source": [
    "#### scatter plots showing relationship between each column"
   ]
  },
  {
   "cell_type": "code",
   "execution_count": null,
   "metadata": {},
   "outputs": [],
   "source": [
    "#scatter plot showing relationship between open and close prices\n",
    "df_2.plot.scatter(x='Open',y='Close',c=('green'))\n",
    "#obtaining the slop and intercept of regression line\n",
    "x=df_2.Open\n",
    "y=df_2.Low\n",
    "m,b=np.polyfit(x,y,1)\n",
    "#creating a regression line on the plot\n",
    "plt.plot(x,m*x+b);"
   ]
  },
  {
   "cell_type": "code",
   "execution_count": null,
   "metadata": {},
   "outputs": [],
   "source": [
    "#scatter plot showing relationship between open and low prices\n",
    "df_2.plot.scatter(x='Open',y='Low',c=('green'))\n",
    "#obtaining the slop and intercept of regression line\n",
    "x=df_2.Open\n",
    "y=df_2.Low\n",
    "m,b=np.polyfit(x,y,1)\n",
    "#creating a regression line on the plot\n",
    "plt.plot(x,m*x+b);"
   ]
  },
  {
   "cell_type": "code",
   "execution_count": null,
   "metadata": {},
   "outputs": [],
   "source": [
    "#scatter plot showing relationship between close and high prices\n",
    "df_2.plot.scatter(x='Close',y='High',c=('green'))\n",
    "#obtaining the slop and intercept of regression line\n",
    "x=df_2.Close\n",
    "y=df_2.High\n",
    "m,b=np.polyfit(x,y,1)\n",
    "#creating a regression line on the plot\n",
    "plt.plot(x,m*x+b);"
   ]
  },
  {
   "cell_type": "code",
   "execution_count": null,
   "metadata": {},
   "outputs": [],
   "source": [
    "#scatter plot showing relationship between high and low prices\n",
    "df_2.plot.scatter(x='High',y='Low',c=('green'))\n",
    "#obtaining the slop and intercept of regression line\n",
    "x=df_2.Open\n",
    "y=df_2.Low\n",
    "m,b=np.polyfit(x,y,1)\n",
    "#creating a regression line on the plot\n",
    "plt.plot(x,m*x+b);"
   ]
  },
  {
   "cell_type": "code",
   "execution_count": null,
   "metadata": {},
   "outputs": [],
   "source": [
    "#scatter plot showing relationship between close and low prices\n",
    "df_2.plot.scatter(x='Close',y='Low',c=('green'))\n",
    "#obtaining the slop and intercept of regression line\n",
    "x=df_2.Close\n",
    "y=df_2.Low\n",
    "m,b=np.polyfit(x,y,1)\n",
    "#creating a regression line on the plot\n",
    "plt.plot(x,m*x+b);"
   ]
  },
  {
   "cell_type": "markdown",
   "metadata": {},
   "source": [
    "### 3rd Quarter"
   ]
  },
  {
   "cell_type": "code",
   "execution_count": null,
   "metadata": {},
   "outputs": [],
   "source": [
    "#loading data for third quarter\n",
    "df_3=data[\"2019-7\":\"2019-9\"]\n",
    "df_3"
   ]
  },
  {
   "cell_type": "code",
   "execution_count": null,
   "metadata": {},
   "outputs": [],
   "source": [
    "#Plotting Candle chart for third quarter of 2019\n",
    "mpf.plot(df_3,type='candle',mav=(50),\n",
    "         title='NIO Price 2019_third quarter',volume=True,style='yahoo',\n",
    "         figratio=(20,12),tight_layout=True)\n"
   ]
  },
  {
   "cell_type": "code",
   "execution_count": null,
   "metadata": {},
   "outputs": [],
   "source": [
    "#finding the correlation between the prices for the 3rd quarter of 2019\n",
    "third_quarter_corr=df_3.corr()\n",
    "sns.heatmap(third_quarter_corr,annot=True,cmap=\"seismic\",\n",
    "           xticklabels=third_quarter_corr.columns.values,\n",
    "           yticklabels=third_quarter_corr.columns.values)\n",
    "plt.title('Prices correlation for the third quarter of 2019')\n",
    "plt.show()\n",
    "print(third_quarter_corr)"
   ]
  },
  {
   "cell_type": "code",
   "execution_count": null,
   "metadata": {},
   "outputs": [],
   "source": [
    "#checking out volume traded on each day of the week for the third quarter\n",
    "order=['Monday','Tuesday','Wednesday','Thursday','Friday']\n",
    "sns.set(rc={'figure.figsize':(15,7)})\n",
    "sns.boxplot(data=df_3,x='Weekday',y='Volume',order=order);\n"
   ]
  },
  {
   "cell_type": "markdown",
   "metadata": {},
   "source": [
    "#### checking for outliers in each column"
   ]
  },
  {
   "cell_type": "code",
   "execution_count": null,
   "metadata": {},
   "outputs": [],
   "source": [
    "#checking for outliers in the close price column\n",
    "sns.set(rc={'figure.figsize':(15,7)})\n",
    "sns.boxplot(y=df_3['Close']);\n",
    "plt.show()"
   ]
  },
  {
   "cell_type": "code",
   "execution_count": null,
   "metadata": {},
   "outputs": [],
   "source": [
    "#checking for outliers in the open price column\n",
    "sns.set(rc={'figure.figsize':(15,7)})\n",
    "sns.boxplot(y=df_3['Open']);\n",
    "plt.show()"
   ]
  },
  {
   "cell_type": "code",
   "execution_count": null,
   "metadata": {},
   "outputs": [],
   "source": [
    "#checking for outliers in the low price column\n",
    "sns.set(rc={'figure.figsize':(15,7)})\n",
    "sns.boxplot(y=df_3['Low']);\n",
    "plt.show()"
   ]
  },
  {
   "cell_type": "code",
   "execution_count": null,
   "metadata": {},
   "outputs": [],
   "source": [
    "#checking for outliers in the high price column\n",
    "sns.set(rc={'figure.figsize':(15,7)})\n",
    "sns.boxplot(y=df_3['High']);\n",
    "plt.show()"
   ]
  },
  {
   "cell_type": "code",
   "execution_count": null,
   "metadata": {},
   "outputs": [],
   "source": [
    "#checking for outliers in the volume column\n",
    "sns.set(rc={'figure.figsize':(15,7)})\n",
    "sns.boxplot(y=df_3['Volume']);\n",
    "plt.show()"
   ]
  },
  {
   "cell_type": "markdown",
   "metadata": {},
   "source": [
    "#### scatter plots showing relationship between columns for the third quarter"
   ]
  },
  {
   "cell_type": "code",
   "execution_count": null,
   "metadata": {},
   "outputs": [],
   "source": [
    "#scatter plot showing relationship between open and close prices\n",
    "df_3.plot.scatter(x='Open',y='Close',c=('black'))\n",
    "#obtaining the slop and intercept of regression line\n",
    "x=df_3.Open\n",
    "y=df_3.Close\n",
    "m,b=np.polyfit(x,y,1)\n",
    "#creating a regression line on the plot\n",
    "plt.plot(x,m*x+b);"
   ]
  },
  {
   "cell_type": "code",
   "execution_count": null,
   "metadata": {},
   "outputs": [],
   "source": [
    "#scatter plot showing relationship between open and low prices\n",
    "df_3.plot.scatter(x='Open',y='Low',c=('black'))\n",
    "#obtaining the slop and intercept of regression line\n",
    "x=df_3.Open\n",
    "y=df_3.Low\n",
    "m,b=np.polyfit(x,y,1)\n",
    "#creating a regression line on the plot\n",
    "plt.plot(x,m*x+b);"
   ]
  },
  {
   "cell_type": "code",
   "execution_count": null,
   "metadata": {},
   "outputs": [],
   "source": [
    "#scatter plot showing relationship between close and high prices\n",
    "df_3.plot.scatter(x='Close',y='High',c=('black'))\n",
    "#obtaining the slop and intercept of regression line\n",
    "x=df_3.Close\n",
    "y=df_3.High\n",
    "m,b=np.polyfit(x,y,1)\n",
    "#creating a regression line on the plot\n",
    "plt.plot(x,m*x+b);"
   ]
  },
  {
   "cell_type": "code",
   "execution_count": null,
   "metadata": {},
   "outputs": [],
   "source": [
    "#scatter plot showing relationship between high and low prices\n",
    "df_3.plot.scatter(x='High',y='Low',c=('black'))\n",
    "#obtaining the slop and intercept of regression line\n",
    "x=df_3.High\n",
    "y=df_3.Low\n",
    "m,b=np.polyfit(x,y,1)\n",
    "#creating a regression line on the plot\n",
    "plt.plot(x,m*x+b);"
   ]
  },
  {
   "cell_type": "code",
   "execution_count": null,
   "metadata": {},
   "outputs": [],
   "source": [
    "#scatter plot showing relationship between close and low prices\n",
    "df_3.plot.scatter(x='Close',y='Low',c=('black'))\n",
    "#obtaining the slop and intercept of regression line\n",
    "x=df_3.Close\n",
    "y=df_3.Low\n",
    "m,b=np.polyfit(x,y,1)\n",
    "#creating a regression line on the plot\n",
    "plt.plot(x,m*x+b);"
   ]
  },
  {
   "cell_type": "markdown",
   "metadata": {},
   "source": [
    "### 4th quarter"
   ]
  },
  {
   "cell_type": "code",
   "execution_count": null,
   "metadata": {},
   "outputs": [],
   "source": [
    "#loading data for 4th quarter\n",
    "df_4=data[\"2019-10\":\"2019-12\"]\n",
    "df_4"
   ]
  },
  {
   "cell_type": "code",
   "execution_count": null,
   "metadata": {},
   "outputs": [],
   "source": [
    "#Plotting Candle chart for fourth quarter of 2019\n",
    "mpf.plot(df_4,type='candle',mav=(50),\n",
    "         title='NIO Price 2019_fourth quarter',volume=True,style='yahoo',\n",
    "         figratio=(20,12),tight_layout=True)\n"
   ]
  },
  {
   "cell_type": "code",
   "execution_count": null,
   "metadata": {},
   "outputs": [],
   "source": [
    "#finding the correlation between the prices for the fourth quarter of 2019\n",
    "fourth_quarter_corr=df_4.corr()\n",
    "sns.heatmap(fourth_quarter_corr,annot=True,cmap=\"seismic\",\n",
    "           xticklabels=fourth_quarter_corr.columns.values,\n",
    "           yticklabels=fourth_quarter_corr.columns.values)\n",
    "plt.title('Prices correlation for the fourth quarter of 2019')\n",
    "plt.show()\n",
    "print(fourth_quarter_corr)"
   ]
  },
  {
   "cell_type": "code",
   "execution_count": null,
   "metadata": {},
   "outputs": [],
   "source": [
    "#checking out volume traded on each day of the week for the fourth quarter\n",
    "order=['Monday','Tuesday','Wednesday','Thursday','Friday']\n",
    "sns.set(rc={'figure.figsize':(15,7)})\n",
    "sns.boxplot(data=df_4,x='Weekday',y='Volume',order=order);\n"
   ]
  },
  {
   "cell_type": "markdown",
   "metadata": {},
   "source": [
    "#### checking for outliers in each column"
   ]
  },
  {
   "cell_type": "code",
   "execution_count": null,
   "metadata": {},
   "outputs": [],
   "source": [
    "#checking for outliers in the close column\n",
    "sns.set(rc={'figure.figsize':(15,7)})\n",
    "sns.boxplot(y=df_4['Close']);\n",
    "plt.show()"
   ]
  },
  {
   "cell_type": "code",
   "execution_count": null,
   "metadata": {},
   "outputs": [],
   "source": [
    "#checking for outliers in the open column\n",
    "sns.set(rc={'figure.figsize':(15,7)})\n",
    "sns.boxplot(y=df_4['Open']);\n",
    "plt.show()"
   ]
  },
  {
   "cell_type": "code",
   "execution_count": null,
   "metadata": {},
   "outputs": [],
   "source": [
    "#checking for outliers in the low column\n",
    "sns.set(rc={'figure.figsize':(15,7)})\n",
    "sns.boxplot(y=df_4['Low']);\n",
    "plt.show()"
   ]
  },
  {
   "cell_type": "code",
   "execution_count": null,
   "metadata": {},
   "outputs": [],
   "source": [
    "#checking for outliers in the high column\n",
    "sns.set(rc={'figure.figsize':(15,7)})\n",
    "sns.boxplot(y=df_4['High']);\n",
    "plt.show()"
   ]
  },
  {
   "cell_type": "code",
   "execution_count": null,
   "metadata": {},
   "outputs": [],
   "source": [
    "#checking for outliers in the volume column\n",
    "sns.set(rc={'figure.figsize':(15,7)})\n",
    "sns.boxplot(y=df_4['Volume']);\n",
    "plt.show()"
   ]
  },
  {
   "cell_type": "markdown",
   "metadata": {},
   "source": [
    "#### scatter plots showing relationship between columns"
   ]
  },
  {
   "cell_type": "code",
   "execution_count": null,
   "metadata": {},
   "outputs": [],
   "source": [
    "#scatter plot showing relationship between open and close prices\n",
    "df_4.plot.scatter(x='Open',y='Close',c=('blue'))\n",
    "#obtaining the slop and intercept of regression line\n",
    "x=df_4.Open\n",
    "y=df_4.Close\n",
    "m,b=np.polyfit(x,y,1)\n",
    "#creating a regression line on the plot\n",
    "plt.plot(x,m*x+b);"
   ]
  },
  {
   "cell_type": "code",
   "execution_count": null,
   "metadata": {},
   "outputs": [],
   "source": [
    "#scatter plot showing relationship between open and low prices\n",
    "df_4.plot.scatter(x='Open',y='Low',c=('blue'))\n",
    "#obtaining the slop and intercept of regression line\n",
    "x=df_4.Open\n",
    "y=df_4.Low\n",
    "m,b=np.polyfit(x,y,1)\n",
    "#creating a regression line on the plot\n",
    "plt.plot(x,m*x+b);"
   ]
  },
  {
   "cell_type": "code",
   "execution_count": null,
   "metadata": {},
   "outputs": [],
   "source": [
    "#scatter plot showing relationship between close and high prices\n",
    "df_4.plot.scatter(x='Close',y='High',c=('blue'))\n",
    "#obtaining the slop and intercept of regression line\n",
    "x=df_4.Close\n",
    "y=df_4.High\n",
    "m,b=np.polyfit(x,y,1)\n",
    "#creating a regression line on the plot\n",
    "plt.plot(x,m*x+b);"
   ]
  },
  {
   "cell_type": "code",
   "execution_count": null,
   "metadata": {},
   "outputs": [],
   "source": [
    "#scatter plot showing relationship between high and low prices\n",
    "df_4.plot.scatter(x='High',y='Low',c=('blue'))\n",
    "#obtaining the slop and intercept of regression line\n",
    "x=df_4.High\n",
    "y=df_4.Low\n",
    "m,b=np.polyfit(x,y,1)\n",
    "#creating a regression line on the plot\n",
    "plt.plot(x,m*x+b);"
   ]
  },
  {
   "cell_type": "code",
   "execution_count": null,
   "metadata": {},
   "outputs": [],
   "source": [
    "#scatter plot showing relationship between close and low prices\n",
    "df_4.plot.scatter(x='Close',y='Low',c=('blue'))\n",
    "#obtaining the slop and intercept of regression line\n",
    "x=df_4.Close\n",
    "y=df_4.Low\n",
    "m,b=np.polyfit(x,y,1)\n",
    "#creating a regression line on the plot\n",
    "plt.plot(x,m*x+b);"
   ]
  },
  {
   "cell_type": "code",
   "execution_count": null,
   "metadata": {},
   "outputs": [],
   "source": []
  },
  {
   "cell_type": "code",
   "execution_count": null,
   "metadata": {},
   "outputs": [],
   "source": []
  }
 ],
 "metadata": {
  "kernelspec": {
   "display_name": "Python 3",
   "language": "python",
   "name": "python3"
  },
  "language_info": {
   "codemirror_mode": {
    "name": "ipython",
    "version": 3
   },
   "file_extension": ".py",
   "mimetype": "text/x-python",
   "name": "python",
   "nbconvert_exporter": "python",
   "pygments_lexer": "ipython3",
   "version": "3.8.5"
  }
 },
 "nbformat": 4,
 "nbformat_minor": 4
}
