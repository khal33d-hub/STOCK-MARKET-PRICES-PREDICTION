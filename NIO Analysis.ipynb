{
 "cells": [
  {
   "cell_type": "code",
   "execution_count": 1,
   "metadata": {},
   "outputs": [],
   "source": [
    "import pandas as pd\n",
    "import seaborn as sns\n",
    "import numpy as np\n",
    "import matplotlib.pyplot as plt\n",
    "%matplotlib inline"
   ]
  },
  {
   "cell_type": "code",
   "execution_count": 2,
   "metadata": {},
   "outputs": [],
   "source": [
    "data=pd.read_csv(\"NIO STOCK DATA_26_01_21.csv\",index_col=0)"
   ]
  },
  {
   "cell_type": "code",
   "execution_count": 3,
   "metadata": {},
   "outputs": [
    {
     "data": {
      "text/html": [
       "<div>\n",
       "<style scoped>\n",
       "    .dataframe tbody tr th:only-of-type {\n",
       "        vertical-align: middle;\n",
       "    }\n",
       "\n",
       "    .dataframe tbody tr th {\n",
       "        vertical-align: top;\n",
       "    }\n",
       "\n",
       "    .dataframe thead th {\n",
       "        text-align: right;\n",
       "    }\n",
       "</style>\n",
       "<table border=\"1\" class=\"dataframe\">\n",
       "  <thead>\n",
       "    <tr style=\"text-align: right;\">\n",
       "      <th></th>\n",
       "      <th>timestamp</th>\n",
       "      <th>Close</th>\n",
       "      <th>Open</th>\n",
       "      <th>Low</th>\n",
       "      <th>High</th>\n",
       "      <th>Volume</th>\n",
       "    </tr>\n",
       "  </thead>\n",
       "  <tbody>\n",
       "    <tr>\n",
       "      <th>0</th>\n",
       "      <td>2019-01-28</td>\n",
       "      <td>6.650000</td>\n",
       "      <td>6.650000</td>\n",
       "      <td>6.65</td>\n",
       "      <td>6.650000</td>\n",
       "      <td>0.0</td>\n",
       "    </tr>\n",
       "    <tr>\n",
       "      <th>1</th>\n",
       "      <td>2019-01-28</td>\n",
       "      <td>6.670000</td>\n",
       "      <td>6.650000</td>\n",
       "      <td>6.61</td>\n",
       "      <td>6.680000</td>\n",
       "      <td>0.0</td>\n",
       "    </tr>\n",
       "    <tr>\n",
       "      <th>2</th>\n",
       "      <td>2019-01-28</td>\n",
       "      <td>6.560900</td>\n",
       "      <td>6.670000</td>\n",
       "      <td>6.56</td>\n",
       "      <td>6.670000</td>\n",
       "      <td>0.0</td>\n",
       "    </tr>\n",
       "    <tr>\n",
       "      <th>3</th>\n",
       "      <td>2019-01-28</td>\n",
       "      <td>6.600000</td>\n",
       "      <td>6.553800</td>\n",
       "      <td>6.48</td>\n",
       "      <td>6.610000</td>\n",
       "      <td>1652448.0</td>\n",
       "    </tr>\n",
       "    <tr>\n",
       "      <th>4</th>\n",
       "      <td>2019-01-28</td>\n",
       "      <td>6.550000</td>\n",
       "      <td>6.610000</td>\n",
       "      <td>6.55</td>\n",
       "      <td>6.610000</td>\n",
       "      <td>582031.0</td>\n",
       "    </tr>\n",
       "    <tr>\n",
       "      <th>...</th>\n",
       "      <td>...</td>\n",
       "      <td>...</td>\n",
       "      <td>...</td>\n",
       "      <td>...</td>\n",
       "      <td>...</td>\n",
       "      <td>...</td>\n",
       "    </tr>\n",
       "    <tr>\n",
       "      <th>8032</th>\n",
       "      <td>2021-01-26</td>\n",
       "      <td>60.140000</td>\n",
       "      <td>59.930000</td>\n",
       "      <td>59.50</td>\n",
       "      <td>60.350000</td>\n",
       "      <td>0.0</td>\n",
       "    </tr>\n",
       "    <tr>\n",
       "      <th>8033</th>\n",
       "      <td>2021-01-26</td>\n",
       "      <td>60.800000</td>\n",
       "      <td>60.110000</td>\n",
       "      <td>59.75</td>\n",
       "      <td>60.800000</td>\n",
       "      <td>0.0</td>\n",
       "    </tr>\n",
       "    <tr>\n",
       "      <th>8034</th>\n",
       "      <td>2021-01-26</td>\n",
       "      <td>60.210000</td>\n",
       "      <td>60.810000</td>\n",
       "      <td>60.20</td>\n",
       "      <td>60.810000</td>\n",
       "      <td>0.0</td>\n",
       "    </tr>\n",
       "    <tr>\n",
       "      <th>8035</th>\n",
       "      <td>2021-01-26</td>\n",
       "      <td>59.389999</td>\n",
       "      <td>60.130001</td>\n",
       "      <td>59.02</td>\n",
       "      <td>60.669998</td>\n",
       "      <td>19559748.0</td>\n",
       "    </tr>\n",
       "    <tr>\n",
       "      <th>8036</th>\n",
       "      <td>2021-01-26</td>\n",
       "      <td>59.520000</td>\n",
       "      <td>59.520000</td>\n",
       "      <td>59.52</td>\n",
       "      <td>59.520000</td>\n",
       "      <td>0.0</td>\n",
       "    </tr>\n",
       "  </tbody>\n",
       "</table>\n",
       "<p>8037 rows × 6 columns</p>\n",
       "</div>"
      ],
      "text/plain": [
       "       timestamp      Close       Open    Low       High      Volume\n",
       "0     2019-01-28   6.650000   6.650000   6.65   6.650000         0.0\n",
       "1     2019-01-28   6.670000   6.650000   6.61   6.680000         0.0\n",
       "2     2019-01-28   6.560900   6.670000   6.56   6.670000         0.0\n",
       "3     2019-01-28   6.600000   6.553800   6.48   6.610000   1652448.0\n",
       "4     2019-01-28   6.550000   6.610000   6.55   6.610000    582031.0\n",
       "...          ...        ...        ...    ...        ...         ...\n",
       "8032  2021-01-26  60.140000  59.930000  59.50  60.350000         0.0\n",
       "8033  2021-01-26  60.800000  60.110000  59.75  60.800000         0.0\n",
       "8034  2021-01-26  60.210000  60.810000  60.20  60.810000         0.0\n",
       "8035  2021-01-26  59.389999  60.130001  59.02  60.669998  19559748.0\n",
       "8036  2021-01-26  59.520000  59.520000  59.52  59.520000         0.0\n",
       "\n",
       "[8037 rows x 6 columns]"
      ]
     },
     "execution_count": 3,
     "metadata": {},
     "output_type": "execute_result"
    }
   ],
   "source": [
    "data"
   ]
  },
  {
   "cell_type": "code",
   "execution_count": 4,
   "metadata": {},
   "outputs": [],
   "source": [
    "data['timestamp']=pd.to_datetime(data['timestamp'])"
   ]
  },
  {
   "cell_type": "code",
   "execution_count": 5,
   "metadata": {},
   "outputs": [
    {
     "data": {
      "text/html": [
       "<div>\n",
       "<style scoped>\n",
       "    .dataframe tbody tr th:only-of-type {\n",
       "        vertical-align: middle;\n",
       "    }\n",
       "\n",
       "    .dataframe tbody tr th {\n",
       "        vertical-align: top;\n",
       "    }\n",
       "\n",
       "    .dataframe thead th {\n",
       "        text-align: right;\n",
       "    }\n",
       "</style>\n",
       "<table border=\"1\" class=\"dataframe\">\n",
       "  <thead>\n",
       "    <tr style=\"text-align: right;\">\n",
       "      <th></th>\n",
       "      <th>Date</th>\n",
       "      <th>Close</th>\n",
       "      <th>Open</th>\n",
       "      <th>Low</th>\n",
       "      <th>High</th>\n",
       "      <th>Volume</th>\n",
       "    </tr>\n",
       "  </thead>\n",
       "  <tbody>\n",
       "    <tr>\n",
       "      <th>0</th>\n",
       "      <td>2019-01-28</td>\n",
       "      <td>6.650000</td>\n",
       "      <td>6.650000</td>\n",
       "      <td>6.65</td>\n",
       "      <td>6.650000</td>\n",
       "      <td>0.0</td>\n",
       "    </tr>\n",
       "    <tr>\n",
       "      <th>1</th>\n",
       "      <td>2019-01-28</td>\n",
       "      <td>6.670000</td>\n",
       "      <td>6.650000</td>\n",
       "      <td>6.61</td>\n",
       "      <td>6.680000</td>\n",
       "      <td>0.0</td>\n",
       "    </tr>\n",
       "    <tr>\n",
       "      <th>2</th>\n",
       "      <td>2019-01-28</td>\n",
       "      <td>6.560900</td>\n",
       "      <td>6.670000</td>\n",
       "      <td>6.56</td>\n",
       "      <td>6.670000</td>\n",
       "      <td>0.0</td>\n",
       "    </tr>\n",
       "    <tr>\n",
       "      <th>3</th>\n",
       "      <td>2019-01-28</td>\n",
       "      <td>6.600000</td>\n",
       "      <td>6.553800</td>\n",
       "      <td>6.48</td>\n",
       "      <td>6.610000</td>\n",
       "      <td>1652448.0</td>\n",
       "    </tr>\n",
       "    <tr>\n",
       "      <th>4</th>\n",
       "      <td>2019-01-28</td>\n",
       "      <td>6.550000</td>\n",
       "      <td>6.610000</td>\n",
       "      <td>6.55</td>\n",
       "      <td>6.610000</td>\n",
       "      <td>582031.0</td>\n",
       "    </tr>\n",
       "    <tr>\n",
       "      <th>...</th>\n",
       "      <td>...</td>\n",
       "      <td>...</td>\n",
       "      <td>...</td>\n",
       "      <td>...</td>\n",
       "      <td>...</td>\n",
       "      <td>...</td>\n",
       "    </tr>\n",
       "    <tr>\n",
       "      <th>8032</th>\n",
       "      <td>2021-01-26</td>\n",
       "      <td>60.140000</td>\n",
       "      <td>59.930000</td>\n",
       "      <td>59.50</td>\n",
       "      <td>60.350000</td>\n",
       "      <td>0.0</td>\n",
       "    </tr>\n",
       "    <tr>\n",
       "      <th>8033</th>\n",
       "      <td>2021-01-26</td>\n",
       "      <td>60.800000</td>\n",
       "      <td>60.110000</td>\n",
       "      <td>59.75</td>\n",
       "      <td>60.800000</td>\n",
       "      <td>0.0</td>\n",
       "    </tr>\n",
       "    <tr>\n",
       "      <th>8034</th>\n",
       "      <td>2021-01-26</td>\n",
       "      <td>60.210000</td>\n",
       "      <td>60.810000</td>\n",
       "      <td>60.20</td>\n",
       "      <td>60.810000</td>\n",
       "      <td>0.0</td>\n",
       "    </tr>\n",
       "    <tr>\n",
       "      <th>8035</th>\n",
       "      <td>2021-01-26</td>\n",
       "      <td>59.389999</td>\n",
       "      <td>60.130001</td>\n",
       "      <td>59.02</td>\n",
       "      <td>60.669998</td>\n",
       "      <td>19559748.0</td>\n",
       "    </tr>\n",
       "    <tr>\n",
       "      <th>8036</th>\n",
       "      <td>2021-01-26</td>\n",
       "      <td>59.520000</td>\n",
       "      <td>59.520000</td>\n",
       "      <td>59.52</td>\n",
       "      <td>59.520000</td>\n",
       "      <td>0.0</td>\n",
       "    </tr>\n",
       "  </tbody>\n",
       "</table>\n",
       "<p>8037 rows × 6 columns</p>\n",
       "</div>"
      ],
      "text/plain": [
       "           Date      Close       Open    Low       High      Volume\n",
       "0    2019-01-28   6.650000   6.650000   6.65   6.650000         0.0\n",
       "1    2019-01-28   6.670000   6.650000   6.61   6.680000         0.0\n",
       "2    2019-01-28   6.560900   6.670000   6.56   6.670000         0.0\n",
       "3    2019-01-28   6.600000   6.553800   6.48   6.610000   1652448.0\n",
       "4    2019-01-28   6.550000   6.610000   6.55   6.610000    582031.0\n",
       "...         ...        ...        ...    ...        ...         ...\n",
       "8032 2021-01-26  60.140000  59.930000  59.50  60.350000         0.0\n",
       "8033 2021-01-26  60.800000  60.110000  59.75  60.800000         0.0\n",
       "8034 2021-01-26  60.210000  60.810000  60.20  60.810000         0.0\n",
       "8035 2021-01-26  59.389999  60.130001  59.02  60.669998  19559748.0\n",
       "8036 2021-01-26  59.520000  59.520000  59.52  59.520000         0.0\n",
       "\n",
       "[8037 rows x 6 columns]"
      ]
     },
     "execution_count": 5,
     "metadata": {},
     "output_type": "execute_result"
    }
   ],
   "source": [
    "df_new=data.rename(columns={'timestamp':'Date'})\n",
    "df_new"
   ]
  },
  {
   "cell_type": "code",
   "execution_count": 6,
   "metadata": {},
   "outputs": [],
   "source": [
    "#df_new.sample()"
   ]
  },
  {
   "cell_type": "code",
   "execution_count": 6,
   "metadata": {},
   "outputs": [
    {
     "name": "stderr",
     "output_type": "stream",
     "text": [
      "<ipython-input-6-ebe486fdd406>:1: FutureWarning: Treating datetime data as categorical rather than numeric in `.describe` is deprecated and will be removed in a future version of pandas. Specify `datetime_is_numeric=True` to silence this warning and adopt the future behavior now.\n",
      "  df_new.describe(include= 'all')\n"
     ]
    },
    {
     "data": {
      "text/html": [
       "<div>\n",
       "<style scoped>\n",
       "    .dataframe tbody tr th:only-of-type {\n",
       "        vertical-align: middle;\n",
       "    }\n",
       "\n",
       "    .dataframe tbody tr th {\n",
       "        vertical-align: top;\n",
       "    }\n",
       "\n",
       "    .dataframe thead th {\n",
       "        text-align: right;\n",
       "    }\n",
       "</style>\n",
       "<table border=\"1\" class=\"dataframe\">\n",
       "  <thead>\n",
       "    <tr style=\"text-align: right;\">\n",
       "      <th></th>\n",
       "      <th>Date</th>\n",
       "      <th>Close</th>\n",
       "      <th>Open</th>\n",
       "      <th>Low</th>\n",
       "      <th>High</th>\n",
       "      <th>Volume</th>\n",
       "    </tr>\n",
       "  </thead>\n",
       "  <tbody>\n",
       "    <tr>\n",
       "      <th>count</th>\n",
       "      <td>8037</td>\n",
       "      <td>8032.000000</td>\n",
       "      <td>8032.000000</td>\n",
       "      <td>8032.000000</td>\n",
       "      <td>8032.000000</td>\n",
       "      <td>8.032000e+03</td>\n",
       "    </tr>\n",
       "    <tr>\n",
       "      <th>unique</th>\n",
       "      <td>604</td>\n",
       "      <td>NaN</td>\n",
       "      <td>NaN</td>\n",
       "      <td>NaN</td>\n",
       "      <td>NaN</td>\n",
       "      <td>NaN</td>\n",
       "    </tr>\n",
       "    <tr>\n",
       "      <th>top</th>\n",
       "      <td>2020-08-26 00:00:00</td>\n",
       "      <td>NaN</td>\n",
       "      <td>NaN</td>\n",
       "      <td>NaN</td>\n",
       "      <td>NaN</td>\n",
       "      <td>NaN</td>\n",
       "    </tr>\n",
       "    <tr>\n",
       "      <th>freq</th>\n",
       "      <td>17</td>\n",
       "      <td>NaN</td>\n",
       "      <td>NaN</td>\n",
       "      <td>NaN</td>\n",
       "      <td>NaN</td>\n",
       "      <td>NaN</td>\n",
       "    </tr>\n",
       "    <tr>\n",
       "      <th>first</th>\n",
       "      <td>2019-01-28 00:00:00</td>\n",
       "      <td>NaN</td>\n",
       "      <td>NaN</td>\n",
       "      <td>NaN</td>\n",
       "      <td>NaN</td>\n",
       "      <td>NaN</td>\n",
       "    </tr>\n",
       "    <tr>\n",
       "      <th>last</th>\n",
       "      <td>2021-01-26 00:00:00</td>\n",
       "      <td>NaN</td>\n",
       "      <td>NaN</td>\n",
       "      <td>NaN</td>\n",
       "      <td>NaN</td>\n",
       "      <td>NaN</td>\n",
       "    </tr>\n",
       "    <tr>\n",
       "      <th>mean</th>\n",
       "      <td>NaN</td>\n",
       "      <td>11.590184</td>\n",
       "      <td>11.587704</td>\n",
       "      <td>11.461051</td>\n",
       "      <td>11.704428</td>\n",
       "      <td>4.581122e+06</td>\n",
       "    </tr>\n",
       "    <tr>\n",
       "      <th>std</th>\n",
       "      <td>NaN</td>\n",
       "      <td>14.854470</td>\n",
       "      <td>14.852305</td>\n",
       "      <td>14.686062</td>\n",
       "      <td>15.001661</td>\n",
       "      <td>1.159585e+07</td>\n",
       "    </tr>\n",
       "    <tr>\n",
       "      <th>min</th>\n",
       "      <td>NaN</td>\n",
       "      <td>1.200000</td>\n",
       "      <td>1.190000</td>\n",
       "      <td>1.160000</td>\n",
       "      <td>1.240000</td>\n",
       "      <td>0.000000e+00</td>\n",
       "    </tr>\n",
       "    <tr>\n",
       "      <th>25%</th>\n",
       "      <td>NaN</td>\n",
       "      <td>3.059975</td>\n",
       "      <td>3.059900</td>\n",
       "      <td>3.030000</td>\n",
       "      <td>3.080000</td>\n",
       "      <td>0.000000e+00</td>\n",
       "    </tr>\n",
       "    <tr>\n",
       "      <th>50%</th>\n",
       "      <td>NaN</td>\n",
       "      <td>4.490000</td>\n",
       "      <td>4.500000</td>\n",
       "      <td>4.440000</td>\n",
       "      <td>4.560000</td>\n",
       "      <td>0.000000e+00</td>\n",
       "    </tr>\n",
       "    <tr>\n",
       "      <th>75%</th>\n",
       "      <td>NaN</td>\n",
       "      <td>13.445000</td>\n",
       "      <td>13.445000</td>\n",
       "      <td>13.280000</td>\n",
       "      <td>13.602500</td>\n",
       "      <td>4.309818e+06</td>\n",
       "    </tr>\n",
       "    <tr>\n",
       "      <th>max</th>\n",
       "      <td>NaN</td>\n",
       "      <td>65.050000</td>\n",
       "      <td>65.050000</td>\n",
       "      <td>64.800000</td>\n",
       "      <td>66.989998</td>\n",
       "      <td>1.644050e+08</td>\n",
       "    </tr>\n",
       "  </tbody>\n",
       "</table>\n",
       "</div>"
      ],
      "text/plain": [
       "                       Date        Close         Open          Low  \\\n",
       "count                  8037  8032.000000  8032.000000  8032.000000   \n",
       "unique                  604          NaN          NaN          NaN   \n",
       "top     2020-08-26 00:00:00          NaN          NaN          NaN   \n",
       "freq                     17          NaN          NaN          NaN   \n",
       "first   2019-01-28 00:00:00          NaN          NaN          NaN   \n",
       "last    2021-01-26 00:00:00          NaN          NaN          NaN   \n",
       "mean                    NaN    11.590184    11.587704    11.461051   \n",
       "std                     NaN    14.854470    14.852305    14.686062   \n",
       "min                     NaN     1.200000     1.190000     1.160000   \n",
       "25%                     NaN     3.059975     3.059900     3.030000   \n",
       "50%                     NaN     4.490000     4.500000     4.440000   \n",
       "75%                     NaN    13.445000    13.445000    13.280000   \n",
       "max                     NaN    65.050000    65.050000    64.800000   \n",
       "\n",
       "               High        Volume  \n",
       "count   8032.000000  8.032000e+03  \n",
       "unique          NaN           NaN  \n",
       "top             NaN           NaN  \n",
       "freq            NaN           NaN  \n",
       "first           NaN           NaN  \n",
       "last            NaN           NaN  \n",
       "mean      11.704428  4.581122e+06  \n",
       "std       15.001661  1.159585e+07  \n",
       "min        1.240000  0.000000e+00  \n",
       "25%        3.080000  0.000000e+00  \n",
       "50%        4.560000  0.000000e+00  \n",
       "75%       13.602500  4.309818e+06  \n",
       "max       66.989998  1.644050e+08  "
      ]
     },
     "execution_count": 6,
     "metadata": {},
     "output_type": "execute_result"
    }
   ],
   "source": [
    "df_new.describe(include= 'all')"
   ]
  },
  {
   "cell_type": "code",
   "execution_count": 7,
   "metadata": {},
   "outputs": [
    {
     "data": {
      "text/plain": [
       "Date        Close  Open    Low   High   Volume    \n",
       "2019-10-31  1.450  1.4500  1.45  1.450  0.0           4\n",
       "2019-02-08  7.890  7.9000  7.89  7.900  0.0           2\n",
       "2019-11-13  1.850  1.8600  1.85  1.890  0.0           2\n",
       "2019-03-26  4.980  4.9800  4.96  4.990  0.0           2\n",
       "2019-08-07  3.080  3.0800  3.08  3.080  0.0           2\n",
       "                                                     ..\n",
       "2020-06-08  5.810  5.8700  5.80  5.890  0.0           1\n",
       "            5.870  5.8100  5.68  5.875  22422666.0    1\n",
       "            5.875  6.0229  5.86  6.060  8493149.0     1\n",
       "            5.890  5.6900  5.69  5.900  0.0           1\n",
       "2019-01-28  6.550  6.6100  6.55  6.610  582031.0      1\n",
       "Length: 7996, dtype: int64"
      ]
     },
     "execution_count": 7,
     "metadata": {},
     "output_type": "execute_result"
    }
   ],
   "source": [
    "df_new.value_counts()"
   ]
  },
  {
   "cell_type": "code",
   "execution_count": 8,
   "metadata": {},
   "outputs": [
    {
     "name": "stdout",
     "output_type": "stream",
     "text": [
      "<class 'pandas.core.frame.DataFrame'>\n",
      "Int64Index: 8037 entries, 0 to 8036\n",
      "Data columns (total 6 columns):\n",
      " #   Column  Non-Null Count  Dtype         \n",
      "---  ------  --------------  -----         \n",
      " 0   Date    8037 non-null   datetime64[ns]\n",
      " 1   Close   8032 non-null   float64       \n",
      " 2   Open    8032 non-null   float64       \n",
      " 3   Low     8032 non-null   float64       \n",
      " 4   High    8032 non-null   float64       \n",
      " 5   Volume  8032 non-null   float64       \n",
      "dtypes: datetime64[ns](1), float64(5)\n",
      "memory usage: 439.5 KB\n"
     ]
    }
   ],
   "source": [
    "df_new.info()"
   ]
  },
  {
   "cell_type": "code",
   "execution_count": 9,
   "metadata": {},
   "outputs": [
    {
     "data": {
      "text/plain": [
       "Date      0\n",
       "Close     5\n",
       "Open      5\n",
       "Low       5\n",
       "High      5\n",
       "Volume    5\n",
       "dtype: int64"
      ]
     },
     "execution_count": 9,
     "metadata": {},
     "output_type": "execute_result"
    }
   ],
   "source": [
    "df_new.isnull().sum()"
   ]
  },
  {
   "cell_type": "code",
   "execution_count": 12,
   "metadata": {},
   "outputs": [],
   "source": [
    "#print (df_new['Close'].isnull())"
   ]
  },
  {
   "cell_type": "code",
   "execution_count": 10,
   "metadata": {},
   "outputs": [],
   "source": [
    "#df_new['Close'].median()\n",
    "df_new['Close'].fillna(4.490000,inplace=True)"
   ]
  },
  {
   "cell_type": "code",
   "execution_count": 14,
   "metadata": {},
   "outputs": [],
   "source": [
    "#print (df_new['Open'].isnull())\n"
   ]
  },
  {
   "cell_type": "code",
   "execution_count": 11,
   "metadata": {},
   "outputs": [],
   "source": [
    "df_new['Open'].fillna(4.500000,inplace=True)"
   ]
  },
  {
   "cell_type": "code",
   "execution_count": 12,
   "metadata": {},
   "outputs": [],
   "source": [
    "df_new['Low'].fillna(4.440000,inplace=True)"
   ]
  },
  {
   "cell_type": "code",
   "execution_count": 13,
   "metadata": {},
   "outputs": [],
   "source": [
    "df_new['High'].fillna(4.560000,inplace=True)"
   ]
  },
  {
   "cell_type": "code",
   "execution_count": 14,
   "metadata": {},
   "outputs": [],
   "source": [
    "df_new['Volume'].fillna(0.000000e+00,inplace=True)"
   ]
  },
  {
   "cell_type": "code",
   "execution_count": 15,
   "metadata": {},
   "outputs": [
    {
     "data": {
      "text/plain": [
       "Date      0\n",
       "Close     0\n",
       "Open      0\n",
       "Low       0\n",
       "High      0\n",
       "Volume    0\n",
       "dtype: int64"
      ]
     },
     "execution_count": 15,
     "metadata": {},
     "output_type": "execute_result"
    }
   ],
   "source": [
    "df_new.isnull().sum()"
   ]
  },
  {
   "cell_type": "code",
   "execution_count": 16,
   "metadata": {},
   "outputs": [
    {
     "data": {
      "text/plain": [
       "Text(0, 0.5, 'Close Price')"
      ]
     },
     "execution_count": 16,
     "metadata": {},
     "output_type": "execute_result"
    },
    {
     "data": {
      "image/png": "[encoded data removed]",
      "text/plain": [
       "<Figure size 1440x576 with 1 Axes>"
      ]
     },
     "metadata": {
      "needs_background": "light"
     },
     "output_type": "display_data"
    }
   ],
   "source": [
    "plt.figure(figsize=(20,8))\n",
    "plt.plot('Date','Close',data=df_new)\n",
    "plt.xlabel('Date')\n",
    "plt.ylabel('Close Price')\n",
    "#plt.xticks(rotation=45)"
   ]
  },
  {
   "cell_type": "code",
   "execution_count": 25,
   "metadata": {},
   "outputs": [
    {
     "data": {
      "text/plain": [
       "Text(0, 0.5, 'Open Price')"
      ]
     },
     "execution_count": 25,
     "metadata": {},
     "output_type": "execute_result"
    },
    {
     "data": {
      "image/png": "[encoded data removed]",
      "text/plain": [
       "<Figure size 1440x576 with 1 Axes>"
      ]
     },
     "metadata": {
      "needs_background": "light"
     },
     "output_type": "display_data"
    }
   ],
   "source": [
    "plt.figure(figsize=(20,8))\n",
    "plt.plot('Date','Open',data=df_new)\n",
    "plt.xlabel('Date')\n",
    "plt.ylabel('Open Price')"
   ]
  },
  {
   "cell_type": "code",
   "execution_count": 26,
   "metadata": {},
   "outputs": [
    {
     "data": {
      "text/plain": [
       "[Text(0, 0.5, 'Price')]"
      ]
     },
     "execution_count": 26,
     "metadata": {},
     "output_type": "execute_result"
    },
    {
     "data": {
      "image/png": "[encoded data removed]",
      "text/plain": [
       "<Figure size 1080x504 with 1 Axes>"
      ]
     },
     "metadata": {
      "needs_background": "light"
     },
     "output_type": "display_data"
    }
   ],
   "source": [
    "title='NIO STOCK PRICE'\n",
    "ylabel='Price'\n",
    "ax=df_new[['Open','Close']].plot(figsize=(15,7),title=title)\n",
    "ax.autoscale(axis='x',tight='True')\n",
    "ax.set(ylabel=ylabel,)"
   ]
  },
  {
   "cell_type": "code",
   "execution_count": 21,
   "metadata": {},
   "outputs": [
    {
     "data": {
      "text/plain": [
       "Text(0, 0.5, 'Volume')"
      ]
     },
     "execution_count": 21,
     "metadata": {},
     "output_type": "execute_result"
    },
    {
     "data": {
      "image/png": "[encoded data removed]",
      "text/plain": [
       "<Figure size 1440x576 with 1 Axes>"
      ]
     },
     "metadata": {
      "needs_background": "light"
     },
     "output_type": "display_data"
    }
   ],
   "source": [
    "plt.figure(figsize=(20,8))\n",
    "plt.plot('Date','Volume',data=df_new)\n",
    "plt.xlabel('Date')\n",
    "plt.ylabel('Volume')"
   ]
  },
  {
   "cell_type": "code",
   "execution_count": 32,
   "metadata": {},
   "outputs": [
    {
     "data": {
      "text/html": [
       "<div>\n",
       "<style scoped>\n",
       "    .dataframe tbody tr th:only-of-type {\n",
       "        vertical-align: middle;\n",
       "    }\n",
       "\n",
       "    .dataframe tbody tr th {\n",
       "        vertical-align: top;\n",
       "    }\n",
       "\n",
       "    .dataframe thead th {\n",
       "        text-align: right;\n",
       "    }\n",
       "</style>\n",
       "<table border=\"1\" class=\"dataframe\">\n",
       "  <thead>\n",
       "    <tr style=\"text-align: right;\">\n",
       "      <th></th>\n",
       "      <th>Date</th>\n",
       "      <th>Close</th>\n",
       "      <th>Open</th>\n",
       "      <th>Low</th>\n",
       "      <th>High</th>\n",
       "      <th>Volume</th>\n",
       "    </tr>\n",
       "  </thead>\n",
       "  <tbody>\n",
       "    <tr>\n",
       "      <th>5734</th>\n",
       "      <td>2020-07-08</td>\n",
       "      <td>14.9199</td>\n",
       "      <td>14.1</td>\n",
       "      <td>14.05</td>\n",
       "      <td>15.28</td>\n",
       "      <td>164405002.0</td>\n",
       "    </tr>\n",
       "  </tbody>\n",
       "</table>\n",
       "</div>"
      ],
      "text/plain": [
       "           Date    Close  Open    Low   High       Volume\n",
       "5734 2020-07-08  14.9199  14.1  14.05  15.28  164405002.0"
      ]
     },
     "execution_count": 32,
     "metadata": {},
     "output_type": "execute_result"
    }
   ],
   "source": [
    "#NIO trading volume spike in July. what was responsible?\n",
    "df_new.iloc[[df_new['Volume'].argmax()]]"
   ]
  },
  {
   "cell_type": "code",
   "execution_count": 59,
   "metadata": {},
   "outputs": [
    {
     "data": {
      "text/plain": [
       "<AxesSubplot:>"
      ]
     },
     "execution_count": 59,
     "metadata": {},
     "output_type": "execute_result"
    },
    {
     "data": {
      "image/png": "[encoded data removed]",
      "text/plain": [
       "<Figure size 432x288 with 1 Axes>"
      ]
     },
     "metadata": {
      "needs_background": "light"
     },
     "output_type": "display_data"
    }
   ],
   "source": [
    "#df_new.iloc[5730:5750]['Open'].plot(x='Date',y='Open')\n",
    "df_new.iloc[5730:5750]['Open'].plot()\n"
   ]
  },
  {
   "cell_type": "code",
   "execution_count": 44,
   "metadata": {},
   "outputs": [
    {
     "data": {
      "text/html": [
       "<div>\n",
       "<style scoped>\n",
       "    .dataframe tbody tr th:only-of-type {\n",
       "        vertical-align: middle;\n",
       "    }\n",
       "\n",
       "    .dataframe tbody tr th {\n",
       "        vertical-align: top;\n",
       "    }\n",
       "\n",
       "    .dataframe thead th {\n",
       "        text-align: right;\n",
       "    }\n",
       "</style>\n",
       "<table border=\"1\" class=\"dataframe\">\n",
       "  <thead>\n",
       "    <tr style=\"text-align: right;\">\n",
       "      <th></th>\n",
       "      <th>Date</th>\n",
       "      <th>Close</th>\n",
       "      <th>Open</th>\n",
       "      <th>Low</th>\n",
       "      <th>High</th>\n",
       "      <th>Volume</th>\n",
       "      <th>Total traded</th>\n",
       "    </tr>\n",
       "  </thead>\n",
       "  <tbody>\n",
       "    <tr>\n",
       "      <th>0</th>\n",
       "      <td>2019-01-28</td>\n",
       "      <td>6.650000</td>\n",
       "      <td>6.650000</td>\n",
       "      <td>6.65</td>\n",
       "      <td>6.650000</td>\n",
       "      <td>0.0</td>\n",
       "      <td>0.000000e+00</td>\n",
       "    </tr>\n",
       "    <tr>\n",
       "      <th>1</th>\n",
       "      <td>2019-01-28</td>\n",
       "      <td>6.670000</td>\n",
       "      <td>6.650000</td>\n",
       "      <td>6.61</td>\n",
       "      <td>6.680000</td>\n",
       "      <td>0.0</td>\n",
       "      <td>0.000000e+00</td>\n",
       "    </tr>\n",
       "    <tr>\n",
       "      <th>2</th>\n",
       "      <td>2019-01-28</td>\n",
       "      <td>6.560900</td>\n",
       "      <td>6.670000</td>\n",
       "      <td>6.56</td>\n",
       "      <td>6.670000</td>\n",
       "      <td>0.0</td>\n",
       "      <td>0.000000e+00</td>\n",
       "    </tr>\n",
       "    <tr>\n",
       "      <th>3</th>\n",
       "      <td>2019-01-28</td>\n",
       "      <td>6.600000</td>\n",
       "      <td>6.553800</td>\n",
       "      <td>6.48</td>\n",
       "      <td>6.610000</td>\n",
       "      <td>1652448.0</td>\n",
       "      <td>1.082981e+07</td>\n",
       "    </tr>\n",
       "    <tr>\n",
       "      <th>4</th>\n",
       "      <td>2019-01-28</td>\n",
       "      <td>6.550000</td>\n",
       "      <td>6.610000</td>\n",
       "      <td>6.55</td>\n",
       "      <td>6.610000</td>\n",
       "      <td>582031.0</td>\n",
       "      <td>3.847225e+06</td>\n",
       "    </tr>\n",
       "    <tr>\n",
       "      <th>...</th>\n",
       "      <td>...</td>\n",
       "      <td>...</td>\n",
       "      <td>...</td>\n",
       "      <td>...</td>\n",
       "      <td>...</td>\n",
       "      <td>...</td>\n",
       "      <td>...</td>\n",
       "    </tr>\n",
       "    <tr>\n",
       "      <th>8032</th>\n",
       "      <td>2021-01-26</td>\n",
       "      <td>60.140000</td>\n",
       "      <td>59.930000</td>\n",
       "      <td>59.50</td>\n",
       "      <td>60.350000</td>\n",
       "      <td>0.0</td>\n",
       "      <td>0.000000e+00</td>\n",
       "    </tr>\n",
       "    <tr>\n",
       "      <th>8033</th>\n",
       "      <td>2021-01-26</td>\n",
       "      <td>60.800000</td>\n",
       "      <td>60.110000</td>\n",
       "      <td>59.75</td>\n",
       "      <td>60.800000</td>\n",
       "      <td>0.0</td>\n",
       "      <td>0.000000e+00</td>\n",
       "    </tr>\n",
       "    <tr>\n",
       "      <th>8034</th>\n",
       "      <td>2021-01-26</td>\n",
       "      <td>60.210000</td>\n",
       "      <td>60.810000</td>\n",
       "      <td>60.20</td>\n",
       "      <td>60.810000</td>\n",
       "      <td>0.0</td>\n",
       "      <td>0.000000e+00</td>\n",
       "    </tr>\n",
       "    <tr>\n",
       "      <th>8035</th>\n",
       "      <td>2021-01-26</td>\n",
       "      <td>59.389999</td>\n",
       "      <td>60.130001</td>\n",
       "      <td>59.02</td>\n",
       "      <td>60.669998</td>\n",
       "      <td>19559748.0</td>\n",
       "      <td>1.176128e+09</td>\n",
       "    </tr>\n",
       "    <tr>\n",
       "      <th>8036</th>\n",
       "      <td>2021-01-26</td>\n",
       "      <td>59.520000</td>\n",
       "      <td>59.520000</td>\n",
       "      <td>59.52</td>\n",
       "      <td>59.520000</td>\n",
       "      <td>0.0</td>\n",
       "      <td>0.000000e+00</td>\n",
       "    </tr>\n",
       "  </tbody>\n",
       "</table>\n",
       "<p>8037 rows × 7 columns</p>\n",
       "</div>"
      ],
      "text/plain": [
       "           Date      Close       Open    Low       High      Volume  \\\n",
       "0    2019-01-28   6.650000   6.650000   6.65   6.650000         0.0   \n",
       "1    2019-01-28   6.670000   6.650000   6.61   6.680000         0.0   \n",
       "2    2019-01-28   6.560900   6.670000   6.56   6.670000         0.0   \n",
       "3    2019-01-28   6.600000   6.553800   6.48   6.610000   1652448.0   \n",
       "4    2019-01-28   6.550000   6.610000   6.55   6.610000    582031.0   \n",
       "...         ...        ...        ...    ...        ...         ...   \n",
       "8032 2021-01-26  60.140000  59.930000  59.50  60.350000         0.0   \n",
       "8033 2021-01-26  60.800000  60.110000  59.75  60.800000         0.0   \n",
       "8034 2021-01-26  60.210000  60.810000  60.20  60.810000         0.0   \n",
       "8035 2021-01-26  59.389999  60.130001  59.02  60.669998  19559748.0   \n",
       "8036 2021-01-26  59.520000  59.520000  59.52  59.520000         0.0   \n",
       "\n",
       "      Total traded  \n",
       "0     0.000000e+00  \n",
       "1     0.000000e+00  \n",
       "2     0.000000e+00  \n",
       "3     1.082981e+07  \n",
       "4     3.847225e+06  \n",
       "...            ...  \n",
       "8032  0.000000e+00  \n",
       "8033  0.000000e+00  \n",
       "8034  0.000000e+00  \n",
       "8035  1.176128e+09  \n",
       "8036  0.000000e+00  \n",
       "\n",
       "[8037 rows x 7 columns]"
      ]
     },
     "execution_count": 44,
     "metadata": {},
     "output_type": "execute_result"
    }
   ],
   "source": [
    "#total traded stock\n",
    "df_new['Total traded']=df_new['Open']*df_new['Volume']\n",
    "df_new"
   ]
  },
  {
   "cell_type": "code",
   "execution_count": 49,
   "metadata": {},
   "outputs": [
    {
     "data": {
      "text/plain": [
       "Text(0, 0.5, 'Total traded')"
      ]
     },
     "execution_count": 49,
     "metadata": {},
     "output_type": "execute_result"
    },
    {
     "data": {
      "image/png": "[encoded data removed]",
      "text/plain": [
       "<Figure size 1440x576 with 1 Axes>"
      ]
     },
     "metadata": {
      "needs_background": "light"
     },
     "output_type": "display_data"
    }
   ],
   "source": [
    "plt.figure(figsize=(20,8))\n",
    "plt.plot('Date','Total traded',data=df_new)\n",
    "plt.xlabel('Date')\n",
    "plt.ylabel('Total traded')"
   ]
  },
  {
   "cell_type": "code",
   "execution_count": null,
   "metadata": {},
   "outputs": [],
   "source": [
    "#creating a daily lag column(shifting the close price by one day back) to create the column for daily returns\n",
    "df_new['Daily Lag']= df_new['Close'].shift(1)\n",
    "df_new.head()"
   ]
  },
  {
   "cell_type": "code",
   "execution_count": 20,
   "metadata": {},
   "outputs": [
    {
     "data": {
      "text/html": [
       "<div>\n",
       "<style scoped>\n",
       "    .dataframe tbody tr th:only-of-type {\n",
       "        vertical-align: middle;\n",
       "    }\n",
       "\n",
       "    .dataframe tbody tr th {\n",
       "        vertical-align: top;\n",
       "    }\n",
       "\n",
       "    .dataframe thead th {\n",
       "        text-align: right;\n",
       "    }\n",
       "</style>\n",
       "<table border=\"1\" class=\"dataframe\">\n",
       "  <thead>\n",
       "    <tr style=\"text-align: right;\">\n",
       "      <th></th>\n",
       "      <th>Date</th>\n",
       "      <th>Close</th>\n",
       "      <th>Open</th>\n",
       "      <th>Low</th>\n",
       "      <th>High</th>\n",
       "      <th>Volume</th>\n",
       "      <th>Daily Lag</th>\n",
       "      <th>Daily Returns</th>\n",
       "    </tr>\n",
       "  </thead>\n",
       "  <tbody>\n",
       "    <tr>\n",
       "      <th>0</th>\n",
       "      <td>2019-01-28</td>\n",
       "      <td>6.6500</td>\n",
       "      <td>6.6500</td>\n",
       "      <td>6.65</td>\n",
       "      <td>6.65</td>\n",
       "      <td>0.0</td>\n",
       "      <td>NaN</td>\n",
       "      <td>NaN</td>\n",
       "    </tr>\n",
       "    <tr>\n",
       "      <th>1</th>\n",
       "      <td>2019-01-28</td>\n",
       "      <td>6.6700</td>\n",
       "      <td>6.6500</td>\n",
       "      <td>6.61</td>\n",
       "      <td>6.68</td>\n",
       "      <td>0.0</td>\n",
       "      <td>6.6500</td>\n",
       "      <td>-0.002999</td>\n",
       "    </tr>\n",
       "    <tr>\n",
       "      <th>2</th>\n",
       "      <td>2019-01-28</td>\n",
       "      <td>6.5609</td>\n",
       "      <td>6.6700</td>\n",
       "      <td>6.56</td>\n",
       "      <td>6.67</td>\n",
       "      <td>0.0</td>\n",
       "      <td>6.6700</td>\n",
       "      <td>0.016629</td>\n",
       "    </tr>\n",
       "    <tr>\n",
       "      <th>3</th>\n",
       "      <td>2019-01-28</td>\n",
       "      <td>6.6000</td>\n",
       "      <td>6.5538</td>\n",
       "      <td>6.48</td>\n",
       "      <td>6.61</td>\n",
       "      <td>1652448.0</td>\n",
       "      <td>6.5609</td>\n",
       "      <td>-0.005924</td>\n",
       "    </tr>\n",
       "    <tr>\n",
       "      <th>4</th>\n",
       "      <td>2019-01-28</td>\n",
       "      <td>6.5500</td>\n",
       "      <td>6.6100</td>\n",
       "      <td>6.55</td>\n",
       "      <td>6.61</td>\n",
       "      <td>582031.0</td>\n",
       "      <td>6.6000</td>\n",
       "      <td>0.007634</td>\n",
       "    </tr>\n",
       "  </tbody>\n",
       "</table>\n",
       "</div>"
      ],
      "text/plain": [
       "        Date   Close    Open   Low  High     Volume  Daily Lag  Daily Returns\n",
       "0 2019-01-28  6.6500  6.6500  6.65  6.65        0.0        NaN            NaN\n",
       "1 2019-01-28  6.6700  6.6500  6.61  6.68        0.0     6.6500      -0.002999\n",
       "2 2019-01-28  6.5609  6.6700  6.56  6.67        0.0     6.6700       0.016629\n",
       "3 2019-01-28  6.6000  6.5538  6.48  6.61  1652448.0     6.5609      -0.005924\n",
       "4 2019-01-28  6.5500  6.6100  6.55  6.61   582031.0     6.6000       0.007634"
      ]
     },
     "execution_count": 20,
     "metadata": {},
     "output_type": "execute_result"
    }
   ],
   "source": [
    "#creating a column for daily returns which tells us the return gathered in a day after the stock price closes\n",
    "df_new['Daily Returns']=(df_new['Daily Lag']/df_new['Close'])-1\n",
    "df_new.head()"
   ]
  },
  {
   "cell_type": "code",
   "execution_count": 21,
   "metadata": {},
   "outputs": [
    {
     "data": {
      "text/html": [
       "<div>\n",
       "<style scoped>\n",
       "    .dataframe tbody tr th:only-of-type {\n",
       "        vertical-align: middle;\n",
       "    }\n",
       "\n",
       "    .dataframe tbody tr th {\n",
       "        vertical-align: top;\n",
       "    }\n",
       "\n",
       "    .dataframe thead th {\n",
       "        text-align: right;\n",
       "    }\n",
       "</style>\n",
       "<table border=\"1\" class=\"dataframe\">\n",
       "  <thead>\n",
       "    <tr style=\"text-align: right;\">\n",
       "      <th></th>\n",
       "      <th>Date</th>\n",
       "      <th>Close</th>\n",
       "      <th>Open</th>\n",
       "      <th>Low</th>\n",
       "      <th>High</th>\n",
       "      <th>Volume</th>\n",
       "      <th>Daily Lag</th>\n",
       "      <th>Daily Returns</th>\n",
       "      <th>Delta</th>\n",
       "    </tr>\n",
       "  </thead>\n",
       "  <tbody>\n",
       "    <tr>\n",
       "      <th>0</th>\n",
       "      <td>2019-01-28</td>\n",
       "      <td>6.6500</td>\n",
       "      <td>6.6500</td>\n",
       "      <td>6.65</td>\n",
       "      <td>6.65</td>\n",
       "      <td>0.0</td>\n",
       "      <td>NaN</td>\n",
       "      <td>NaN</td>\n",
       "      <td>NaN</td>\n",
       "    </tr>\n",
       "    <tr>\n",
       "      <th>1</th>\n",
       "      <td>2019-01-28</td>\n",
       "      <td>6.6700</td>\n",
       "      <td>6.6500</td>\n",
       "      <td>6.61</td>\n",
       "      <td>6.68</td>\n",
       "      <td>0.0</td>\n",
       "      <td>6.6500</td>\n",
       "      <td>-0.002999</td>\n",
       "      <td>0.000000</td>\n",
       "    </tr>\n",
       "    <tr>\n",
       "      <th>2</th>\n",
       "      <td>2019-01-28</td>\n",
       "      <td>6.5609</td>\n",
       "      <td>6.6700</td>\n",
       "      <td>6.56</td>\n",
       "      <td>6.67</td>\n",
       "      <td>0.0</td>\n",
       "      <td>6.6700</td>\n",
       "      <td>0.016629</td>\n",
       "      <td>0.000000</td>\n",
       "    </tr>\n",
       "    <tr>\n",
       "      <th>3</th>\n",
       "      <td>2019-01-28</td>\n",
       "      <td>6.6000</td>\n",
       "      <td>6.5538</td>\n",
       "      <td>6.48</td>\n",
       "      <td>6.61</td>\n",
       "      <td>1652448.0</td>\n",
       "      <td>6.5609</td>\n",
       "      <td>-0.005924</td>\n",
       "      <td>-0.108215</td>\n",
       "    </tr>\n",
       "    <tr>\n",
       "      <th>4</th>\n",
       "      <td>2019-01-28</td>\n",
       "      <td>6.5500</td>\n",
       "      <td>6.6100</td>\n",
       "      <td>6.55</td>\n",
       "      <td>6.61</td>\n",
       "      <td>582031.0</td>\n",
       "      <td>6.6000</td>\n",
       "      <td>0.007634</td>\n",
       "      <td>0.151519</td>\n",
       "    </tr>\n",
       "  </tbody>\n",
       "</table>\n",
       "</div>"
      ],
      "text/plain": [
       "        Date   Close    Open   Low  High     Volume  Daily Lag  Daily Returns  \\\n",
       "0 2019-01-28  6.6500  6.6500  6.65  6.65        0.0        NaN            NaN   \n",
       "1 2019-01-28  6.6700  6.6500  6.61  6.68        0.0     6.6500      -0.002999   \n",
       "2 2019-01-28  6.5609  6.6700  6.56  6.67        0.0     6.6700       0.016629   \n",
       "3 2019-01-28  6.6000  6.5538  6.48  6.61  1652448.0     6.5609      -0.005924   \n",
       "4 2019-01-28  6.5500  6.6100  6.55  6.61   582031.0     6.6000       0.007634   \n",
       "\n",
       "      Delta  \n",
       "0       NaN  \n",
       "1  0.000000  \n",
       "2  0.000000  \n",
       "3 -0.108215  \n",
       "4  0.151519  "
      ]
     },
     "execution_count": 21,
     "metadata": {},
     "output_type": "execute_result"
    }
   ],
   "source": [
    "#creating a new column that calculates gap btw close price and the day after open price\n",
    "df_new['Delta']=((df_new['Open']-df_new['Daily Lag'])/df_new['Daily Lag'])*100\n",
    "df_new.head()"
   ]
  },
  {
   "cell_type": "code",
   "execution_count": 22,
   "metadata": {},
   "outputs": [
    {
     "data": {
      "text/html": [
       "<div>\n",
       "<style scoped>\n",
       "    .dataframe tbody tr th:only-of-type {\n",
       "        vertical-align: middle;\n",
       "    }\n",
       "\n",
       "    .dataframe tbody tr th {\n",
       "        vertical-align: top;\n",
       "    }\n",
       "\n",
       "    .dataframe thead th {\n",
       "        text-align: right;\n",
       "    }\n",
       "</style>\n",
       "<table border=\"1\" class=\"dataframe\">\n",
       "  <thead>\n",
       "    <tr style=\"text-align: right;\">\n",
       "      <th></th>\n",
       "      <th>Date</th>\n",
       "      <th>Close</th>\n",
       "      <th>Open</th>\n",
       "      <th>Low</th>\n",
       "      <th>High</th>\n",
       "      <th>Volume</th>\n",
       "      <th>Daily Lag</th>\n",
       "      <th>Daily Returns</th>\n",
       "      <th>Delta</th>\n",
       "      <th>Weekday</th>\n",
       "    </tr>\n",
       "  </thead>\n",
       "  <tbody>\n",
       "    <tr>\n",
       "      <th>0</th>\n",
       "      <td>2019-01-28</td>\n",
       "      <td>6.650000</td>\n",
       "      <td>6.650000</td>\n",
       "      <td>6.65</td>\n",
       "      <td>6.650000</td>\n",
       "      <td>0.0</td>\n",
       "      <td>NaN</td>\n",
       "      <td>NaN</td>\n",
       "      <td>NaN</td>\n",
       "      <td>Monday</td>\n",
       "    </tr>\n",
       "    <tr>\n",
       "      <th>1</th>\n",
       "      <td>2019-01-28</td>\n",
       "      <td>6.670000</td>\n",
       "      <td>6.650000</td>\n",
       "      <td>6.61</td>\n",
       "      <td>6.680000</td>\n",
       "      <td>0.0</td>\n",
       "      <td>6.650000</td>\n",
       "      <td>-0.002999</td>\n",
       "      <td>0.000000</td>\n",
       "      <td>Monday</td>\n",
       "    </tr>\n",
       "    <tr>\n",
       "      <th>2</th>\n",
       "      <td>2019-01-28</td>\n",
       "      <td>6.560900</td>\n",
       "      <td>6.670000</td>\n",
       "      <td>6.56</td>\n",
       "      <td>6.670000</td>\n",
       "      <td>0.0</td>\n",
       "      <td>6.670000</td>\n",
       "      <td>0.016629</td>\n",
       "      <td>0.000000</td>\n",
       "      <td>Monday</td>\n",
       "    </tr>\n",
       "    <tr>\n",
       "      <th>3</th>\n",
       "      <td>2019-01-28</td>\n",
       "      <td>6.600000</td>\n",
       "      <td>6.553800</td>\n",
       "      <td>6.48</td>\n",
       "      <td>6.610000</td>\n",
       "      <td>1652448.0</td>\n",
       "      <td>6.560900</td>\n",
       "      <td>-0.005924</td>\n",
       "      <td>-0.108215</td>\n",
       "      <td>Monday</td>\n",
       "    </tr>\n",
       "    <tr>\n",
       "      <th>4</th>\n",
       "      <td>2019-01-28</td>\n",
       "      <td>6.550000</td>\n",
       "      <td>6.610000</td>\n",
       "      <td>6.55</td>\n",
       "      <td>6.610000</td>\n",
       "      <td>582031.0</td>\n",
       "      <td>6.600000</td>\n",
       "      <td>0.007634</td>\n",
       "      <td>0.151519</td>\n",
       "      <td>Monday</td>\n",
       "    </tr>\n",
       "    <tr>\n",
       "      <th>...</th>\n",
       "      <td>...</td>\n",
       "      <td>...</td>\n",
       "      <td>...</td>\n",
       "      <td>...</td>\n",
       "      <td>...</td>\n",
       "      <td>...</td>\n",
       "      <td>...</td>\n",
       "      <td>...</td>\n",
       "      <td>...</td>\n",
       "      <td>...</td>\n",
       "    </tr>\n",
       "    <tr>\n",
       "      <th>8032</th>\n",
       "      <td>2021-01-26</td>\n",
       "      <td>60.140000</td>\n",
       "      <td>59.930000</td>\n",
       "      <td>59.50</td>\n",
       "      <td>60.350000</td>\n",
       "      <td>0.0</td>\n",
       "      <td>59.980000</td>\n",
       "      <td>-0.002660</td>\n",
       "      <td>-0.083361</td>\n",
       "      <td>Tuesday</td>\n",
       "    </tr>\n",
       "    <tr>\n",
       "      <th>8033</th>\n",
       "      <td>2021-01-26</td>\n",
       "      <td>60.800000</td>\n",
       "      <td>60.110000</td>\n",
       "      <td>59.75</td>\n",
       "      <td>60.800000</td>\n",
       "      <td>0.0</td>\n",
       "      <td>60.140000</td>\n",
       "      <td>-0.010855</td>\n",
       "      <td>-0.049884</td>\n",
       "      <td>Tuesday</td>\n",
       "    </tr>\n",
       "    <tr>\n",
       "      <th>8034</th>\n",
       "      <td>2021-01-26</td>\n",
       "      <td>60.210000</td>\n",
       "      <td>60.810000</td>\n",
       "      <td>60.20</td>\n",
       "      <td>60.810000</td>\n",
       "      <td>0.0</td>\n",
       "      <td>60.800000</td>\n",
       "      <td>0.009799</td>\n",
       "      <td>0.016447</td>\n",
       "      <td>Tuesday</td>\n",
       "    </tr>\n",
       "    <tr>\n",
       "      <th>8035</th>\n",
       "      <td>2021-01-26</td>\n",
       "      <td>59.389999</td>\n",
       "      <td>60.130001</td>\n",
       "      <td>59.02</td>\n",
       "      <td>60.669998</td>\n",
       "      <td>19559748.0</td>\n",
       "      <td>60.210000</td>\n",
       "      <td>0.013807</td>\n",
       "      <td>-0.132867</td>\n",
       "      <td>Tuesday</td>\n",
       "    </tr>\n",
       "    <tr>\n",
       "      <th>8036</th>\n",
       "      <td>2021-01-26</td>\n",
       "      <td>59.520000</td>\n",
       "      <td>59.520000</td>\n",
       "      <td>59.52</td>\n",
       "      <td>59.520000</td>\n",
       "      <td>0.0</td>\n",
       "      <td>59.389999</td>\n",
       "      <td>-0.002184</td>\n",
       "      <td>0.218894</td>\n",
       "      <td>Tuesday</td>\n",
       "    </tr>\n",
       "  </tbody>\n",
       "</table>\n",
       "<p>8037 rows × 10 columns</p>\n",
       "</div>"
      ],
      "text/plain": [
       "           Date      Close       Open    Low       High      Volume  \\\n",
       "0    2019-01-28   6.650000   6.650000   6.65   6.650000         0.0   \n",
       "1    2019-01-28   6.670000   6.650000   6.61   6.680000         0.0   \n",
       "2    2019-01-28   6.560900   6.670000   6.56   6.670000         0.0   \n",
       "3    2019-01-28   6.600000   6.553800   6.48   6.610000   1652448.0   \n",
       "4    2019-01-28   6.550000   6.610000   6.55   6.610000    582031.0   \n",
       "...         ...        ...        ...    ...        ...         ...   \n",
       "8032 2021-01-26  60.140000  59.930000  59.50  60.350000         0.0   \n",
       "8033 2021-01-26  60.800000  60.110000  59.75  60.800000         0.0   \n",
       "8034 2021-01-26  60.210000  60.810000  60.20  60.810000         0.0   \n",
       "8035 2021-01-26  59.389999  60.130001  59.02  60.669998  19559748.0   \n",
       "8036 2021-01-26  59.520000  59.520000  59.52  59.520000         0.0   \n",
       "\n",
       "      Daily Lag  Daily Returns     Delta  Weekday  \n",
       "0           NaN            NaN       NaN   Monday  \n",
       "1      6.650000      -0.002999  0.000000   Monday  \n",
       "2      6.670000       0.016629  0.000000   Monday  \n",
       "3      6.560900      -0.005924 -0.108215   Monday  \n",
       "4      6.600000       0.007634  0.151519   Monday  \n",
       "...         ...            ...       ...      ...  \n",
       "8032  59.980000      -0.002660 -0.083361  Tuesday  \n",
       "8033  60.140000      -0.010855 -0.049884  Tuesday  \n",
       "8034  60.800000       0.009799  0.016447  Tuesday  \n",
       "8035  60.210000       0.013807 -0.132867  Tuesday  \n",
       "8036  59.389999      -0.002184  0.218894  Tuesday  \n",
       "\n",
       "[8037 rows x 10 columns]"
      ]
     },
     "execution_count": 22,
     "metadata": {},
     "output_type": "execute_result"
    }
   ],
   "source": [
    "df_new['Weekday']=df_new['Date'].dt.day_name()\n",
    "df_new"
   ]
  },
  {
   "cell_type": "code",
   "execution_count": 23,
   "metadata": {},
   "outputs": [
    {
     "data": {
      "text/plain": [
       "<AxesSubplot:xlabel='Weekday', ylabel='Delta'>"
      ]
     },
     "execution_count": 23,
     "metadata": {},
     "output_type": "execute_result"
    },
    {
     "data": {
      "image/png": "[encoded data removed]",
      "text/plain": [
       "<Figure size 432x288 with 1 Axes>"
      ]
     },
     "metadata": {
      "needs_background": "light"
     },
     "output_type": "display_data"
    }
   ],
   "source": [
    "order=['Monday','Tuesday','Wednesday','Thursday','Friday']\n",
    "sns.boxplot(x=df_new['Weekday'],y=df_new['Delta'],order=order)"
   ]
  },
  {
   "cell_type": "markdown",
   "metadata": {},
   "source": [
    "the highest gap is likely to occur on ----Monday. selling stocks at the opening time of the the day with the highest gap is more profitable"
   ]
  },
  {
   "cell_type": "code",
   "execution_count": 24,
   "metadata": {},
   "outputs": [
    {
     "data": {
      "text/html": [
       "<div>\n",
       "<style scoped>\n",
       "    .dataframe tbody tr th:only-of-type {\n",
       "        vertical-align: middle;\n",
       "    }\n",
       "\n",
       "    .dataframe tbody tr th {\n",
       "        vertical-align: top;\n",
       "    }\n",
       "\n",
       "    .dataframe thead th {\n",
       "        text-align: right;\n",
       "    }\n",
       "</style>\n",
       "<table border=\"1\" class=\"dataframe\">\n",
       "  <thead>\n",
       "    <tr style=\"text-align: right;\">\n",
       "      <th></th>\n",
       "      <th>Date</th>\n",
       "      <th>Close</th>\n",
       "      <th>Open</th>\n",
       "      <th>Low</th>\n",
       "      <th>High</th>\n",
       "      <th>Volume</th>\n",
       "      <th>Daily Lag</th>\n",
       "      <th>Daily Returns</th>\n",
       "      <th>Delta</th>\n",
       "      <th>Weekday</th>\n",
       "      <th>delta_high_low</th>\n",
       "    </tr>\n",
       "  </thead>\n",
       "  <tbody>\n",
       "    <tr>\n",
       "      <th>0</th>\n",
       "      <td>2019-01-28</td>\n",
       "      <td>6.650000</td>\n",
       "      <td>6.650000</td>\n",
       "      <td>6.65</td>\n",
       "      <td>6.650000</td>\n",
       "      <td>0.0</td>\n",
       "      <td>NaN</td>\n",
       "      <td>NaN</td>\n",
       "      <td>NaN</td>\n",
       "      <td>Monday</td>\n",
       "      <td>0.000000</td>\n",
       "    </tr>\n",
       "    <tr>\n",
       "      <th>1</th>\n",
       "      <td>2019-01-28</td>\n",
       "      <td>6.670000</td>\n",
       "      <td>6.650000</td>\n",
       "      <td>6.61</td>\n",
       "      <td>6.680000</td>\n",
       "      <td>0.0</td>\n",
       "      <td>6.650000</td>\n",
       "      <td>-0.002999</td>\n",
       "      <td>0.000000</td>\n",
       "      <td>Monday</td>\n",
       "      <td>1.059002</td>\n",
       "    </tr>\n",
       "    <tr>\n",
       "      <th>2</th>\n",
       "      <td>2019-01-28</td>\n",
       "      <td>6.560900</td>\n",
       "      <td>6.670000</td>\n",
       "      <td>6.56</td>\n",
       "      <td>6.670000</td>\n",
       "      <td>0.0</td>\n",
       "      <td>6.670000</td>\n",
       "      <td>0.016629</td>\n",
       "      <td>0.000000</td>\n",
       "      <td>Monday</td>\n",
       "      <td>1.676829</td>\n",
       "    </tr>\n",
       "    <tr>\n",
       "      <th>3</th>\n",
       "      <td>2019-01-28</td>\n",
       "      <td>6.600000</td>\n",
       "      <td>6.553800</td>\n",
       "      <td>6.48</td>\n",
       "      <td>6.610000</td>\n",
       "      <td>1652448.0</td>\n",
       "      <td>6.560900</td>\n",
       "      <td>-0.005924</td>\n",
       "      <td>-0.108215</td>\n",
       "      <td>Monday</td>\n",
       "      <td>2.006175</td>\n",
       "    </tr>\n",
       "    <tr>\n",
       "      <th>4</th>\n",
       "      <td>2019-01-28</td>\n",
       "      <td>6.550000</td>\n",
       "      <td>6.610000</td>\n",
       "      <td>6.55</td>\n",
       "      <td>6.610000</td>\n",
       "      <td>582031.0</td>\n",
       "      <td>6.600000</td>\n",
       "      <td>0.007634</td>\n",
       "      <td>0.151519</td>\n",
       "      <td>Monday</td>\n",
       "      <td>0.916030</td>\n",
       "    </tr>\n",
       "    <tr>\n",
       "      <th>...</th>\n",
       "      <td>...</td>\n",
       "      <td>...</td>\n",
       "      <td>...</td>\n",
       "      <td>...</td>\n",
       "      <td>...</td>\n",
       "      <td>...</td>\n",
       "      <td>...</td>\n",
       "      <td>...</td>\n",
       "      <td>...</td>\n",
       "      <td>...</td>\n",
       "      <td>...</td>\n",
       "    </tr>\n",
       "    <tr>\n",
       "      <th>8032</th>\n",
       "      <td>2021-01-26</td>\n",
       "      <td>60.140000</td>\n",
       "      <td>59.930000</td>\n",
       "      <td>59.50</td>\n",
       "      <td>60.350000</td>\n",
       "      <td>0.0</td>\n",
       "      <td>59.980000</td>\n",
       "      <td>-0.002660</td>\n",
       "      <td>-0.083361</td>\n",
       "      <td>Tuesday</td>\n",
       "      <td>1.428571</td>\n",
       "    </tr>\n",
       "    <tr>\n",
       "      <th>8033</th>\n",
       "      <td>2021-01-26</td>\n",
       "      <td>60.800000</td>\n",
       "      <td>60.110000</td>\n",
       "      <td>59.75</td>\n",
       "      <td>60.800000</td>\n",
       "      <td>0.0</td>\n",
       "      <td>60.140000</td>\n",
       "      <td>-0.010855</td>\n",
       "      <td>-0.049884</td>\n",
       "      <td>Tuesday</td>\n",
       "      <td>1.757322</td>\n",
       "    </tr>\n",
       "    <tr>\n",
       "      <th>8034</th>\n",
       "      <td>2021-01-26</td>\n",
       "      <td>60.210000</td>\n",
       "      <td>60.810000</td>\n",
       "      <td>60.20</td>\n",
       "      <td>60.810000</td>\n",
       "      <td>0.0</td>\n",
       "      <td>60.800000</td>\n",
       "      <td>0.009799</td>\n",
       "      <td>0.016447</td>\n",
       "      <td>Tuesday</td>\n",
       "      <td>1.013289</td>\n",
       "    </tr>\n",
       "    <tr>\n",
       "      <th>8035</th>\n",
       "      <td>2021-01-26</td>\n",
       "      <td>59.389999</td>\n",
       "      <td>60.130001</td>\n",
       "      <td>59.02</td>\n",
       "      <td>60.669998</td>\n",
       "      <td>19559748.0</td>\n",
       "      <td>60.210000</td>\n",
       "      <td>0.013807</td>\n",
       "      <td>-0.132867</td>\n",
       "      <td>Tuesday</td>\n",
       "      <td>2.795659</td>\n",
       "    </tr>\n",
       "    <tr>\n",
       "      <th>8036</th>\n",
       "      <td>2021-01-26</td>\n",
       "      <td>59.520000</td>\n",
       "      <td>59.520000</td>\n",
       "      <td>59.52</td>\n",
       "      <td>59.520000</td>\n",
       "      <td>0.0</td>\n",
       "      <td>59.389999</td>\n",
       "      <td>-0.002184</td>\n",
       "      <td>0.218894</td>\n",
       "      <td>Tuesday</td>\n",
       "      <td>0.000000</td>\n",
       "    </tr>\n",
       "  </tbody>\n",
       "</table>\n",
       "<p>8037 rows × 11 columns</p>\n",
       "</div>"
      ],
      "text/plain": [
       "           Date      Close       Open    Low       High      Volume  \\\n",
       "0    2019-01-28   6.650000   6.650000   6.65   6.650000         0.0   \n",
       "1    2019-01-28   6.670000   6.650000   6.61   6.680000         0.0   \n",
       "2    2019-01-28   6.560900   6.670000   6.56   6.670000         0.0   \n",
       "3    2019-01-28   6.600000   6.553800   6.48   6.610000   1652448.0   \n",
       "4    2019-01-28   6.550000   6.610000   6.55   6.610000    582031.0   \n",
       "...         ...        ...        ...    ...        ...         ...   \n",
       "8032 2021-01-26  60.140000  59.930000  59.50  60.350000         0.0   \n",
       "8033 2021-01-26  60.800000  60.110000  59.75  60.800000         0.0   \n",
       "8034 2021-01-26  60.210000  60.810000  60.20  60.810000         0.0   \n",
       "8035 2021-01-26  59.389999  60.130001  59.02  60.669998  19559748.0   \n",
       "8036 2021-01-26  59.520000  59.520000  59.52  59.520000         0.0   \n",
       "\n",
       "      Daily Lag  Daily Returns     Delta  Weekday  delta_high_low  \n",
       "0           NaN            NaN       NaN   Monday        0.000000  \n",
       "1      6.650000      -0.002999  0.000000   Monday        1.059002  \n",
       "2      6.670000       0.016629  0.000000   Monday        1.676829  \n",
       "3      6.560900      -0.005924 -0.108215   Monday        2.006175  \n",
       "4      6.600000       0.007634  0.151519   Monday        0.916030  \n",
       "...         ...            ...       ...      ...             ...  \n",
       "8032  59.980000      -0.002660 -0.083361  Tuesday        1.428571  \n",
       "8033  60.140000      -0.010855 -0.049884  Tuesday        1.757322  \n",
       "8034  60.800000       0.009799  0.016447  Tuesday        1.013289  \n",
       "8035  60.210000       0.013807 -0.132867  Tuesday        2.795659  \n",
       "8036  59.389999      -0.002184  0.218894  Tuesday        0.000000  \n",
       "\n",
       "[8037 rows x 11 columns]"
      ]
     },
     "execution_count": 24,
     "metadata": {},
     "output_type": "execute_result"
    }
   ],
   "source": [
    "#calculating the amplitude in the daily stock price between high price and low price in %\n",
    "df_new['delta_high_low']=((df_new['High']-df_new['Low'])/df_new['Low'])*100\n",
    "df_new"
   ]
  },
  {
   "cell_type": "code",
   "execution_count": 25,
   "metadata": {},
   "outputs": [
    {
     "data": {
      "text/plain": [
       "<AxesSubplot:xlabel='Weekday', ylabel='delta_high_low'>"
      ]
     },
     "execution_count": 25,
     "metadata": {},
     "output_type": "execute_result"
    },
    {
     "data": {
      "image/png": "[encoded data removed]",
      "text/plain": [
       "<Figure size 432x288 with 1 Axes>"
      ]
     },
     "metadata": {
      "needs_background": "light"
     },
     "output_type": "display_data"
    }
   ],
   "source": [
    "#plot for Amplitude\n",
    "order=['Monday','Tuesday','Wednesday','Thursday','Friday']\n",
    "#sns.set(rc={'figure.figsize':(11,8)},font_scale=1.5,style=\"whitegrid\")\n",
    "sns.reset_orig\n",
    "sns.boxplot(x=df_new['Weekday'],y=df_new['delta_high_low'],order=order)"
   ]
  },
  {
   "cell_type": "markdown",
   "metadata": {},
   "source": [
    "the above visualisation is to show which day is better for trading based on the price amplitude ."
   ]
  },
  {
   "cell_type": "code",
   "execution_count": 26,
   "metadata": {},
   "outputs": [
    {
     "data": {
      "text/plain": [
       "<AxesSubplot:>"
      ]
     },
     "execution_count": 26,
     "metadata": {},
     "output_type": "execute_result"
    },
    {
     "data": {
      "image/png": "[encoded data removed]",
      "text/plain": [
       "<Figure size 432x288 with 1 Axes>"
      ]
     },
     "metadata": {
      "needs_background": "light"
     },
     "output_type": "display_data"
    }
   ],
   "source": [
    "df_new['Daily Returns'].hist(bins=20)"
   ]
  },
  {
   "cell_type": "code",
   "execution_count": 27,
   "metadata": {},
   "outputs": [
    {
     "name": "stdout",
     "output_type": "stream",
     "text": [
      "mean = 0.0022827670851422095\n",
      "standard deviation = 0.16236856166600444\n"
     ]
    }
   ],
   "source": [
    "#calculating average daily returns\n",
    "mean=df_new['Daily Returns'].mean()\n",
    "std=df_new['Daily Returns'].std()\n",
    "print('mean =',mean)\n",
    "print('standard deviation =',std)"
   ]
  },
  {
   "cell_type": "markdown",
   "metadata": {},
   "source": [
    "having a low standard deviation indicates that investing in this stock(NIO) is less risky i.e chances of having a "
   ]
  },
  {
   "cell_type": "code",
   "execution_count": 28,
   "metadata": {},
   "outputs": [
    {
     "data": {
      "text/plain": [
       "<matplotlib.lines.Line2D at 0x2b0c3893fd0>"
      ]
     },
     "execution_count": 28,
     "metadata": {},
     "output_type": "execute_result"
    },
    {
     "data": {
      "image/png": "[encoded data removed]",
      "text/plain": [
       "<Figure size 432x288 with 1 Axes>"
      ]
     },
     "metadata": {
      "needs_background": "light"
     },
     "output_type": "display_data"
    }
   ],
   "source": [
    "df_new['Daily Returns'].hist(bins=20)\n",
    "plt.axvline(mean,color='red',linestyle='dashed',linewidth=2)\n",
    "plt.axvline(std,color='green',linestyle='dashed',linewidth=2)\n",
    "plt.axvline(-std,color='green',linestyle='dashed',linewidth=2)"
   ]
  },
  {
   "cell_type": "markdown",
   "metadata": {},
   "source": [
    "the above histogram shows a normal distribution with mean 0 "
   ]
  },
  {
   "cell_type": "code",
   "execution_count": 29,
   "metadata": {},
   "outputs": [
    {
     "data": {
      "text/plain": [
       "3905.4567774238512"
      ]
     },
     "execution_count": 29,
     "metadata": {},
     "output_type": "execute_result"
    }
   ],
   "source": [
    "df_new['Daily Returns'].kurtosis()"
   ]
  },
  {
   "cell_type": "markdown",
   "metadata": {},
   "source": [
    "since we have a postive kurtosis, it shows that the chances of having outliers(extreme values) are rare."
   ]
  },
  {
   "cell_type": "code",
   "execution_count": null,
   "metadata": {},
   "outputs": [],
   "source": []
  }
 ],
 "metadata": {
  "kernelspec": {
   "display_name": "Python 3",
   "language": "python",
   "name": "python3"
  },
  "language_info": {
   "codemirror_mode": {
    "name": "ipython",
    "version": 3
   },
   "file_extension": ".py",
   "mimetype": "text/x-python",
   "name": "python",
   "nbconvert_exporter": "python",
   "pygments_lexer": "ipython3",
   "version": "3.8.5"
  }
 },
 "nbformat": 4,
 "nbformat_minor": 4
}
