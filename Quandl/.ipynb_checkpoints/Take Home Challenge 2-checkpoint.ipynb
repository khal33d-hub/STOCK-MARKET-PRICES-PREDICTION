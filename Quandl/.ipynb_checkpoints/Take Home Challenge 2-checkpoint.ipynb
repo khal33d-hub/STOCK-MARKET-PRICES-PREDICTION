{
 "cells": [
  {
   "cell_type": "markdown",
   "metadata": {},
   "source": [
    "## GROUP 3\n",
    "## TA:Percy Mokone"
   ]
  },
  {
   "cell_type": "markdown",
   "metadata": {},
   "source": [
    "#### Question 1\n",
    "\n",
    "Write a function calculating the median without using any external libraries. Include an explanation (in your own words) on what the median is and compare and contrast the median to the mean including an explanation of the limitations of the mean"
   ]
  },
  {
   "cell_type": "code",
   "execution_count": 1,
   "metadata": {
    "scrolled": true
   },
   "outputs": [
    {
     "name": "stdout",
     "output_type": "stream",
     "text": [
      "8.5\n"
     ]
    }
   ],
   "source": [
    "num=[1,2,3,4,5,8,9,6,9,10,11,34,25,26]\n",
    "n=len(num)\n",
    "num.sort()\n",
    "if n%2==0:\n",
    "    mid_value1=num[n//2]\n",
    "    mid_value2=num[(n//2)-1]\n",
    "    median=(mid_value1+mid_value2)/2\n",
    "else:\n",
    "    median=num[n//2]\n",
    "print(median)\n",
    "\n"
   ]
  },
  {
   "cell_type": "markdown",
   "metadata": {},
   "source": [
    "* Median refers to the middle value in a group of ordered values while the mean is the average of a set of numbers.\n",
    "* The mean is limited in the sense that we can't derive the mean for a categorical data as the values cannot be summed.\n",
    "* outliers have a great influence on the mean since the mean is calculated from all values in a dataset.Hence cannot give a accurate value when analyzing data.whereas,outliers have very little effect on the median. "
   ]
  },
  {
   "cell_type": "markdown",
   "metadata": {},
   "source": [
    "#### Question 2 \n",
    "\n",
    "Write a function calculating the mean without using any external libraries. Include an explanation (in your own words) of what the mean"
   ]
  },
  {
   "cell_type": "code",
   "execution_count": 2,
   "metadata": {},
   "outputs": [
    {
     "data": {
      "text/plain": [
       "274.5"
      ]
     },
     "execution_count": 2,
     "metadata": {},
     "output_type": "execute_result"
    }
   ],
   "source": [
    "a= [i for i in range(200,350)]\n",
    "def mean():\n",
    "    y= sum(a)/len(a)\n",
    "    return y\n",
    "mean()"
   ]
  },
  {
   "cell_type": "markdown",
   "metadata": {},
   "source": [
    "* The mean is the average of a set of numeric values\n",
    "* It is calculated by taking the sum of all values in an observation and dividing it by the number of values in the observation"
   ]
  },
  {
   "cell_type": "markdown",
   "metadata": {},
   "source": [
    "#### Question 3 \n",
    "\n",
    "Write a function calculating the standard deviation without using any external libraries. Include an explanation (in your own words) of the standard deviation is and explain the difference between standard deviation and variance"
   ]
  },
  {
   "cell_type": "code",
   "execution_count": 3,
   "metadata": {},
   "outputs": [
    {
     "data": {
      "text/plain": [
       "28.577380332470412"
      ]
     },
     "execution_count": 3,
     "metadata": {},
     "output_type": "execute_result"
    }
   ],
   "source": [
    "a= [i for i in range(1,100)]\n",
    "mean=sum(a)/len(a)\n",
    "def standard_deviation():\n",
    "    b=[(i-mean)**2 for i in a]\n",
    "    variance=sum(b)/(len(a))    \n",
    "    std=(variance)**(1/2)\n",
    "    return std\n",
    "\n",
    "standard_deviation()"
   ]
  },
  {
   "cell_type": "markdown",
   "metadata": {},
   "source": [
    "* standard deviation is a measure of variation or dispersion of a set of numeric data.By taking the square root of variance,one can derive the standard deviation of a set of numeric data.\n",
    "* Variance on the other hand is a measure of variation or dispersion of a set of numeric data from its mean(average).\n",
    "* For an observation,standard deviations are expressed in the same unit as the units of the observation while variance are expressed in the square of the units"
   ]
  },
  {
   "cell_type": "markdown",
   "metadata": {},
   "source": [
    "#### Question 4\n",
    "\n",
    "Using the functions you create calculate the median, mean and standard deviation of the df['price'] column. Is the mean and median different, if so why? Additionally what does the standard deviation tell us about our dataset?\n",
    "\n",
    "Note: This is a dataset of rental prices on Airbnb for Sao Paolo in 2017"
   ]
  },
  {
   "cell_type": "code",
   "execution_count": 2,
   "metadata": {},
   "outputs": [
    {
     "data": {
      "text/plain": [
       "0         47.0\n",
       "1         21.0\n",
       "2        311.0\n",
       "3        389.0\n",
       "4        311.0\n",
       "         ...  \n",
       "11113     19.0\n",
       "11114     19.0\n",
       "11115     19.0\n",
       "11116     12.0\n",
       "11117     19.0\n",
       "Name: price, Length: 11118, dtype: float64"
      ]
     },
     "execution_count": 2,
     "metadata": {},
     "output_type": "execute_result"
    }
   ],
   "source": [
    "import pandas as pd\n",
    "df = pd.read_csv('airbnb_saopaolo.csv')\n",
    "df['price']\n",
    "#run the column df['price'] through your function"
   ]
  },
  {
   "cell_type": "code",
   "execution_count": 3,
   "metadata": {},
   "outputs": [
    {
     "data": {
      "text/plain": [
       "84.02761288001439"
      ]
     },
     "execution_count": 3,
     "metadata": {},
     "output_type": "execute_result"
    }
   ],
   "source": [
    "def my_mean(price):\n",
    "    sum_list = sum(price) #total sum of prices\n",
    "    len_list = len(price) #count of prices\n",
    "    mean = sum_list/len_list\n",
    "    \n",
    "    return mean\n",
    "my_mean(df['price'])\n"
   ]
  },
  {
   "cell_type": "code",
   "execution_count": 4,
   "metadata": {},
   "outputs": [
    {
     "name": "stdout",
     "output_type": "stream",
     "text": [
      "43.0\n"
     ]
    }
   ],
   "source": [
    "def median(price):\n",
    "    if type(price) == list:\n",
    "        price.sort()\n",
    "    else:\n",
    "        price = price.sort_values(ignore_index = True)\n",
    "    if len(price)%2 !=0:\n",
    "        value = len(price)//2\n",
    "        median = price[value]\n",
    "    else:\n",
    "        right = len(price)//2\n",
    "        left = right - 1\n",
    "        median = (price[left] + price[right])/2\n",
    "    return median\n",
    "print(median(df['price']))\n"
   ]
  },
  {
   "cell_type": "code",
   "execution_count": 5,
   "metadata": {},
   "outputs": [
    {
     "name": "stdout",
     "output_type": "stream",
     "text": [
      "223.38239740062943\n"
     ]
    }
   ],
   "source": [
    "def my_std(price):\n",
    "    std_list = []\n",
    "    mean = my_mean(price)\n",
    "    for i in price:\n",
    "        value = i-mean\n",
    "        value = value**2\n",
    "        std_list.append(value)\n",
    "    \n",
    "    variance = sum(std_list)/(len(std_list)-1)\n",
    "    std = variance**0.5\n",
    "    return std\n",
    "print(my_std(df['price']))\n"
   ]
  },
  {
   "cell_type": "markdown",
   "metadata": {},
   "source": [
    "* The mean and median are different because the mean shows the average value of the total prices\n",
    "while median shows the middle value of the prices.\n",
    "* The standard deviation in this data set shows dispersion from the mean.\n",
    "From the value of our standard deviation, it shows the prices are dispersed."
   ]
  },
  {
   "cell_type": "markdown",
   "metadata": {},
   "source": [
    "#### Question 5\n",
    "\n",
    "Create a visualization showing the skewness of rental prices in Sao Paolo on Airbnb. Explain what you observe from this visualization?"
   ]
  },
  {
   "cell_type": "code",
   "execution_count": 8,
   "metadata": {},
   "outputs": [
    {
     "data": {
      "text/plain": [
       "<matplotlib.axes._subplots.AxesSubplot at 0x23fa4107490>"
      ]
     },
     "execution_count": 8,
     "metadata": {},
     "output_type": "execute_result"
    },
    {
     "data": {
      "image/png": "[encoded data removed]",
      "text/plain": [
       "<Figure size 432x288 with 1 Axes>"
      ]
     },
     "metadata": {
      "needs_background": "light"
     },
     "output_type": "display_data"
    }
   ],
   "source": [
    "import seaborn as sns\n",
    "sns.boxplot(df['price'])"
   ]
  },
  {
   "cell_type": "markdown",
   "metadata": {},
   "source": [
    "### from the above visualisation we can deduce that the data(price) is skewed right(positive)."
   ]
  },
  {
   "cell_type": "markdown",
   "metadata": {},
   "source": [
    "#### Question 6\n",
    "\n",
    "Create a scatterplot comparing the price to the number of bedrooms in our dataset. Explain your observation?"
   ]
  },
  {
   "cell_type": "code",
   "execution_count": 9,
   "metadata": {},
   "outputs": [
    {
     "data": {
      "text/plain": [
       "<matplotlib.collections.PathCollection at 0x23fa4893850>"
      ]
     },
     "execution_count": 9,
     "metadata": {},
     "output_type": "execute_result"
    },
    {
     "data": {
      "image/png": "[encoded data removed]",
      "text/plain": [
       "<Figure size 432x288 with 1 Axes>"
      ]
     },
     "metadata": {
      "needs_background": "light"
     },
     "output_type": "display_data"
    }
   ],
   "source": [
    "%matplotlib inline\n",
    "import matplotlib.pyplot as plt\n",
    "plt.title('price vs bedrooms')\n",
    "plt.xlabel('price')\n",
    "plt.ylabel('bedrooms')\n",
    "plt.scatter(x='price', y='bedrooms', data=df)"
   ]
  },
  {
   "cell_type": "raw",
   "metadata": {},
   "source": [
    "There is no correlation between the price and number of bedrooms."
   ]
  },
  {
   "cell_type": "markdown",
   "metadata": {},
   "source": [
    "1. SciPy: https://docs.scipy.org/doc/scipy/reference/stats.html\n",
    "2. More on SciPy: https://docs.scipy.org/doc/scipy/reference/tutorial/stats.html\n",
    "\n",
    "You will need to go through the above documentation to gain a better understanding of the scipy package and how you can use this package to calculate different types of distribution probabilities"
   ]
  },
  {
   "cell_type": "markdown",
   "metadata": {},
   "source": [
    "#### Question 7 \n",
    "\n",
    "Identify the type of distribution plotted below. Explain why you chose this distribution?"
   ]
  },
  {
   "cell_type": "code",
   "execution_count": 10,
   "metadata": {},
   "outputs": [
    {
     "data": {
      "image/png": "[encoded data removed]",
      "text/plain": [
       "<Figure size 432x288 with 1 Axes>"
      ]
     },
     "metadata": {
      "needs_background": "light"
     },
     "output_type": "display_data"
    }
   ],
   "source": [
    "import numpy as np\n",
    "import matplotlib.pyplot as plt\n",
    "\n",
    "class norm1:\n",
    "    def __init__(self, a1, b1, c1):\n",
    "        self.a1 = a1\n",
    "        self.b1 = b1\n",
    "        self.c1 = c1\n",
    "        \n",
    "    def dist_curve(self):\n",
    "        plt.plot(self.c1, 1/(self.b1 * np.sqrt(2 * np.pi)) *\n",
    "            np.exp( - (self.c1 - self.a1)**2 / (2 * self.b1**2) ), linewidth=2, color='y')\n",
    "        plt.show()\n",
    "\n",
    "#Vary the mean and SD to generate different plots\n",
    "mean1 = 2 \n",
    "sd1 = 1\n",
    "\n",
    "c = np.random.normal(mean1, sd1, 3000)\n",
    "        \n",
    "w1, x1, z1 = plt.hist(c, 100) #hist\n",
    "\n",
    "hist1 = norm1(mean1, sd1, x1)\n",
    "plot1 = hist1.dist_curve()"
   ]
  },
  {
   "cell_type": "raw",
   "metadata": {},
   "source": [
    "# the distribution plotted above is a normal distribution.\n",
    "# it has a bell shape\n",
    "# the mean and median are equal with value 2\n"
   ]
  },
  {
   "cell_type": "markdown",
   "metadata": {},
   "source": [
    "#### Question 8\n",
    "A hospital in Nairobi has records showing that of all patients suffering from a certain diseases 75% will die of it. What is the probability that of 20 randomly selected patients exactly 15 will recover? In your answer include the type of distribution\n",
    "\n",
    "- Write 2 versions of this answer; i.) calculating the probability from scratch, calculating the probability using the scipy package"
   ]
  },
  {
   "cell_type": "markdown",
   "metadata": {},
   "source": [
    "### SOLUTION\n",
    "* Let X= no of patients who recover ranging from 0 to 20\n",
    "* the ratio of death to recovery is 75:25 = 3:1\n",
    "* this implies the probabilty of death=3/4 and\n",
    "* the probability of recovery= 1/4.\n",
    "* the probabiltiy that exactly 15 will recover P{X=15} = b(x=15;n=20,p=1/4) is calculated below\n",
    "\n",
    "* The type of distribution considered here is BINOMIAL DISTRIBUTION where number of trials=20.\n"
   ]
  },
  {
   "cell_type": "code",
   "execution_count": 11,
   "metadata": {},
   "outputs": [
    {
     "data": {
      "text/plain": [
       "3.4264958230778575e-06"
      ]
     },
     "execution_count": 11,
     "metadata": {},
     "output_type": "execute_result"
    }
   ],
   "source": [
    "#b(x=15;n=20,p=1/4)=(n!/[x!(n-x)!])*p**(15)q**(20-15)\n",
    "n= 20\n",
    "p=1/4 #probability of recovery\n",
    "q=3/4 #probability of death\n",
    "x=15  #no of patients who recovered \n",
    "\n",
    "def factorial(n):\n",
    "    if n==0:\n",
    "        return 1\n",
    "    else:\n",
    "        return n*factorial(n-1)\n",
    "\n",
    "def probability(x):\n",
    "        return (p**15)*(q**5)*factorial(20)/(factorial(15)*factorial(5))\n",
    "probability(15)\n",
    "\n",
    "        \n",
    "\n",
    "\n"
   ]
  },
  {
   "cell_type": "code",
   "execution_count": 12,
   "metadata": {},
   "outputs": [
    {
     "data": {
      "text/plain": [
       "3.4264958230778435e-06"
      ]
     },
     "execution_count": 12,
     "metadata": {},
     "output_type": "execute_result"
    }
   ],
   "source": [
    "from scipy.stats import binom\n",
    "#generate an array of 20 values that follow a binomial distribution\n",
    "#where each number represents the number of recoveries\n",
    "data_binom = binom.rvs(n=20,p=0.25,size=20)\n",
    "#calculate binomial probability using binom.pmf(probability mass function)\n",
    "binom.pmf(k=15,n=20,p=0.25)"
   ]
  },
  {
   "cell_type": "markdown",
   "metadata": {},
   "source": [
    "### The probability that exactly 15 people will recover is 3.42*10**(-6)"
   ]
  },
  {
   "cell_type": "markdown",
   "metadata": {},
   "source": [
    "#### Question 9\n",
    "Universities in Harare have historically closed by 10 days every quarter because of protests. What is the probability that universities in Harare will close for 11 days within the next quarter?\n",
    "\n",
    "- Identify the type of probability distribution\n",
    "- Using this knowledge calculate the probability of said event; firstly by creating a function from scratch calculating said probability and then use scipy to calculate the probability\n"
   ]
  },
  {
   "cell_type": "markdown",
   "metadata": {},
   "source": [
    "### The distibution considered here is a POISSON DISTRIBUTION"
   ]
  },
  {
   "cell_type": "code",
   "execution_count": 13,
   "metadata": {},
   "outputs": [
    {
     "data": {
      "text/plain": [
       "0.11373716116365404"
      ]
     },
     "execution_count": 13,
     "metadata": {},
     "output_type": "execute_result"
    }
   ],
   "source": [
    "#p(k)=e^(-lambda)*lambda^k/(k!) where k=x\n",
    "e=2.71828 #Euler's number\n",
    "lamda=10 #(historical data implying event rate )\n",
    "x=11 #solving for the prob.that school will close for 11 days come next quarter\n",
    "\n",
    "def factorial(x):\n",
    "    if x==0:\n",
    "        return 1\n",
    "    else:\n",
    "        return x*factorial(x-1)\n",
    "def probability():\n",
    "    return e**(-lamda)*lamda**(x)/factorial(x)\n",
    "probability()"
   ]
  },
  {
   "cell_type": "code",
   "execution_count": 14,
   "metadata": {},
   "outputs": [
    {
     "data": {
      "text/plain": [
       "0.11373639611012128"
      ]
     },
     "execution_count": 14,
     "metadata": {},
     "output_type": "execute_result"
    }
   ],
   "source": [
    "from scipy.stats import poisson\n",
    "#to calculate x=11\n",
    "poisson.pmf(11,10)"
   ]
  },
  {
   "cell_type": "markdown",
   "metadata": {},
   "source": [
    "### The probability that universities in Harare will close for 11 days within the next quarter is 0.11(to 2d.p)"
   ]
  },
  {
   "cell_type": "markdown",
   "metadata": {},
   "source": [
    "#### Question 10\n",
    "\n",
    "In your own words what is the difference between a Binomial and Bernoulli Distribution. Please give 2 practical examples of both"
   ]
  },
  {
   "cell_type": "markdown",
   "metadata": {},
   "source": [
    "### BINOMIAL DISTRIBUTION\n",
    "A binomial distribution involves a random experiment which consist of n-independent trial(i.e a finite number of trials that are independent of one another) with only two possible outcomes namely; true or false, success or failure,head or tail,boy or girl.here the probability of success and probability of failure sum up to 1.\n",
    "- An example of binomial distribution is a multiple coin toss.\n",
    "\n",
    "### BERNOULLI DISTRIBUTION\n",
    "A bernoulli distribution on the other hand involves a random experiment which consist of a SINGLE trial with only two possible outcomes.\n",
    "- An example is a single coin toss.\n",
    "\n",
    "Also,a Bernoulli random variable has two possible outcomes: 0 or 1. A binomial distribution is the sum of independent and identically distributed Bernoulli random variables.\n",
    "\n",
    "> So, for example, say I have a coin, and, when tossed, the probability it lands heads is p. So the probability that it lands tails is 1−p (there are no other possible outcomes for the coin toss). If the coin lands heads, you win one dollar. If the coin lands tails, you win nothing.\n",
    "\n",
    "> For a single coin toss, the probability you win one dollar is p. The random variable that represents your winnings after one coin toss is a Bernoulli random variable.\n",
    "\n",
    "> Now, if you toss the coin 5 times, your winnings could be any whole number of dollars from zero dollars to five dollars, inclusive. The probability that you win five dollars is p5, because each coin toss is independent of the others, and for each coin toss the probability of heads is p.\n",
    "\n"
   ]
  },
  {
   "cell_type": "markdown",
   "metadata": {},
   "source": [
    "#### Question 11\n",
    "\n",
    "What do you understand about a cumulative distribution function?"
   ]
  },
  {
   "cell_type": "markdown",
   "metadata": {
    "collapsed": true
   },
   "source": [
    "### CUMULATIVE DISTRIBUTION\n",
    "A cumulative distribution function indicates the probability that a random variable X \n",
    "will take a value less than or equal to a value on the positive real line (x).\n",
    "it is written as F(x)=P{X<=x}."
   ]
  },
  {
   "cell_type": "markdown",
   "metadata": {},
   "source": [
    "#### Question 12\n",
    "\n",
    "What do you understand about a probability distribution function?"
   ]
  },
  {
   "cell_type": "markdown",
   "metadata": {
    "collapsed": true
   },
   "source": [
    "### PROBABILITY DISTRIBUTION\n",
    "A probability distribution function describes the possible values that a random variable will assume within a given range."
   ]
  },
  {
   "cell_type": "markdown",
   "metadata": {},
   "source": [
    "#### Additional Reading\n",
    "1. Probability Concepts Explained: https://towardsdatascience.com/probability-concepts-explained-probability-distributions-introduction-part-3-4a5db81858dc\n",
    "2. More on Probability Distributions: https://www.kdnuggets.com/2020/02/probability-distributions-data-science.html\n",
    "3. 5 Probability Distributions Every Data Scientist should know: https://www.kdnuggets.com/2019/07/5-probability-distributions-every-data-scientist-should-know.html\n",
    "4. Probability Density Function: https://www.youtube.com/watch?v=Fvi9A_tEmXQ\n",
    "5. Cumulative Distribution Function: https://www.youtube.com/watch?v=bGS19PxlGC4"
   ]
  }
 ],
 "metadata": {
  "kernelspec": {
   "display_name": "Python 3",
   "language": "python",
   "name": "python3"
  },
  "language_info": {
   "codemirror_mode": {
    "name": "ipython",
    "version": 3
   },
   "file_extension": ".py",
   "mimetype": "text/x-python",
   "name": "python",
   "nbconvert_exporter": "python",
   "pygments_lexer": "ipython3",
   "version": "3.7.6"
  }
 },
 "nbformat": 4,
 "nbformat_minor": 4
}
