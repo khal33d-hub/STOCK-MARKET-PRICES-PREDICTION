{
 "cells": [
  {
   "cell_type": "markdown",
   "metadata": {},
   "source": [
    "# PROJECT NAME: STOCK MARKET PRICES PREDICTION\n",
    "\n",
    "## TEAM NAME: GROUP 3\n",
    "\n",
    "## TA: PERCY\n",
    "\n",
    "## GROUP MEMBERS: \n",
    "### 1. Ayobami Adeniyi\n",
    "### 2. Ayodeji Anibaba\n",
    "### 3. Chisom Eluwa\n",
    "### 4. Khaleed Oyeleke\n",
    "### 5. Ronke Akinmosin\n",
    "### 6. Umar Idris"
   ]
  },
  {
   "cell_type": "markdown",
   "metadata": {},
   "source": [
    "# Table of Contents\n",
    "### [1. Introduction](#intro)\n",
    "    1.1. Project overview\n",
    "\n",
    "    1.2. Project statement\n",
    "### [2. Import packages and modules](#import)\n",
    "### [3. Data collection](#Webscraping)\n",
    "\n",
    "### [4. Load data](#load)\n",
    "### [5. Data description](#dd)\n",
    "### [6. Data cleaning](#cleaning)\n",
    "    6.1. Missing values imputation\n",
    "\n",
    "    6.2. Remove duplicates\n",
    "### [7. Exploratory Data Analysis](#eda)\n",
    "\n",
    "### [8. Modelling](#pp)\n",
    "\n",
    "\n",
    "### [9. Conclusion](#conc)"
   ]
  },
  {
   "cell_type": "raw",
   "metadata": {},
   "source": []
  },
  {
   "cell_type": "markdown",
   "metadata": {},
   "source": [
    "# [1. Introduction](#intro)\n",
    "---\n",
    "\n",
    "**Project overview**\n",
    "---\n",
    "**The rewards the stock market brings to investors who know how to read it right are enormous while its penalties can be grievous to those who are ignorant, careless or unlucky. Nevertheless, investors are faced with the problem of knowing the right stock to buy and when to buy it. As a result, two different methods have been provided to address these problems. They are Fundamental analysis and Technical analysis.\n",
    "The fundamental analysis method involves examining auditor’s reports, balance sheets, profit and loss statements, dividend records, companies’ policies, and so on to determine what stock is worth buying or selling.\n",
    "The technical analysis method involves visualisation (mostly graphical representation) of the stocks trading history like price changes, volume of transaction, etc to determine the trend of the stocks and then making predictions on the future of the stocks based on insights drawn from the visualisation.\n",
    "The method to be used in this project is Technical Analysis.**\n",
    "\n",
    "**Problem Statement**\n",
    "---\n",
    "**Being able to tell what stock to buy and when to buy it is quite a challenge for investors as buying the right stock at the wrong time can lead to great loss and buying at the right time can yield great reward.\n",
    "In order to help investors make the right decisions, we start by taking a technical analysis of the stock market where we check historical performances and patterns of the stock and then make accurate deductions on how the stock will perform in the future. This will then help investors make informed decisions.This will be achieved using python and several machine learning models for predictions.**"
   ]
  },
  {
   "cell_type": "markdown",
   "metadata": {},
   "source": [
    "# [2. Import packages and modules](#import)"
   ]
  },
  {
   "cell_type": "code",
   "execution_count": null,
   "metadata": {},
   "outputs": [],
   "source": [
    "installing plotly package\n",
    "#conda install -c plotly plotly==4.1.0"
   ]
  },
  {
   "cell_type": "code",
   "execution_count": null,
   "metadata": {},
   "outputs": [],
   "source": [
    "import matplotlib.pyplot as plt\n",
    "import pandas as pd\n",
    "import seaborn as sns\n",
    "import numpy as np\n",
    "import mplfinance as fplt\n",
    "import requests\n",
    "import json\n",
    "import plotly.graph_objects as go\n",
    "from datetime import datetime\n",
    "%matplotlib notebook"
   ]
  },
  {
   "cell_type": "markdown",
   "metadata": {},
   "source": [
    "# [3. Data collection](#Webscraping)"
   ]
  },
  {
   "cell_type": "code",
   "execution_count": null,
   "metadata": {},
   "outputs": [],
   "source": [
    "#retrieving nio stock data from yahoo finance through API\n",
    "url = \"https://apidojo-yahoo-finance-v1.p.rapidapi.com/stock/v2/get-chart\"\n",
    "querystring = {\"interval\":\"1d\",\"symbol\":\"NIO\",\"range\":\"10y\",\"region\":\"US\"}\n",
    "headers = {\n",
    "    'x-rapidapi-key': \"243ef897b3msh844988ee7a01b7fp192ddajsnbd64c87292e2\",\n",
    "    'x-rapidapi-host': \"apidojo-yahoo-finance-v1.p.rapidapi.com\"\n",
    "    }\n",
    "\n",
    "# Using the request library to fetch data and assign the response to response string\n",
    "response = requests.request(\"GET\", url, headers=headers, params=querystring)"
   ]
  },
  {
   "cell_type": "code",
   "execution_count": null,
   "metadata": {},
   "outputs": [],
   "source": [
    "# let us visualize our data in a more pythonic by way using the JSON conversion\n",
    "def print_json(response):\n",
    "    \n",
    "    \"\"\" This fumction prints out the output data(in JSON format) we got from the URL through request library\"\"\"\n",
    "    \n",
    "    word = json.dumps(response, sort_keys=True, indent=4)\n",
    "    \n",
    "    print(word)\n",
    "\n",
    "    \n",
    "print_json(response.json())  "
   ]
  },
  {
   "cell_type": "code",
   "execution_count": null,
   "metadata": {},
   "outputs": [],
   "source": [
    "# Now we need to save this URL reponse on our local machine in pandas DataFrame format\n",
    "# Firstly we assing our json response to a new string called data\n",
    "data=response.json()"
   ]
  },
  {
   "cell_type": "code",
   "execution_count": null,
   "metadata": {},
   "outputs": [],
   "source": [
    "# we unpack the collection of data to select each column data\n",
    "timestam = data[\"chart\"][\"result\"][0][\"timestamp\"]\n",
    "Clos = data[\"chart\"][\"result\"][0][\"indicators\"][\"quote\"][0][\"close\"]\n",
    "Ope = data[\"chart\"][\"result\"][0][\"indicators\"][\"quote\"][0][\"open\"]\n",
    "lo = data[\"chart\"][\"result\"][0][\"indicators\"][\"quote\"][0][\"low\"]\n",
    "hig = data[\"chart\"][\"result\"][0][\"indicators\"][\"quote\"][0][\"high\"]\n",
    "Volum = data[\"chart\"][\"result\"][0][\"indicators\"][\"quote\"][0][\"volume\"]\n",
    "AdjClos = data[\"chart\"][\"result\"][0][\"indicators\"][\"adjclose\"][0]['adjclose']"
   ]
  },
  {
   "cell_type": "code",
   "execution_count": null,
   "metadata": {},
   "outputs": [],
   "source": [
    "# we convert all columns to a format pandas dataframe can work it which is a dictionaries of lists\n",
    "dict_of_lists = {\"timestamp\":timestam,\n",
    "                \"Close\":Clos,\n",
    "                \"Open\":Ope,\n",
    "                \"Low\":lo,\n",
    "                \"High\":hig,\n",
    "                \"Volume\":Volum,\n",
    "                  \"AdjClose\":AdjClos }"
   ]
  },
  {
   "cell_type": "code",
   "execution_count": null,
   "metadata": {},
   "outputs": [],
   "source": [
    "# we call pandas to convert it to a DataFrame\n",
    "Nio_df = pd.DataFrame(dict_of_lists)\n",
    "\n",
    "# we visualize first three rows in the Dataframe\n",
    "Nio_df.head(3)"
   ]
  },
  {
   "cell_type": "code",
   "execution_count": null,
   "metadata": {},
   "outputs": [],
   "source": [
    "# we convert the timestamp column from timestamp format to datetime format\n",
    "Nio_df['timestamp'] = Nio_df['timestamp'].apply(lambda x: datetime.fromtimestamp(x))\n",
    "Nio_df['timestamp'] = Nio_df['timestamp'].dt.strftime('%Y-%m-%d')"
   ]
  },
  {
   "cell_type": "code",
   "execution_count": null,
   "metadata": {},
   "outputs": [],
   "source": [
    "# we visualize first three rows in the Dataframe\n",
    "Nio_df.head(3)"
   ]
  },
  {
   "cell_type": "code",
   "execution_count": null,
   "metadata": {},
   "outputs": [],
   "source": [
    "# we use pandas to save the Nio_df to our local machine as an csv file\n",
    "Nio_df.to_csv(\"NIO_STOCK_DATA_10yrs.csv\")"
   ]
  },
  {
   "cell_type": "code",
   "execution_count": null,
   "metadata": {},
   "outputs": [],
   "source": [
    "# we read the \"NIO_STOCK_DATA_10yrs.csv\" from our local machine to our python terminal\n",
    "NIO_2yrs = pd.read_csv(\"NIO_STOCK_DATA_10yrs.csv\", index_col=0)\n",
    "\n",
    "# we convert our timestamp column to datetime format\n",
    "NIO_2yrs['timestamp']=pd.to_datetime(NIO_2yrs['timestamp'])\n",
    "\n",
    "# we create a new column 'date' and assign the same data in timestamp column\n",
    "NIO_2yrs[\"Date\"] = NIO_2yrs[\"timestamp\"]"
   ]
  },
  {
   "cell_type": "code",
   "execution_count": null,
   "metadata": {},
   "outputs": [],
   "source": [
    "#creating a column for weekdays before setting timestamp as index and also creating a column indicating the week number e.g week 1\n",
    "NIO_2yrs['Weekday']=NIO_2yrs['timestamp'].dt.day_name()\n",
    "NIO_2yrs"
   ]
  },
  {
   "cell_type": "code",
   "execution_count": null,
   "metadata": {},
   "outputs": [],
   "source": [
    "#setting time stamp as index so as to use datetime slicing \n",
    "NIO_2yrs = NIO_2yrs.set_index(\"timestamp\")"
   ]
  },
  {
   "cell_type": "code",
   "execution_count": null,
   "metadata": {},
   "outputs": [],
   "source": [
    "#inspecting dataframe\n",
    "NIO_2yrs.head()"
   ]
  },
  {
   "cell_type": "markdown",
   "metadata": {},
   "source": [
    "# [5. Data description](#dd)\n",
    "This dataset consists of 2 years data of NIO stock Timestamp, Close prices, Open prices, Low prices, High prices, Volume and AdjClose prices respectively.Stock market opens on weekdays only this does not include public holidays like martin luther king day . This data is available for public usage and research for free"
   ]
  },
  {
   "cell_type": "markdown",
   "metadata": {},
   "source": [
    "- **Timestamp - This is the respective dates for each market day**\n",
    "\n",
    "- **Open prices - This is the opeing price for each market day**\n",
    "\n",
    "- **Close prices - This is the closing price for each market day**\n",
    "\n",
    "- **Low prices- This is the lowest the price reached for each market day**\n",
    "\n",
    "- **High prices - This is the highest the price reached for each market day**\n",
    "\n",
    "- **Volume - This is the quantity of stocks sold and bought that day**\n",
    "\n",
    "- **Adjusted Closing Price - The adjusted closing price amends a stock's closing price to reflect that stock's value after accounting for any corporate actions. Corporate actions occurs during the period between the market closing and opening the next day**\n",
    "\n",
    "\n",
    "### Source of data:\n",
    "The data for this stock is maintained on yahoo finance API."
   ]
  },
  {
   "cell_type": "markdown",
   "metadata": {},
   "source": [
    "# [6. Data cleaning](#cleaning)"
   ]
  },
  {
   "cell_type": "code",
   "execution_count": null,
   "metadata": {},
   "outputs": [],
   "source": [
    "#getting a concise summary of the dataframe\n",
    "NIO_2yrs.info()"
   ]
  },
  {
   "cell_type": "code",
   "execution_count": null,
   "metadata": {},
   "outputs": [],
   "source": [
    "#statistical summary of the data\n",
    "NIO_2yrs.describe()"
   ]
  },
  {
   "cell_type": "code",
   "execution_count": null,
   "metadata": {},
   "outputs": [],
   "source": [
    "#taking the aggregate of missing values\n",
    "NIO_2yrs.isna().sum()"
   ]
  },
  {
   "cell_type": "markdown",
   "metadata": {},
   "source": [
    "**We can see that we have no null column row we can now go ahead with the EDA of this data, because this data is in no much need of cleaning**"
   ]
  },
  {
   "cell_type": "markdown",
   "metadata": {},
   "source": [
    "# [7. Exploratory Data Analysis](#eda)"
   ]
  },
  {
   "cell_type": "markdown",
   "metadata": {},
   "source": [
    "## INTERACTIVE VISUALIZATION FOR YEARLY VIEW"
   ]
  },
  {
   "cell_type": "code",
   "execution_count": null,
   "metadata": {},
   "outputs": [],
   "source": []
  },
  {
   "cell_type": "code",
   "execution_count": null,
   "metadata": {},
   "outputs": [],
   "source": [
    "figure_1 = go.Figure(\n",
    "        data=[\n",
    "            go.Candlestick(\n",
    "            x = a.index,\n",
    "            low = a['Low'],\n",
    "            high = a['High'],\n",
    "            open = a['Open'],\n",
    "            close = a['Close'],\n",
    "            increasing_line_color='green',\n",
    "            decreasing_line_color='red'\n",
    "            )\n",
    "        ]\n",
    ")\n",
    "figure_1.update_layout(\n",
    "    title='2018(Sep-Dec)',\n",
    "    yaxis_title='NIO Stock',\n",
    "    xaxis_title='Year 2018 to 2021',\n",
    "    shapes = [dict(\n",
    "        x0='2020-08-03', x1='2020-08-03', y0=0, y1=1, xref='x', yref='paper',\n",
    "        line_width=2)],\n",
    "    annotations=[dict(\n",
    "        x='2020-08-03', y=0.05, xref='x', yref='paper',\n",
    "        showarrow=False, xanchor='left', text='Increase Period Begins')]\n",
    ")\n",
    "\n",
    "figure_1.show()"
   ]
  },
  {
   "cell_type": "markdown",
   "metadata": {},
   "source": [
    "**NIO Limited designs, manufactures, and sells electric vehicles in the People's Republic of China, Hong Kong, the United States, the United Kingdom, and Germany. They released their initial public offering (IPO) and started trading in open market in September 2018. They started selling at 6.00$.** **There was a rapid increase in the buying rate(volume) of NIO stocks from second half of 2020 which brought about an increase in growth of the stock price till date**"
   ]
  },
  {
   "cell_type": "markdown",
   "metadata": {},
   "source": [
    "##  First half and Second Half Overview\n",
    "**Lets visualize the First and Second halves of each year with interactive candle plots to determine**\n",
    "- The first open price and last close price\n",
    "- To determine whether the stock was bullish(gained) or bearish(dipped)\n",
    "- The peak High and Low price"
   ]
  },
  {
   "cell_type": "code",
   "execution_count": null,
   "metadata": {},
   "outputs": [],
   "source": [
    "# Defining our periods for index slicing\n",
    "First_H = NIO_2yrs[\"2018\":\"2018\"]\n",
    "Second_H = NIO_2yrs[\"2019-1\":\"2019-6\"]\n",
    "Third_H = NIO_2yrs[\"2019-7\":\"2019\"]\n",
    "Fourth_H = NIO_2yrs[\"2020-1\":\"2020-6\"]\n",
    "Fifth_H = NIO_2yrs[\"2020-7\":\"2020\"]\n",
    "Sixth_H = NIO_2yrs[\"2021\":\"2021\"]"
   ]
  },
  {
   "cell_type": "markdown",
   "metadata": {},
   "source": [
    "## Year 2018 second Half"
   ]
  },
  {
   "cell_type": "code",
   "execution_count": null,
   "metadata": {},
   "outputs": [],
   "source": [
    "figure_2 = go.Figure(\n",
    "        data=[\n",
    "            go.Candlestick(\n",
    "            x = First_H.index,\n",
    "            low = First_H['Low'],\n",
    "            high = First_H['High'],\n",
    "            open = First_H['Open'],\n",
    "            close = First_H['Close'],\n",
    "            \n",
    "            increasing_line_color='green',\n",
    "            decreasing_line_color='red'\n",
    "            )\n",
    "        ]\n",
    ")\n",
    "\n",
    "\n",
    "low_time = datetime(2018, 10, 31, 2, 30, 0, 0)\n",
    "low_px = 5.90\n",
    "\n",
    "high_time = datetime(2018, 9, 13, 2, 30, 0, 0)\n",
    "high_px = 11.60\n",
    "\n",
    "\n",
    "annotations = []\n",
    "annotations.append(go.layout.Annotation(x=low_time,\n",
    "                                        y=low_px,\n",
    "                                        showarrow=True,\n",
    "                                        arrowhead=1,\n",
    "                                        arrowcolor=\"red\",\n",
    "                                        arrowsize=3,\n",
    "                                        arrowwidth=2,\n",
    "                                        text=\"Low\"))\n",
    "\n",
    "annotations.append(go.layout.Annotation(x=high_time,\n",
    "                                        y=high_px,\n",
    "                                        showarrow=True,\n",
    "                                        arrowhead=1,\n",
    "                                        arrowcolor=\"green\",\n",
    "                                        arrowsize=3,\n",
    "                                        arrowwidth=2,\n",
    "                                        text=\"High\"))\n",
    "\n",
    "figure_2.update_layout(\n",
    "    title='2018(Sep-Dec)',\n",
    "    yaxis_title='NIO Stock',\n",
    "    annotations=annotations\n",
    "    \n",
    ")\n",
    "\n",
    "\n",
    "figure_2.show()"
   ]
  },
  {
   "cell_type": "markdown",
   "metadata": {},
   "source": [
    "During this period\n",
    "- First open price was 6$\n",
    "\n",
    "- Last close price was 6.37$\n",
    "\n",
    "- lowest price was 5.90$ on 2018-10-31\n",
    "\n",
    "- Highest price was 11.60$ on 2018-9-13\n",
    "\n",
    "**This period was Bearish, the stock dipped**"
   ]
  },
  {
   "cell_type": "code",
   "execution_count": null,
   "metadata": {},
   "outputs": [],
   "source": []
  },
  {
   "cell_type": "markdown",
   "metadata": {},
   "source": [
    "## Year 2019 First Half"
   ]
  },
  {
   "cell_type": "code",
   "execution_count": null,
   "metadata": {},
   "outputs": [],
   "source": [
    "figure_3 = go.Figure(\n",
    "        data=[\n",
    "            go.Candlestick(\n",
    "            x = Second_H.index,\n",
    "            low = Second_H['Low'],\n",
    "            high = Second_H['High'],\n",
    "            open = Second_H['Open'],\n",
    "            close = Second_H['Close'],\n",
    "            increasing_line_color='green',\n",
    "            decreasing_line_color='red'\n",
    "            )\n",
    "        ]\n",
    ")\n",
    "\n",
    "\n",
    "low_time = datetime(2019, 6, 14, 2, 30, 0, 0)\n",
    "low_px = 2.42\n",
    "\n",
    "high_time = datetime(2019, 3, 5, 2, 30, 0, 0)\n",
    "high_px = 10.16\n",
    "\n",
    "\n",
    "annotations = []\n",
    "annotations.append(go.layout.Annotation(x=low_time,\n",
    "                                        y=low_px,\n",
    "                                        showarrow=True,\n",
    "                                        arrowhead=1,\n",
    "                                        arrowcolor=\"red\",\n",
    "                                        arrowsize=3,\n",
    "                                        arrowwidth=2,\n",
    "                                        text=\"Low\"))\n",
    "\n",
    "annotations.append(go.layout.Annotation(x=high_time,\n",
    "                                        y=high_px,\n",
    "                                        showarrow=True,\n",
    "                                        arrowhead=1,\n",
    "                                        arrowcolor=\"green\",\n",
    "                                        arrowsize=3,\n",
    "                                        arrowwidth=2,\n",
    "                                        text=\"High\"))\n",
    "\n",
    "\n",
    "figure_3.update_layout(\n",
    "    title='2019(Jan-June)',\n",
    "    yaxis_title='NIO Stock',\n",
    "    annotations=annotations\n",
    ")\n",
    "\n",
    "figure_3.show()"
   ]
  },
  {
   "cell_type": "markdown",
   "metadata": {},
   "source": [
    "During this period\n",
    "- First open price was 6.13$\n",
    "\n",
    "- Last close price was 2.55$\n",
    "\n",
    "- lowest price was 2.42$ on 2019-6-14\n",
    "\n",
    "- Highest price was 10.16$ on 2019-3-5\n",
    "\n",
    "**This period was Bullish, the stock gained**"
   ]
  },
  {
   "cell_type": "code",
   "execution_count": null,
   "metadata": {},
   "outputs": [],
   "source": []
  },
  {
   "cell_type": "markdown",
   "metadata": {},
   "source": [
    "## Year 2019 Second Half"
   ]
  },
  {
   "cell_type": "code",
   "execution_count": null,
   "metadata": {},
   "outputs": [],
   "source": [
    "figure_4 = go.Figure(\n",
    "        data=[\n",
    "            go.Candlestick(\n",
    "            x = Third_H.index,\n",
    "            low = Third_H['Low'],\n",
    "            high = Third_H['High'],\n",
    "            open = Third_H['Open'],\n",
    "            close = Third_H['Close'],\n",
    "            increasing_line_color='green',\n",
    "            decreasing_line_color='red'\n",
    "            )\n",
    "        ]\n",
    ")\n",
    "\n",
    "\n",
    "low_time = datetime(2019, 10, 1, 2, 30, 0, 0)\n",
    "low_px = 1.32\n",
    "\n",
    "high_time = datetime(2019, 12, 31, 2, 30, 0, 0)\n",
    "high_px = 4.02\n",
    "\n",
    "\n",
    "annotations = []\n",
    "annotations.append(go.layout.Annotation(x=low_time,\n",
    "                                        y=low_px,\n",
    "                                        showarrow=True,\n",
    "                                        arrowhead=1,\n",
    "                                        arrowcolor=\"red\",\n",
    "                                        arrowsize=3,\n",
    "                                        arrowwidth=2,\n",
    "                                        text=\"Low\"))\n",
    "\n",
    "annotations.append(go.layout.Annotation(x=high_time,\n",
    "                                        y=high_px,\n",
    "                                        showarrow=True,\n",
    "                                        arrowhead=1,\n",
    "                                        arrowcolor=\"green\",\n",
    "                                        arrowsize=3,\n",
    "                                        arrowwidth=2,\n",
    "                                        text=\"High\"))\n",
    "    \n",
    "    \n",
    "    \n",
    "    \n",
    "\n",
    "\n",
    "figure_4.update_layout(\n",
    "    title='2019(July-Dec)',\n",
    "    yaxis_title='NIO Stock',\n",
    "    annotations=annotations\n",
    ")\n",
    "\n",
    "figure_4.show()"
   ]
  },
  {
   "cell_type": "markdown",
   "metadata": {},
   "source": [
    "During this period\n",
    "- First open price was 2.98$\n",
    "\n",
    "- Last close price was 1.32$\n",
    "\n",
    "- lowest price was 2.42$ on 2019-10-1\n",
    "\n",
    "- Highest price was 4.02$ on 2019-12-31\n",
    "\n",
    "**This period was Bearish, the stock dipped**"
   ]
  },
  {
   "cell_type": "code",
   "execution_count": null,
   "metadata": {},
   "outputs": [],
   "source": []
  },
  {
   "cell_type": "markdown",
   "metadata": {},
   "source": [
    "## Year 2020 First Half"
   ]
  },
  {
   "cell_type": "code",
   "execution_count": null,
   "metadata": {},
   "outputs": [],
   "source": [
    "figure_5 = go.Figure(\n",
    "        data=[\n",
    "            go.Candlestick(\n",
    "            x = Fourth_H.index,\n",
    "            low = Fourth_H['Low'],\n",
    "            high = Fourth_H['High'],\n",
    "            open = Fourth_H['Open'],\n",
    "            close = Fourth_H['Close'],\n",
    "            increasing_line_color='green',\n",
    "            decreasing_line_color='red'\n",
    "            )\n",
    "        ]\n",
    ")\n",
    "\n",
    "\n",
    "\n",
    "low_time = datetime(2020, 3, 23, 2, 30, 0, 0)\n",
    "low_px = 2.37\n",
    "\n",
    "high_time = datetime(2020, 6, 30, 2, 30, 0, 0)\n",
    "high_px = 7.72\n",
    "\n",
    "\n",
    "annotations = []\n",
    "annotations.append(go.layout.Annotation(x=low_time,\n",
    "                                        y=low_px,\n",
    "                                        showarrow=True,\n",
    "                                        arrowhead=1,\n",
    "                                        arrowcolor=\"red\",\n",
    "                                        arrowsize=3,\n",
    "                                        arrowwidth=2,\n",
    "                                        text=\"Low\"))\n",
    "\n",
    "annotations.append(go.layout.Annotation(x=high_time,\n",
    "                                        y=high_px,\n",
    "                                        showarrow=True,\n",
    "                                        arrowhead=1,\n",
    "                                        arrowcolor=\"green\",\n",
    "                                        arrowsize=3,\n",
    "                                        arrowwidth=2,\n",
    "                                        text=\"High\"))\n",
    "    \n",
    "\n",
    "\n",
    "\n",
    "figure_5.update_layout(\n",
    "    title='2020(Jan-June)',\n",
    "    yaxis_title='NIO Stock',\n",
    "    annotations=annotations,\n",
    ")\n",
    "\n",
    "figure_5.show()"
   ]
  },
  {
   "cell_type": "markdown",
   "metadata": {},
   "source": [
    "During this period\n",
    "- First open price was 4.1$\n",
    "\n",
    "- Last close price was 7.72$\n",
    "\n",
    "- lowest price was 2.37$ on 2020-3-23\n",
    "\n",
    "- Highest price was 7.72$ on 2020-6-30\n",
    "\n",
    "**This period was Bullish, the stock dipped**"
   ]
  },
  {
   "cell_type": "code",
   "execution_count": null,
   "metadata": {},
   "outputs": [],
   "source": []
  },
  {
   "cell_type": "markdown",
   "metadata": {},
   "source": [
    "## Year 2020 Second Half"
   ]
  },
  {
   "cell_type": "code",
   "execution_count": null,
   "metadata": {},
   "outputs": [],
   "source": [
    "figure_6 = go.Figure(\n",
    "        data=[\n",
    "            go.Candlestick(\n",
    "            x = Fifth_H.index,\n",
    "            low = Fifth_H['Low'],\n",
    "            high = Fifth_H['High'],\n",
    "            open = Fifth_H['Open'],\n",
    "            close = Fifth_H['Close'],\n",
    "            increasing_line_color='green',\n",
    "            decreasing_line_color='red'\n",
    "            )\n",
    "        ]\n",
    ")\n",
    "\n",
    "\n",
    "low_time = datetime(2020, 6, 1, 2, 30, 0, 0)\n",
    "low_px = 4.26\n",
    "\n",
    "high_time = datetime(2020, 11, 23, 2, 30, 0, 0)\n",
    "high_px = 55.38\n",
    "\n",
    "\n",
    "annotations = []\n",
    "annotations.append(go.layout.Annotation(x=low_time,\n",
    "                                        y=low_px,\n",
    "                                        showarrow=True,\n",
    "                                        arrowhead=1,\n",
    "                                        arrowcolor=\"red\",\n",
    "                                        arrowsize=3,\n",
    "                                        arrowwidth=2,\n",
    "                                        text=\"Low\"))\n",
    "\n",
    "annotations.append(go.layout.Annotation(x=high_time,\n",
    "                                        y=high_px,\n",
    "                                        showarrow=True,\n",
    "                                        arrowhead=1,\n",
    "                                        arrowcolor=\"green\",\n",
    "                                        arrowsize=3,\n",
    "                                        arrowwidth=2,\n",
    "                                        text=\"High\"))\n",
    "    \n",
    "\n",
    "\n",
    "figure_6.update_layout(\n",
    "    title='2020(July-Dec)',\n",
    "    yaxis_title='NIO Stock',\n",
    "    shapes = [dict(\n",
    "        x0='2020-08-01', x1='2020-08-03', y0=0, y1=1, xref='x', yref='paper',\n",
    "        line_width=2)],\n",
    "    annotations=[dict(\n",
    "        x='2020-08-03', y=0.05, xref='x', yref='paper',\n",
    "        showarrow=False, xanchor='left', text='Increase Period Begins')]\n",
    ")\n",
    "\n",
    "figure_6.show()"
   ]
  },
  {
   "cell_type": "markdown",
   "metadata": {},
   "source": [
    "During this period\n",
    "- First open price was 4$\n",
    "\n",
    "- Last close price was 48$\n",
    "\n",
    "- lowest price was 4.26$ on 2020-6-1\n",
    "\n",
    "- Highest price was 55.38$ on 2020-11-3\n",
    "\n",
    "**This period was Bullish, the stock gained greatly**"
   ]
  },
  {
   "cell_type": "code",
   "execution_count": null,
   "metadata": {},
   "outputs": [],
   "source": []
  },
  {
   "cell_type": "markdown",
   "metadata": {},
   "source": [
    "## Year 2021 First Half"
   ]
  },
  {
   "cell_type": "code",
   "execution_count": null,
   "metadata": {},
   "outputs": [],
   "source": [
    "figure_7 = go.Figure(\n",
    "        data=[\n",
    "            go.Candlestick(\n",
    "            x = Sixth_H.index,\n",
    "            low = Sixth_H['Low'],\n",
    "            high = Sixth_H['High'],\n",
    "            open = Sixth_H['Open'],\n",
    "            close = Sixth_H['Close'],\n",
    "            increasing_line_color='green',\n",
    "            decreasing_line_color='red'\n",
    "            )\n",
    "        ]\n",
    ")\n",
    "\n",
    "\n",
    "low_time = datetime(2021, 1, 6, 2, 30, 0, 0)\n",
    "low_px = 50.50\n",
    "\n",
    "high_time = datetime(2021, 1, 11, 2, 30, 0, 0)\n",
    "high_px = 62.70\n",
    "\n",
    "\n",
    "annotations = []\n",
    "annotations.append(go.layout.Annotation(x=low_time,\n",
    "                                        y=low_px,\n",
    "                                        showarrow=True,\n",
    "                                        arrowhead=1,\n",
    "                                        arrowcolor=\"red\",\n",
    "                                        arrowsize=3,\n",
    "                                        arrowwidth=2,\n",
    "                                        text=\"Low\"))\n",
    "\n",
    "annotations.append(go.layout.Annotation(x=high_time,\n",
    "                                        y=high_px,\n",
    "                                        showarrow=True,\n",
    "                                        arrowhead=1,\n",
    "                                        arrowcolor=\"green\",\n",
    "                                        arrowsize=3,\n",
    "                                        arrowwidth=2,\n",
    "                                        text=\"High\"))\n",
    "    \n",
    "\n",
    "\n",
    "\n",
    "figure_7.update_layout(\n",
    "    title='2020',\n",
    "    yaxis_title='NIO Stock',\n",
    "    annotations=annotations\n",
    ")\n",
    "\n",
    "figure_7.show()"
   ]
  },
  {
   "cell_type": "markdown",
   "metadata": {},
   "source": [
    "During this period\n",
    "- First open price was 51.2$\n",
    "\n",
    "- Last close price was 57$\n",
    "\n",
    "- lowest price was 50.50$ on 2021-1-6\n",
    "\n",
    "- Highest price was 62.70$ on 2021-1-11\n",
    "\n",
    "**This period was Bullish, the stock gained**"
   ]
  },
  {
   "cell_type": "markdown",
   "metadata": {},
   "source": [
    "### INSIGHTS GOTTEN FROM SOME CASE STUDIES"
   ]
  },
  {
   "cell_type": "markdown",
   "metadata": {},
   "source": [
    "#### Case 1: YEAR 2019"
   ]
  },
  {
   "cell_type": "markdown",
   "metadata": {},
   "source": [
    "**We show a candle plot below for the year 2019 with different moving average values taken into \n",
    "consideration. This helps us to identify the trend direction of a stock as well as to determine\n",
    "its support and resistance levels**"
   ]
  },
  {
   "cell_type": "code",
   "execution_count": null,
   "metadata": {},
   "outputs": [],
   "source": [
    "#plotting candle charts for the year 2019\n",
    "fplt.plot(NIO_2yrs['2019-01':'2019-12'],type='candle',mav=(50,100,200),\n",
    "         title='Nio Price 2019',volume=True,style='yahoo',figratio=(20,12),tight_layout=True)"
   ]
  },
  {
   "cell_type": "markdown",
   "metadata": {},
   "source": [
    "**we notice here that the higher the volume leads to increase in price while the reduction in volume brings about a reduction in price**. Trading volume is a measure of how much of a given financial asset has traded in a period of time. For stocks, volume is measured in the number of shares traded and, for futures and options, it is based on how many contracts have changed hands, While the same shares may be traded back and forth multiple times, the volume is counted on each transaction. **High Volume: Generally good stocks have high volume, which reduces liquidity risk. More people are trading these stocks indicate more people want them in their portfolio**"
   ]
  },
  {
   "cell_type": "markdown",
   "metadata": {},
   "source": [
    "#### Case 2: JULY to DECEMBER 2020"
   ]
  },
  {
   "cell_type": "code",
   "execution_count": null,
   "metadata": {
    "scrolled": false
   },
   "outputs": [],
   "source": [
    "NIO_2020_july_dec = NIO_2yrs[\"2020-07-1\":\"2020-12-31\"]\n",
    "\n",
    "\n",
    "fplt.plot(NIO_2020_july_dec,\n",
    "            type='candle',\n",
    "            style='charles',\n",
    "            title='NIO_2020_july_dec',\n",
    "            ylabel='Price ($)'\n",
    "        )"
   ]
  },
  {
   "cell_type": "markdown",
   "metadata": {},
   "source": [
    "**Momentum built for NIO stock amid signs that the Chinese government would make a powerful push to transition the country to electric vehicles. The company also posted strong vehicle delivery numbers, and its monthly delivery updates across july to december showed impressive growth for the business which can be seen vividly in the graphs.**\n"
   ]
  },
  {
   "cell_type": "markdown",
   "metadata": {},
   "source": [
    "#### Case 3: YEAR 2021"
   ]
  },
  {
   "cell_type": "code",
   "execution_count": null,
   "metadata": {},
   "outputs": [],
   "source": [
    "#plotting candle charts for january 2021\n",
    "fplt.plot(NIO_2yrs['2021-01'],type='candle',mav=(20),\n",
    "         title='Nio Price 2021',volume=True,style='yahoo',figratio=(20,12),tight_layout=True)"
   ]
  },
  {
   "cell_type": "markdown",
   "metadata": {},
   "source": [
    "Government subsidies for EV buyers have helped accelerate the growth of the industry in China, and contributed to substantial momentum for NIO. Purchase subsidies were also tied to performance metrics that should correspond with reduced pollution, and NIO vehicles generally performed well in the relevant categories. However, China's Ministry of Finance recently cut subsidies by 20% for 2021 in response to signs of improving organic adoption for EVs, and it remains to be seen how this might impact momentum in the short term\n",
    "\n",
    "**NIO stock has continued to make gains early in 2021**"
   ]
  },
  {
   "cell_type": "markdown",
   "metadata": {},
   "source": [
    "#### Case 4: YEAR 2020"
   ]
  },
  {
   "cell_type": "code",
   "execution_count": null,
   "metadata": {},
   "outputs": [],
   "source": [
    "#boxplot showing volumes of data sold on each day of the week for the year 2020\n",
    "order=['Monday','Tuesday','Wednesday','Thursday','Friday']\n",
    "sns.set(rc={'figure.figsize':(15,7)})\n",
    "sns.boxplot(data=NIO_2yrs['2020-01':'2020-12'],x='Weekday',y='Volume',order=order);"
   ]
  },
  {
   "cell_type": "markdown",
   "metadata": {},
   "source": [
    "**Large stock volumes were mostly traded on Wednesday in the year 2020** "
   ]
  },
  {
   "cell_type": "markdown",
   "metadata": {},
   "source": [
    "**Now, we take a look at the correlation of this data**"
   ]
  },
  {
   "cell_type": "code",
   "execution_count": null,
   "metadata": {},
   "outputs": [],
   "source": [
    "#Correlation Matrix\n",
    "corr = NIO_2yrs.corr()\n",
    "sns.heatmap(corr,annot=True,cmap='seismic',\n",
    "            xticklabels=corr.columns.values,\n",
    "            yticklabels=corr.columns.values)\n",
    "plt.title('Heatmap of Correlation Matrix')\n",
    "plt.show();\n",
    "print(corr)"
   ]
  },
  {
   "cell_type": "markdown",
   "metadata": {},
   "source": [
    "**There is high correlation between the prices , only volume has \n",
    "moderate or low correlation with the remaining price columns**"
   ]
  },
  {
   "cell_type": "code",
   "execution_count": null,
   "metadata": {},
   "outputs": [],
   "source": []
  },
  {
   "cell_type": "markdown",
   "metadata": {},
   "source": [
    "# [8. Modelling](#pp)"
   ]
  },
  {
   "cell_type": "markdown",
   "metadata": {},
   "source": [
    "# [9. Conclusion](#conc)"
   ]
  },
  {
   "cell_type": "code",
   "execution_count": null,
   "metadata": {},
   "outputs": [],
   "source": []
  }
 ],
 "metadata": {
  "kernelspec": {
   "display_name": "Python 3",
   "language": "python",
   "name": "python3"
  },
  "language_info": {
   "codemirror_mode": {
    "name": "ipython",
    "version": 3
   },
   "file_extension": ".py",
   "mimetype": "text/x-python",
   "name": "python",
   "nbconvert_exporter": "python",
   "pygments_lexer": "ipython3",
   "version": "3.7.6"
  }
 },
 "nbformat": 4,
 "nbformat_minor": 4
}
